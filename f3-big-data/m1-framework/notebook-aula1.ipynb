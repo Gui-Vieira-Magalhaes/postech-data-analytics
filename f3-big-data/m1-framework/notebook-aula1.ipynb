{
 "cells": [
  {
   "cell_type": "markdown",
   "metadata": {},
   "source": [
    "# Aula 1 - Conhecendo o Spark\n",
    "\n",
    "O Apache Spark é um framework de processamento de dados distribuídos, altamente eficiente para lidar com grandes volumes de dados. Ele se destaca pelo seu desempenho rápido, principalmente devido ao processamento em memória, e oferece suporte para diversas tarefas de análise de dados, machine learning e processamento de fluxos contínuos. Amplamente adotado em diversos setores, o Spark facilita a manipulação de dados em grande escala, com uma API flexível e suporte para várias linguagens de programação."
   ]
  },
  {
   "cell_type": "code",
   "execution_count": 46,
   "metadata": {},
   "outputs": [],
   "source": [
    "from pyspark.sql import SparkSession\n",
    "\n",
    "from pyspark.sql import Row, DataFrame\n",
    "from pyspark.sql.types import StringType, StructType, StructField, IntegerType\n",
    "from pyspark.sql.functions import col, expr, lit, substring, concat, concat_ws, when, coalesce\n",
    "from pyspark.sql import functions as F\n",
    "from functools import reduce"
   ]
  },
  {
   "cell_type": "markdown",
   "metadata": {},
   "source": [
    "Inicializando o Apache Spark"
   ]
  },
  {
   "cell_type": "code",
   "execution_count": 1,
   "metadata": {},
   "outputs": [],
   "source": [
    "spark = SparkSession.builder \\\n",
    "      .master(\"local[*]\") \\\n",
    "      .appName(\"postech\") \\\n",
    "      .getOrCreate()"
   ]
  },
  {
   "cell_type": "markdown",
   "metadata": {},
   "source": [
    "Vamos testar a conexão com o Spark"
   ]
  },
  {
   "cell_type": "code",
   "execution_count": 7,
   "metadata": {},
   "outputs": [
    {
     "name": "stdout",
     "output_type": "stream",
     "text": [
      "+--------------------+\n",
      "|               hello|\n",
      "+--------------------+\n",
      "|Sucesso total, es...|\n",
      "+--------------------+\n",
      "\n"
     ]
    }
   ],
   "source": [
    "df = spark.sql(\"SELECT 'Sucesso total, estamos online!' AS hello\")\n",
    "df.show()"
   ]
  },
  {
   "cell_type": "markdown",
   "metadata": {},
   "source": [
    "## Manipulação de dados"
   ]
  },
  {
   "cell_type": "code",
   "execution_count": 8,
   "metadata": {},
   "outputs": [
    {
     "name": "stdout",
     "output_type": "stream",
     "text": [
      "df.count 553\n",
      "df.col ct 7\n",
      "df.columns ['Bank Name', 'City', 'ST', 'CERT', 'Acquiring Institution', 'Closing Date', 'Updated Date']\n"
     ]
    }
   ],
   "source": [
    "df = spark.read.csv('data/banklist.csv', sep = ',', inferSchema = True, header = True)\n",
    "\n",
    "print(f\"df.count {df.count()}\")\n",
    "print(f\"df.col ct {len(df.columns)}\")\n",
    "print(f\"df.columns {df.columns}\")"
   ]
  },
  {
   "cell_type": "markdown",
   "metadata": {},
   "source": [
    "É possível fazermos consultas nos dados utilizando Linguagem SQL:"
   ]
  },
  {
   "cell_type": "code",
   "execution_count": 12,
   "metadata": {},
   "outputs": [
    {
     "name": "stdout",
     "output_type": "stream",
     "text": [
      "+------------------------------------------------------+------------------+------------+\n",
      "|Bank Name                                             |City              |Closing Date|\n",
      "+------------------------------------------------------+------------------+------------+\n",
      "|Fayette County Bank                                   |Saint Elmo        |26-May-17   |\n",
      "|Guaranty Bank, (d/b/a BestBank in Georgia & Michigan) |Milwaukee         |5-May-17    |\n",
      "|First NBC Bank                                        |New Orleans       |28-Apr-17   |\n",
      "|Proficio Bank                                         |Cottonwood Heights|3-Mar-17    |\n",
      "|Seaway Bank and Trust Company                         |Chicago           |27-Jan-17   |\n",
      "+------------------------------------------------------+------------------+------------+\n",
      "only showing top 5 rows\n",
      "\n"
     ]
    }
   ],
   "source": [
    "df.createOrReplaceTempView('banklist')\n",
    "\n",
    "df_check = spark.sql(\"SELECT `Bank Name`, City, `Closing Date` from banklist\")\n",
    "df_check.show(5, truncate=False)"
   ]
  },
  {
   "cell_type": "markdown",
   "metadata": {},
   "source": [
    "### Funções Básicas"
   ]
  },
  {
   "cell_type": "markdown",
   "metadata": {},
   "source": [
    "Existem comando semelhantes ao Pandas e Polars, como o describe"
   ]
  },
  {
   "cell_type": "code",
   "execution_count": 6,
   "metadata": {},
   "outputs": [
    {
     "name": "stdout",
     "output_type": "stream",
     "text": [
      "+-------+--------------------+-------+----+-----------------+---------------------+------------+------------+\n",
      "|summary|           Bank Name|   City|  ST|             CERT|Acquiring Institution|Closing Date|Updated Date|\n",
      "+-------+--------------------+-------+----+-----------------+---------------------+------------+------------+\n",
      "|  count|                 553|    553| 553|              553|                  553|         553|         553|\n",
      "|   mean|                NULL|   NULL|NULL|31729.65280289331|                 NULL|        NULL|        NULL|\n",
      "| stddev|                NULL|   NULL|NULL|16420.59489355429|                 NULL|        NULL|        NULL|\n",
      "|    min|1st American Stat...|Acworth|  AL|               91|      1st United Bank|    1-Aug-08|    1-Aug-13|\n",
      "|    max|               ebank|Wyoming|  WY|            58701|  Your Community Bank|    9-Sep-11|    9-Sep-12|\n",
      "+-------+--------------------+-------+----+-----------------+---------------------+------------+------------+\n",
      "\n"
     ]
    }
   ],
   "source": [
    "df.describe().show()"
   ]
  },
  {
   "cell_type": "markdown",
   "metadata": {},
   "source": [
    "Podemos executar o comando apenas em algumas colunas"
   ]
  },
  {
   "cell_type": "code",
   "execution_count": 13,
   "metadata": {},
   "outputs": [
    {
     "name": "stdout",
     "output_type": "stream",
     "text": [
      "+-------+-------+----+\n",
      "|summary|   City|  ST|\n",
      "+-------+-------+----+\n",
      "|  count|    553| 553|\n",
      "|   mean|   NULL|NULL|\n",
      "| stddev|   NULL|NULL|\n",
      "|    min|Acworth|  AL|\n",
      "|    max|Wyoming|  WY|\n",
      "+-------+-------+----+\n",
      "\n"
     ]
    }
   ],
   "source": [
    "df.describe('City', 'ST').show()"
   ]
  },
  {
   "cell_type": "markdown",
   "metadata": {},
   "source": [
    "Existem outras funções que podemos extrair metadados do nosso dataframe"
   ]
  },
  {
   "cell_type": "code",
   "execution_count": 15,
   "metadata": {},
   "outputs": [
    {
     "name": "stdout",
     "output_type": "stream",
     "text": [
      "Count: 553\n",
      "Columns: ['Bank Name', 'City', 'ST', 'CERT', 'Acquiring Institution', 'Closing Date', 'Updated Date']\n",
      "DTypes: [('Bank Name', 'string'), ('City', 'string'), ('ST', 'string'), ('CERT', 'int'), ('Acquiring Institution', 'string'), ('Closing Date', 'string'), ('Updated Date', 'string')]\n",
      "Schema: StructType([StructField('Bank Name', StringType(), True), StructField('City', StringType(), True), StructField('ST', StringType(), True), StructField('CERT', IntegerType(), True), StructField('Acquiring Institution', StringType(), True), StructField('Closing Date', StringType(), True), StructField('Updated Date', StringType(), True)])\n"
     ]
    }
   ],
   "source": [
    "print(f\"Count: {df.count()}\")\n",
    "print(f\"Columns: {df.columns}\")\n",
    "print(f\"DTypes: {df.dtypes}\")\n",
    "print(f\"Schema: {df.schema}\")"
   ]
  },
  {
   "cell_type": "markdown",
   "metadata": {},
   "source": [
    "Conseguimos visualizar o Schema do nosso DataFrame de uma forma mais clara:"
   ]
  },
  {
   "cell_type": "code",
   "execution_count": 16,
   "metadata": {},
   "outputs": [
    {
     "name": "stdout",
     "output_type": "stream",
     "text": [
      "root\n",
      " |-- Bank Name: string (nullable = true)\n",
      " |-- City: string (nullable = true)\n",
      " |-- ST: string (nullable = true)\n",
      " |-- CERT: integer (nullable = true)\n",
      " |-- Acquiring Institution: string (nullable = true)\n",
      " |-- Closing Date: string (nullable = true)\n",
      " |-- Updated Date: string (nullable = true)\n",
      "\n"
     ]
    }
   ],
   "source": [
    "df.printSchema()"
   ]
  },
  {
   "cell_type": "markdown",
   "metadata": {},
   "source": [
    "Podemos também remover registros duplicados"
   ]
  },
  {
   "cell_type": "code",
   "execution_count": 17,
   "metadata": {},
   "outputs": [
    {
     "name": "stdout",
     "output_type": "stream",
     "text": [
      "Count: 553\n"
     ]
    }
   ],
   "source": [
    "df = df.dropDuplicates()\n",
    "print(f\"Count: {df.count()}\")"
   ]
  },
  {
   "cell_type": "markdown",
   "metadata": {},
   "source": [
    "### Selecionar Colunas específicas"
   ]
  },
  {
   "cell_type": "markdown",
   "metadata": {},
   "source": [
    "Podemos passar uma lista de colunas ou apenas os nomes separados por virgula"
   ]
  },
  {
   "cell_type": "code",
   "execution_count": 20,
   "metadata": {},
   "outputs": [
    {
     "name": "stdout",
     "output_type": "stream",
     "text": [
      "+------------------------------------------------------------------------------------------+----------+\n",
      "|Bank Name                                                                                 |City      |\n",
      "+------------------------------------------------------------------------------------------+----------+\n",
      "|InBank                                                                                    |Oak Forest|\n",
      "|Bank of Alamo                                                                             |Alamo     |\n",
      "|First Community Bank of Southwest Florida (also operating as Community Bank of Cape Coral)|Fort Myers|\n",
      "|The National Republic Bank of Chicago                                                     |Chicago   |\n",
      "|NOVA Bank                                                                                 |Berwyn    |\n",
      "+------------------------------------------------------------------------------------------+----------+\n",
      "only showing top 5 rows\n",
      "\n"
     ]
    }
   ],
   "source": [
    "df2 = df.select(['Bank Name', 'City'])\n",
    "df2.show(5, truncate=False)"
   ]
  },
  {
   "cell_type": "code",
   "execution_count": 21,
   "metadata": {},
   "outputs": [
    {
     "name": "stdout",
     "output_type": "stream",
     "text": [
      "+------------------------------------------------------------------------------------------+----------+\n",
      "|Bank Name                                                                                 |City      |\n",
      "+------------------------------------------------------------------------------------------+----------+\n",
      "|InBank                                                                                    |Oak Forest|\n",
      "|Bank of Alamo                                                                             |Alamo     |\n",
      "|First Community Bank of Southwest Florida (also operating as Community Bank of Cape Coral)|Fort Myers|\n",
      "|The National Republic Bank of Chicago                                                     |Chicago   |\n",
      "|NOVA Bank                                                                                 |Berwyn    |\n",
      "+------------------------------------------------------------------------------------------+----------+\n",
      "only showing top 5 rows\n",
      "\n"
     ]
    }
   ],
   "source": [
    "df2 = df.select('Bank Name', 'City')\n",
    "df2.show(5, truncate=False)"
   ]
  },
  {
   "cell_type": "markdown",
   "metadata": {},
   "source": [
    "Podemos selecionar todas as colunas com algumas excessões usando o seguinte truque:"
   ]
  },
  {
   "cell_type": "code",
   "execution_count": 35,
   "metadata": {},
   "outputs": [
    {
     "name": "stdout",
     "output_type": "stream",
     "text": [
      "+----------+---------------------+--------------------+------------+------------+\n",
      "|      City|Acquiring Institution|           Bank Name|Updated Date|Closing Date|\n",
      "+----------+---------------------+--------------------+------------+------------+\n",
      "|Oak Forest| MB Financial Bank...|              InBank|   17-Oct-15|    4-Sep-09|\n",
      "|     Alamo|          No Acquirer|       Bank of Alamo|   18-Mar-05|    8-Nov-02|\n",
      "|Fort Myers|              C1 Bank|First Community B...|    9-Feb-17|    2-Aug-13|\n",
      "|   Chicago|  State Bank of Texas|The National Repu...|    6-Jan-16|   24-Oct-14|\n",
      "|    Berwyn|          No Acquirer|           NOVA Bank|   24-Jan-13|   26-Oct-12|\n",
      "+----------+---------------------+--------------------+------------+------------+\n",
      "only showing top 5 rows\n",
      "\n"
     ]
    }
   ],
   "source": [
    "col = list(set(df.columns) - set(['CERT', 'ST']))\n",
    "df2 = df.select(col)\n",
    "df2.show(5, truncate=True)"
   ]
  },
  {
   "cell_type": "markdown",
   "metadata": {},
   "source": [
    "### Renomeando, Adicionando e Excluíndo Colunas"
   ]
  },
  {
   "cell_type": "markdown",
   "metadata": {},
   "source": [
    "Usamos a função `withColumnRenamed` para renomear colunas"
   ]
  },
  {
   "cell_type": "code",
   "execution_count": 39,
   "metadata": {},
   "outputs": [
    {
     "name": "stdout",
     "output_type": "stream",
     "text": [
      "+--------------------+----------+-----+-----+---------------------+------------+-----------+\n",
      "|           bank_name|      city|state| cert|acquiring_institution|closing_date|update_date|\n",
      "+--------------------+----------+-----+-----+---------------------+------------+-----------+\n",
      "|              InBank|Oak Forest|   IL|20203| MB Financial Bank...|    4-Sep-09|  17-Oct-15|\n",
      "|       Bank of Alamo|     Alamo|   TN| 9961|          No Acquirer|    8-Nov-02|  18-Mar-05|\n",
      "|First Community B...|Fort Myers|   FL|34943|              C1 Bank|    2-Aug-13|   9-Feb-17|\n",
      "|The National Repu...|   Chicago|   IL|  916|  State Bank of Texas|   24-Oct-14|   6-Jan-16|\n",
      "|           NOVA Bank|    Berwyn|   PA|27148|          No Acquirer|   26-Oct-12|  24-Jan-13|\n",
      "+--------------------+----------+-----+-----+---------------------+------------+-----------+\n",
      "only showing top 5 rows\n",
      "\n"
     ]
    }
   ],
   "source": [
    "df2 = df \\\n",
    "    .withColumnRenamed('Bank Name',                 'bank_name') \\\n",
    "    .withColumnRenamed('City',                      'city') \\\n",
    "    .withColumnRenamed('ST',                        'state') \\\n",
    "    .withColumnRenamed('CERT',                      'cert') \\\n",
    "    .withColumnRenamed('Acquiring Institution',     'acquiring_institution') \\\n",
    "    .withColumnRenamed('Closing Date',              'closing_date') \\\n",
    "    .withColumnRenamed('Updated Date',              'update_date')\n",
    "\n",
    "df2.show(5, truncate=True)"
   ]
  },
  {
   "cell_type": "markdown",
   "metadata": {},
   "source": [
    "Usamos a função `withColumn` para criar uma nova coluna"
   ]
  },
  {
   "cell_type": "code",
   "execution_count": 48,
   "metadata": {},
   "outputs": [
    {
     "name": "stdout",
     "output_type": "stream",
     "text": [
      "+--------------------+----------+---+-----+---------------------+------------+------------+-----+\n",
      "|           Bank Name|      City| ST| CERT|Acquiring Institution|Closing Date|Updated Date|state|\n",
      "+--------------------+----------+---+-----+---------------------+------------+------------+-----+\n",
      "|              InBank|Oak Forest| IL|20203| MB Financial Bank...|    4-Sep-09|   17-Oct-15|   IL|\n",
      "|       Bank of Alamo|     Alamo| TN| 9961|          No Acquirer|    8-Nov-02|   18-Mar-05|   TN|\n",
      "|First Community B...|Fort Myers| FL|34943|              C1 Bank|    2-Aug-13|    9-Feb-17|   FL|\n",
      "|The National Repu...|   Chicago| IL|  916|  State Bank of Texas|   24-Oct-14|    6-Jan-16|   IL|\n",
      "|           NOVA Bank|    Berwyn| PA|27148|          No Acquirer|   26-Oct-12|   24-Jan-13|   PA|\n",
      "+--------------------+----------+---+-----+---------------------+------------+------------+-----+\n",
      "only showing top 5 rows\n",
      "\n"
     ]
    }
   ],
   "source": [
    "df.withColumn('state', col('ST')).show(5)"
   ]
  },
  {
   "cell_type": "markdown",
   "metadata": {},
   "source": [
    "Podemos adicionar uma coluna com um valor constante"
   ]
  },
  {
   "cell_type": "code",
   "execution_count": 49,
   "metadata": {},
   "outputs": [
    {
     "name": "stdout",
     "output_type": "stream",
     "text": [
      "+--------------------+----------+---+-----+---------------------+------------+------------+-------+\n",
      "|           Bank Name|      City| ST| CERT|Acquiring Institution|Closing Date|Updated Date|country|\n",
      "+--------------------+----------+---+-----+---------------------+------------+------------+-------+\n",
      "|              InBank|Oak Forest| IL|20203| MB Financial Bank...|    4-Sep-09|   17-Oct-15|    EUA|\n",
      "|       Bank of Alamo|     Alamo| TN| 9961|          No Acquirer|    8-Nov-02|   18-Mar-05|    EUA|\n",
      "|First Community B...|Fort Myers| FL|34943|              C1 Bank|    2-Aug-13|    9-Feb-17|    EUA|\n",
      "|The National Repu...|   Chicago| IL|  916|  State Bank of Texas|   24-Oct-14|    6-Jan-16|    EUA|\n",
      "|           NOVA Bank|    Berwyn| PA|27148|          No Acquirer|   26-Oct-12|   24-Jan-13|    EUA|\n",
      "+--------------------+----------+---+-----+---------------------+------------+------------+-------+\n",
      "only showing top 5 rows\n",
      "\n"
     ]
    }
   ],
   "source": [
    "df.withColumn('country', lit('EUA')).show(5)"
   ]
  },
  {
   "cell_type": "markdown",
   "metadata": {},
   "source": [
    "Para excluir uma coluna usamos `drop` ou `reduce` em conjunto com o comando drop"
   ]
  },
  {
   "cell_type": "code",
   "execution_count": 51,
   "metadata": {},
   "outputs": [
    {
     "name": "stdout",
     "output_type": "stream",
     "text": [
      "+--------------------+----------+---------------------+------------+------------+\n",
      "|           Bank Name|      City|Acquiring Institution|Closing Date|Updated Date|\n",
      "+--------------------+----------+---------------------+------------+------------+\n",
      "|              InBank|Oak Forest| MB Financial Bank...|    4-Sep-09|   17-Oct-15|\n",
      "|       Bank of Alamo|     Alamo|          No Acquirer|    8-Nov-02|   18-Mar-05|\n",
      "|First Community B...|Fort Myers|              C1 Bank|    2-Aug-13|    9-Feb-17|\n",
      "|The National Repu...|   Chicago|  State Bank of Texas|   24-Oct-14|    6-Jan-16|\n",
      "|           NOVA Bank|    Berwyn|          No Acquirer|   26-Oct-12|   24-Jan-13|\n",
      "+--------------------+----------+---------------------+------------+------------+\n",
      "only showing top 5 rows\n",
      "\n"
     ]
    }
   ],
   "source": [
    "df.drop('ST', 'CERT').show(5)"
   ]
  },
  {
   "cell_type": "code",
   "execution_count": 52,
   "metadata": {},
   "outputs": [
    {
     "name": "stdout",
     "output_type": "stream",
     "text": [
      "+--------------------+----------+---------------------+------------+------------+\n",
      "|           Bank Name|      City|Acquiring Institution|Closing Date|Updated Date|\n",
      "+--------------------+----------+---------------------+------------+------------+\n",
      "|              InBank|Oak Forest| MB Financial Bank...|    4-Sep-09|   17-Oct-15|\n",
      "|       Bank of Alamo|     Alamo|          No Acquirer|    8-Nov-02|   18-Mar-05|\n",
      "|First Community B...|Fort Myers|              C1 Bank|    2-Aug-13|    9-Feb-17|\n",
      "|The National Repu...|   Chicago|  State Bank of Texas|   24-Oct-14|    6-Jan-16|\n",
      "|           NOVA Bank|    Berwyn|          No Acquirer|   26-Oct-12|   24-Jan-13|\n",
      "+--------------------+----------+---------------------+------------+------------+\n",
      "only showing top 5 rows\n",
      "\n"
     ]
    }
   ],
   "source": [
    "reduce(DataFrame.drop, ['ST', 'CERT'], df).show(5)"
   ]
  },
  {
   "cell_type": "markdown",
   "metadata": {},
   "source": [
    "### Filtragem de Dados"
   ]
  },
  {
   "cell_type": "markdown",
   "metadata": {},
   "source": [
    "Para aplicarmos filtros no dataframe utilizamos a função `where`"
   ]
  },
  {
   "cell_type": "code",
   "execution_count": 53,
   "metadata": {},
   "outputs": [
    {
     "name": "stdout",
     "output_type": "stream",
     "text": [
      "+--------------------+----------+---+-----+---------------------+------------+------------+\n",
      "|           Bank Name|      City| ST| CERT|Acquiring Institution|Closing Date|Updated Date|\n",
      "+--------------------+----------+---+-----+---------------------+------------+------------+\n",
      "|              InBank|Oak Forest| IL|20203| MB Financial Bank...|    4-Sep-09|   17-Oct-15|\n",
      "|The National Repu...|   Chicago| IL|  916|  State Bank of Texas|   24-Oct-14|    6-Jan-16|\n",
      "|First National Ba...|  Danville| IL| 3644| First Financial B...|    2-Jul-09|   20-Aug-12|\n",
      "|    Bank of Illinois|    Normal| IL| 9268| Heartland Bank an...|    5-Mar-10|   23-Aug-12|\n",
      "|       Meridian Bank|    Eldred| IL|13789|        National Bank|   10-Oct-08|   31-May-12|\n",
      "+--------------------+----------+---+-----+---------------------+------------+------------+\n",
      "only showing top 5 rows\n",
      "\n"
     ]
    }
   ],
   "source": [
    "df.where(col('ST') == 'IL').show(5)"
   ]
  },
  {
   "cell_type": "code",
   "execution_count": 54,
   "metadata": {},
   "outputs": [
    {
     "name": "stdout",
     "output_type": "stream",
     "text": [
      "+--------------------+----------+---+-----+---------------------+------------+------------+\n",
      "|           Bank Name|      City| ST| CERT|Acquiring Institution|Closing Date|Updated Date|\n",
      "+--------------------+----------+---+-----+---------------------+------------+------------+\n",
      "|              InBank|Oak Forest| IL|20203| MB Financial Bank...|    4-Sep-09|   17-Oct-15|\n",
      "|The National Repu...|   Chicago| IL|  916|  State Bank of Texas|   24-Oct-14|    6-Jan-16|\n",
      "|First National Ba...|  Danville| IL| 3644| First Financial B...|    2-Jul-09|   20-Aug-12|\n",
      "|    Bank of Illinois|    Normal| IL| 9268| Heartland Bank an...|    5-Mar-10|   23-Aug-12|\n",
      "|       Meridian Bank|    Eldred| IL|13789|        National Bank|   10-Oct-08|   31-May-12|\n",
      "+--------------------+----------+---+-----+---------------------+------------+------------+\n",
      "only showing top 5 rows\n",
      "\n"
     ]
    }
   ],
   "source": [
    "df.where(col('ST').isin('IL', 'CA')).show(5)"
   ]
  },
  {
   "cell_type": "code",
   "execution_count": 57,
   "metadata": {},
   "outputs": [
    {
     "name": "stdout",
     "output_type": "stream",
     "text": [
      "+--------------------+-------------+---+----+---------------------+------------+------------+\n",
      "|           Bank Name|         City| ST|CERT|Acquiring Institution|Closing Date|Updated Date|\n",
      "+--------------------+-------------+---+----+---------------------+------------+------------+\n",
      "|Barnes Banking Co...|    Kaysville| UT|1252|          No Acquirer|   15-Jan-10|   23-Aug-12|\n",
      "|     Mainstreet Bank|  Forest Lake| MN|1909|         Central Bank|   28-Aug-09|   21-Aug-12|\n",
      "|     Bank of Ephraim|      Ephraim| UT|1249|        Far West Bank|   25-Jun-04|    9-Apr-08|\n",
      "| Citizens State Bank|New Baltimore| MI|1006|          No Acquirer|   18-Dec-09|   21-Mar-14|\n",
      "|      Heartland Bank|      Leawood| KS|1361|         Metcalf Bank|   20-Jul-12|   30-Jul-13|\n",
      "|Glasgow Savings Bank|      Glasgow| MO|1056| Regional Missouri...|   13-Jul-12|   19-Aug-14|\n",
      "|           Hume Bank|         Hume| MO|1971|        Security Bank|    7-Mar-08|   28-Aug-12|\n",
      "| Fayette County Bank|   Saint Elmo| IL|1802| United Fidelity B...|   26-May-17|   26-Jul-17|\n",
      "|The Farmers Bank ...|    Lynchburg| TN|1690| Clayton Bank and ...|   15-Jun-12|    8-Aug-16|\n",
      "+--------------------+-------------+---+----+---------------------+------------+------------+\n",
      "\n"
     ]
    }
   ],
   "source": [
    "df.where(col('CERT').between(1000, 2000)).show(10)"
   ]
  },
  {
   "cell_type": "markdown",
   "metadata": {},
   "source": [
    "Podemos usar operadores lógicos dentro do `where`"
   ]
  },
  {
   "cell_type": "code",
   "execution_count": 67,
   "metadata": {},
   "outputs": [
    {
     "name": "stdout",
     "output_type": "stream",
     "text": [
      "+--------------------+-----------+---+-----+---------------------+------------+------------+\n",
      "|           Bank Name|       City| ST| CERT|Acquiring Institution|Closing Date|Updated Date|\n",
      "+--------------------+-----------+---+-----+---------------------+------------+------------+\n",
      "|Towne Bank of Ari...|       Mesa| AZ|57697| Commerce Bank of ...|    7-May-10|   23-Aug-12|\n",
      "|Western National ...|    Phoenix| AZ|57917|   Washington Federal|   16-Dec-11|    5-Feb-15|\n",
      "| First Southern Bank| Batesville| AR|58052|        Southern Bank|   17-Dec-10|   20-Aug-12|\n",
      "|Community Bank of...|    Phoenix| AZ|57645|        MidFirst Bank|   14-Aug-09|   21-Aug-12|\n",
      "|Valley Capital Ba...|       Mesa| AZ|58399| Enterprise Bank &...|   11-Dec-09|   20-Oct-16|\n",
      "|   Desert Hills Bank|    Phoenix| AZ|57060| New York Communit...|   26-Mar-10|   23-Aug-12|\n",
      "|    Gold Canyon Bank|Gold Canyon| AZ|58066| First Scottsdale ...|    5-Apr-13|    7-Oct-15|\n",
      "|         Legacy Bank| Scottsdale| AZ|57820| Enterprise Bank &...|    7-Jan-11|   12-Apr-16|\n",
      "|         Summit Bank|   Prescott| AZ|57442|   The Foothills Bank|   15-Jul-11|   19-Aug-14|\n",
      "+--------------------+-----------+---+-----+---------------------+------------+------------+\n",
      "\n"
     ]
    }
   ],
   "source": [
    "df.where((col('ST').like('A%')) & (col('CERT') > 50_000)).show(10)"
   ]
  },
  {
   "cell_type": "markdown",
   "metadata": {},
   "source": [
    "### Substituir valores"
   ]
  },
  {
   "cell_type": "code",
   "execution_count": 74,
   "metadata": {},
   "outputs": [
    {
     "name": "stdout",
     "output_type": "stream",
     "text": [
      "+-------------+----------+---+-----+---------------------+------------+------------+\n",
      "|    Bank Name|      City| ST| CERT|Acquiring Institution|Closing Date|Updated Date|\n",
      "+-------------+----------+---+-----+---------------------+------------+------------+\n",
      "|       InBank|Oak Forest| IL|20203| MB Financial Bank...|    4-Sep-09|   17-Oct-15|\n",
      "|Bank of Alamo|     Alamo| TN| 9961|          No Acquirer|    8-Nov-02|   18-Mar-05|\n",
      "+-------------+----------+---+-----+---------------------+------------+------------+\n",
      "only showing top 2 rows\n",
      "\n",
      "Substituindo IL por SP\n",
      "+-------------+----------+---+-----+---------------------+------------+------------+\n",
      "|    Bank Name|      City| ST| CERT|Acquiring Institution|Closing Date|Updated Date|\n",
      "+-------------+----------+---+-----+---------------------+------------+------------+\n",
      "|       InBank|Oak Forest| SP|20203| MB Financial Bank...|    4-Sep-09|   17-Oct-15|\n",
      "|Bank of Alamo|     Alamo| TN| 9961|          No Acquirer|    8-Nov-02|   18-Mar-05|\n",
      "+-------------+----------+---+-----+---------------------+------------+------------+\n",
      "only showing top 2 rows\n",
      "\n"
     ]
    }
   ],
   "source": [
    "df.show(2)\n",
    "print('Substituindo IL por SP')\n",
    "df.na.replace('IL', 'SP').show(2)"
   ]
  },
  {
   "cell_type": "code",
   "execution_count": null,
   "metadata": {},
   "outputs": [],
   "source": []
  }
 ],
 "metadata": {
  "kernelspec": {
   "display_name": "vscode_pyspark",
   "language": "python",
   "name": "vscode_pyspark"
  },
  "language_info": {
   "codemirror_mode": {
    "name": "ipython",
    "version": 3
   },
   "file_extension": ".py",
   "mimetype": "text/x-python",
   "name": "python",
   "nbconvert_exporter": "python",
   "pygments_lexer": "ipython3",
   "version": "3.11.7"
  }
 },
 "nbformat": 4,
 "nbformat_minor": 2
}
