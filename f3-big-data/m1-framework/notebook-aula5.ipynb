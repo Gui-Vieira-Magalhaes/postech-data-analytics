{
 "cells": [
  {
   "cell_type": "markdown",
   "metadata": {},
   "source": [
    "# Sistema de Recomendação - Introdução\n",
    "\n",
    "Um sistema de recomendação é uma ferramenta tecnológica sofisticada, amplamente utilizada em plataformas online, que sugere produtos, serviços, informações ou opções a um usuário com base em uma variedade de fatores. Estes fatores incluem preferências pessoais do usuário, comportamento de navegação, histórico de compras, avaliações de outros usuários e uma série de outros dados relevantes.\n",
    "\n",
    "Existem 3 principais tipos de Algoritmo de Recomendação:\n",
    "\n",
    "\n",
    "#### Filtragem Colaborativa\n",
    "A filtragem colaborativa é uma das abordagens mais populares para sistemas de recomendação. Ela se baseia no princípio de que usuários com preferências semelhantes em itens também têm probabilidades semelhantes de gostar de outros itens. O algoritmo utiliza dados históricos de interações entre usuários e itens (por exemplo, avaliações, compras, cliques) para identificar padrões de similaridade entre eles. Com base nessas similaridades, o sistema recomenda itens que outros usuários com gostos similares apreciaram.\n",
    "\n",
    "Existem duas formas principais de filtragem colaborativa: a abordagem baseada em usuário, que recomenda itens com base nos interesses de usuários semelhantes, e a abordagem baseada em item, que recomenda itens com base em características semelhantes aos itens previamente apreciados pelo usuário.\n",
    "\n",
    "\n",
    "#### Filtragem baseada em conteúdo\n",
    "A filtragem baseada em conteúdo utiliza características e atributos dos itens para fazer recomendações. O algoritmo analisa informações descritivas sobre os itens e as combina com o perfil de preferências do usuário. Por exemplo, em um sistema de recomendação de filmes, o algoritmo pode considerar gênero, diretor, elenco e sinopse para sugerir filmes que possam agradar ao usuário com base em filmes que ele já assistiu e gostou.\n",
    "\n",
    "Essa abordagem tende a ser mais personalizada, pois se concentra nas preferências específicas do usuário em vez de depender exclusivamente das opiniões de outros usuários.\n",
    "\n",
    "\n",
    "#### Sistemas Híbridos\n",
    "Os sistemas híbridos combinam as abordagens de filtragem colaborativa e filtragem baseada em conteúdo para melhorar a qualidade das recomendações. A ideia é que ao combinar as duas técnicas, é possível mitigar as limitações de cada uma individualmente.\n",
    "\n",
    "Os algoritmos híbridos podem ser desenvolvidos de várias maneiras, como: utilizando filtragem colaborativa para inicialmente fazer recomendações amplas com base em tendências populares e, em seguida, refinando essas sugestões com a filtragem baseada em conteúdo para personalizá-las de acordo com as preferências do usuário. Outra abordagem comum é atribuir pesos diferentes às duas técnicas, dependendo do contexto da recomendação.\n",
    "\n",
    "---\n",
    "\n",
    "Vamos criar um modelo simples (colaborativo baseado em usuários) para compreender o conceito"
   ]
  },
  {
   "cell_type": "code",
   "execution_count": 66,
   "metadata": {},
   "outputs": [],
   "source": [
    "from scipy import stats\n",
    "import numpy as np"
   ]
  },
  {
   "cell_type": "markdown",
   "metadata": {},
   "source": [
    "## Criação dos dados"
   ]
  },
  {
   "cell_type": "code",
   "execution_count": 67,
   "metadata": {},
   "outputs": [],
   "source": [
    "matrix = np.array(\n",
    "    [\n",
    "    [8, 0, 3, 4, 6],\n",
    "    [5, 6, 1, 8, 9],\n",
    "    [8, 0, 0, 5, 10]\n",
    "    ]\n",
    ")\n",
    "\n",
    "novoUser = [8, 0, 2, 3, 0]\n",
    "naoAssistidos = [0, 1, 0, 0, 1]\n",
    "\n",
    "nomeFilmes = ['Round 6', 'A Invocação do Mal', '9 Desconhecidos', 'You', 'La Casa de Papel']"
   ]
  },
  {
   "cell_type": "markdown",
   "metadata": {},
   "source": [
    "Vamos calcular a similaridade entre os usuários com base nas notas dadas"
   ]
  },
  {
   "cell_type": "code",
   "execution_count": 68,
   "metadata": {},
   "outputs": [
    {
     "name": "stdout",
     "output_type": "stream",
     "text": [
      "\n",
      "User: 0\n",
      "User Note: [8 0 3 4 6]\n",
      "UserNotZero: [8, 3, 4]\n",
      "NovoUserNotZero: [8, 2, 3]\n",
      "Similarity User 0: PearsonRResult(statistic=0.9994237971287664, pvalue=0.021612434272262178)\n",
      "\n",
      "User: 1\n",
      "User Note: [5 6 1 8 9]\n",
      "UserNotZero: [5, 1, 8]\n",
      "NovoUserNotZero: [8, 2, 3]\n",
      "Similarity User 1: PearsonRResult(statistic=0.23621543814299703, pvalue=0.8481857831269412)\n",
      "\n",
      "User: 2\n",
      "User Note: [ 8  0  0  5 10]\n",
      "UserNotZero: [8, 0, 5]\n",
      "NovoUserNotZero: [8, 2, 3]\n",
      "Similarity User 2: PearsonRResult(statistic=0.8723686098443353, pvalue=0.3251659459679011)\n",
      "\n",
      "\n",
      "Similarity with Users: [0.9994237971287664, 0.23621543814299703, 0.8723686098443353]\n"
     ]
    }
   ],
   "source": [
    "#Para cada usuário, calcula a similaridade com o novo usuário\n",
    "similarity = [0] * 3\n",
    "\n",
    "for i in range(3):\n",
    "    user = matrix[i,:]\n",
    "    print(f\"\\nUser: {i}\")\n",
    "    print(f\"User Note: {user}\")\n",
    "\n",
    "    # Notas dos usuários para filmes que foram assistidos pelo novo usuário (Nota != 0)\n",
    "    UserNotZero = [nota_user for nota_novoUser, nota_user in zip(novoUser, user) if nota_novoUser != 0]\n",
    "    NovoUserNotZero = [nota_novoUser for nota_novoUser in novoUser if nota_novoUser != 0]\n",
    "\n",
    "    print(f\"UserNotZero: {UserNotZero}\")\n",
    "    print(f\"NovoUserNotZero: {NovoUserNotZero}\")\n",
    "\n",
    "    #Calcula a similaridade entre o novo usuário e o usuário atual\n",
    "    similarity_users = stats.pearsonr(UserNotZero, NovoUserNotZero)\n",
    "    similarity[i] = similarity_users\n",
    "\n",
    "    print(f\"Similarity User {i}: {similarity_users}\")\n",
    "    similarity[i] = similarity_users[0]\n",
    "\n",
    "print(f\"\\n\\nSimilarity with Users: {similarity}\")\n"
   ]
  },
  {
   "cell_type": "markdown",
   "metadata": {},
   "source": [
    "Agora vamos calcular o peso das notas de cada usuário com base na similaridade deles com o novo usuário e fazer a soma acumulada do resultado"
   ]
  },
  {
   "cell_type": "code",
   "execution_count": 69,
   "metadata": {},
   "outputs": [
    {
     "name": "stdout",
     "output_type": "stream",
     "text": [
      "Peso das notas: \n",
      "[[0.         0.         0.         0.         5.99654278]\n",
      " [0.         1.41729263 0.         0.         2.12593894]\n",
      " [0.         0.         0.         0.         8.7236861 ]]\n"
     ]
    }
   ],
   "source": [
    "pesoNotas = np.zeros((3, 5))\n",
    "\n",
    "for nUser in range(3):\n",
    "    for nFilme in range(5):\n",
    "        pesoNotas[nUser][nFilme] = naoAssistidos[nFilme] * matrix[nUser][nFilme] * similarity[nUser]\n",
    "\n",
    "print(f\"Peso das notas: \\n{pesoNotas}\")"
   ]
  },
  {
   "cell_type": "code",
   "execution_count": 70,
   "metadata": {},
   "outputs": [
    {
     "name": "stdout",
     "output_type": "stream",
     "text": [
      "Notas Acumuladas: [ 0.          1.41729263  0.          0.         16.84616782]\n"
     ]
    }
   ],
   "source": [
    "accNotas = np.sum(pesoNotas.T, axis=1)\n",
    "print(f\"Notas Acumuladas: {accNotas}\")"
   ]
  },
  {
   "cell_type": "markdown",
   "metadata": {},
   "source": [
    "Vamos fazer a soma acumulada dos valores de similaridade para cada filme"
   ]
  },
  {
   "cell_type": "code",
   "execution_count": 71,
   "metadata": {},
   "outputs": [
    {
     "name": "stdout",
     "output_type": "stream",
     "text": [
      "Similarity: \n",
      "[[0.         0.         0.         0.         0.9994238 ]\n",
      " [0.         0.23621544 0.         0.         0.23621544]\n",
      " [0.         0.         0.         0.         0.87236861]]\n",
      "Similarity Acumuladas: [0.         0.23621544 0.         0.         2.10800785]\n"
     ]
    }
   ],
   "source": [
    "tempPeso = pesoNotas\n",
    "tempPeso[pesoNotas > 0] = 1\n",
    "\n",
    "tempSimilarity = np.zeros((3, 5))\n",
    "for nUser in range(3):\n",
    "    for nFilme in range(5):\n",
    "        tempSimilarity[nUser][nFilme] = tempPeso[nUser][nFilme] * similarity[nUser]\n",
    "\n",
    "print(f\"Similarity: \\n{tempSimilarity}\")\n",
    "\n",
    "accSimilarity = np.sum(tempSimilarity.T, axis=1)\n",
    "print(f\"Similarity Acumuladas: {accSimilarity}\")"
   ]
  },
  {
   "cell_type": "markdown",
   "metadata": {},
   "source": [
    "Por fim vamos normalizar os resultados para cada filme. Assim temos qual a provável nota que o novo Usuário daria para cada filme não assistido com base na similaridade com os outros usuários e as notas dadas por eles"
   ]
  },
  {
   "cell_type": "code",
   "execution_count": 72,
   "metadata": {},
   "outputs": [
    {
     "name": "stdout",
     "output_type": "stream",
     "text": [
      "Nota Final: [0, 6.0, 0, 0, 7.991510972567145]\n"
     ]
    }
   ],
   "source": [
    "notaFinal = [0] * 5\n",
    "for nFilme in range(5):\n",
    "    if accSimilarity[nFilme] > 0:\n",
    "        notaFinal[nFilme] = accNotas[nFilme] / accSimilarity[nFilme]\n",
    "    else:\n",
    "        notaFinal[nFilme] = 0\n",
    "\n",
    "print(f\"Nota Final: {notaFinal}\")"
   ]
  },
  {
   "cell_type": "code",
   "execution_count": 73,
   "metadata": {},
   "outputs": [
    {
     "name": "stdout",
     "output_type": "stream",
     "text": [
      "Filme: La Casa de Papel, Nota: 8.0\n",
      "Filme: A Invocação do Mal, Nota: 6.0\n"
     ]
    }
   ],
   "source": [
    "NnaoAssistidos = np.sum(naoAssistidos)\n",
    "\n",
    "notasOrdenadasIndex = sorted(range(len(notaFinal)), key=lambda k: notaFinal[k], reverse=True)[:NnaoAssistidos]\n",
    "for i in notasOrdenadasIndex:\n",
    "    print(f\"Filme: {nomeFilmes[i]}, Nota: {round(notaFinal[i],1)}\")"
   ]
  }
 ],
 "metadata": {
  "kernelspec": {
   "display_name": "vscode_pyspark",
   "language": "python",
   "name": "vscode_pyspark"
  },
  "language_info": {
   "codemirror_mode": {
    "name": "ipython",
    "version": 3
   },
   "file_extension": ".py",
   "mimetype": "text/x-python",
   "name": "python",
   "nbconvert_exporter": "python",
   "pygments_lexer": "ipython3",
   "version": "3.11.7"
  }
 },
 "nbformat": 4,
 "nbformat_minor": 2
}
