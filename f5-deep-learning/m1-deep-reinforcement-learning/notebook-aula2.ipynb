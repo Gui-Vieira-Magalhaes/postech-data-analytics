{
 "cells": [
  {
   "cell_type": "markdown",
   "metadata": {},
   "source": [
    "# Aula 2 - Redes Convolucionais\n",
    "\n",
    "Redes Convolucionais são um tipo de rede neural que é muito utilizada para processamento de imagens. Elas são capazes de aprender padrões espaciais em imagens, como bordas, texturas e formas. A arquitetura de uma rede convolucional é composta por camadas convolucionais, camadas de pooling e camadas densas."
   ]
  },
  {
   "cell_type": "code",
   "execution_count": 61,
   "metadata": {},
   "outputs": [],
   "source": [
    "import pandas as pd\n",
    "import numpy as np\n",
    "import matplotlib.pyplot as plt\n",
    "import cv2\n",
    "import os\n",
    "from pathlib import Path\n",
    "\n",
    "#Pytorch\n",
    "import torch\n",
    "import torch.nn as nn\n",
    "import torch.optim as optim\n",
    "from torch.utils.data import DataLoader, TensorDataset\n",
    "\n",
    "#Sklearn\n",
    "from sklearn.model_selection import train_test_split\n",
    "from sklearn import metrics\n",
    "from sklearn.preprocessing import LabelEncoder"
   ]
  },
  {
   "cell_type": "markdown",
   "metadata": {},
   "source": [
    "## Importando Imagens"
   ]
  },
  {
   "cell_type": "code",
   "execution_count": 46,
   "metadata": {},
   "outputs": [],
   "source": [
    "path_folder = \"../data/cat_dog_data\"\n",
    "image_folder = Path(path_folder)"
   ]
  },
  {
   "cell_type": "code",
   "execution_count": 47,
   "metadata": {},
   "outputs": [
    {
     "name": "stdout",
     "output_type": "stream",
     "text": [
      "Total images :  1400\n"
     ]
    }
   ],
   "source": [
    "filepaths = list(image_folder.glob(r'**/*.jpg'))\n",
    "print(\"Total images : \", len(filepaths))"
   ]
  },
  {
   "cell_type": "markdown",
   "metadata": {},
   "source": [
    "## Tratando Imagens\n",
    "Vamos importar algumas imagens e fazer o tratamento necessário para que possamos utilizá-las em uma rede convolucional."
   ]
  },
  {
   "cell_type": "code",
   "execution_count": 48,
   "metadata": {},
   "outputs": [],
   "source": [
    "labels = []\n",
    "images = []\n",
    "\n",
    "# Tamanho da imagem\n",
    "image_size = 64\n",
    "\n",
    "for file in filepaths:\n",
    "    # Get the image label (folder name)\n",
    "    label = os.path.split(os.path.split(file)[0])[1]\n",
    "    labels.append(label)\n",
    "    \n",
    "    # Read the image\n",
    "    img = cv2.imread(str(file))\n",
    "    # Importante normalizar os valores dos pixels das imagens\n",
    "    img = cv2.resize(img, (image_size, image_size)).astype(np.float32) / 255.0\n",
    "    images.append(img)\n",
    "\n",
    "labels = np.array(labels)\n",
    "images = np.array(images)"
   ]
  },
  {
   "cell_type": "markdown",
   "metadata": {},
   "source": [
    "Verificando o shape dos arrays"
   ]
  },
  {
   "cell_type": "code",
   "execution_count": 49,
   "metadata": {},
   "outputs": [
    {
     "data": {
      "text/plain": [
       "(1400, 64, 64, 3)"
      ]
     },
     "execution_count": 49,
     "metadata": {},
     "output_type": "execute_result"
    }
   ],
   "source": [
    "images.shape"
   ]
  },
  {
   "cell_type": "code",
   "execution_count": 50,
   "metadata": {},
   "outputs": [
    {
     "data": {
      "text/plain": [
       "(1400,)"
      ]
     },
     "execution_count": 50,
     "metadata": {},
     "output_type": "execute_result"
    }
   ],
   "source": [
    "labels.shape"
   ]
  },
  {
   "cell_type": "markdown",
   "metadata": {},
   "source": [
    "## Separando em Treino e Teste"
   ]
  },
  {
   "cell_type": "code",
   "execution_count": 51,
   "metadata": {},
   "outputs": [],
   "source": [
    "X_train, X_test, y_train, y_test = train_test_split(images, labels, test_size=0.2, random_state=42)"
   ]
  },
  {
   "cell_type": "code",
   "execution_count": 52,
   "metadata": {},
   "outputs": [
    {
     "name": "stdout",
     "output_type": "stream",
     "text": [
      "Train data shape :  (1120, 64, 64, 3) (1120,)\n",
      "Test data shape :  (280, 64, 64, 3) (280,)\n"
     ]
    }
   ],
   "source": [
    "print(\"Train data shape : \", X_train.shape, y_train.shape)\n",
    "print(\"Test data shape : \", X_test.shape, y_test.shape)"
   ]
  },
  {
   "cell_type": "markdown",
   "metadata": {},
   "source": [
    "Para passar as imagens para a rede convolucional, precisamos achatar as imagens, ou seja, sair de um array multidimensional para um array unidimensional. Para isso, vamos utilizar a função `reshape` do numpy."
   ]
  },
  {
   "cell_type": "code",
   "execution_count": 53,
   "metadata": {},
   "outputs": [],
   "source": [
    "# O parametro -1 é para a função reshape inferir o tamanho da dimensão (o equivalente a X_train.shape[1]*X_train.shape[2]*X_train.shape[3])\n",
    "#X_train_flat = X_train.reshape(X_train.shape[0], -1)\n",
    "#X_test_flat = X_test.reshape(X_test.shape[0], -1)"
   ]
  },
  {
   "cell_type": "code",
   "execution_count": 54,
   "metadata": {},
   "outputs": [],
   "source": [
    "#X_train_flat.shape"
   ]
  },
  {
   "cell_type": "markdown",
   "metadata": {},
   "source": [
    "Vamos converter a target para uma variável binária usando o LabelEncoder."
   ]
  },
  {
   "cell_type": "code",
   "execution_count": 77,
   "metadata": {},
   "outputs": [],
   "source": [
    "le = LabelEncoder()\n",
    "\n",
    "y_train_encoded = le.fit_transform(y_train)\n",
    "y_test_encoded = le.transform(y_test)"
   ]
  },
  {
   "cell_type": "code",
   "execution_count": 80,
   "metadata": {},
   "outputs": [],
   "source": [
    "# Convertendo para tensores\n",
    "X_train_tensor = torch.tensor(X_train, dtype=torch.float32).permute(0, 3, 1, 2)\n",
    "y_train_tensor = torch.tensor(y_train_encoded, dtype=torch.int64)\n",
    "X_test_tensor = torch.tensor(X_test, dtype=torch.float32).permute(0, 3, 1, 2)\n",
    "y_test_tensor = torch.tensor(y_test_encoded, dtype=torch.int64)"
   ]
  },
  {
   "cell_type": "markdown",
   "metadata": {},
   "source": [
    "## Treinando o Modelo"
   ]
  },
  {
   "cell_type": "code",
   "execution_count": 212,
   "metadata": {},
   "outputs": [
    {
     "name": "stdout",
     "output_type": "stream",
     "text": [
      "Using device: mps\n"
     ]
    }
   ],
   "source": [
    "configs = dict(\n",
    "    epochs = 30,\n",
    "    learning_rate = 1e-4,\n",
    "    weight_decay = 1e-5,\n",
    "    batch_size = 20\n",
    ")\n",
    "\n",
    "if torch.cuda.is_available():\n",
    "    configs['device'] = torch.device('cuda')\n",
    "elif torch.backends.mps.is_available():\n",
    "    configs['device'] = torch.device('mps')\n",
    "else:\n",
    "    configs['device'] = torch.device('cpu')\n",
    "\n",
    "print(f\"Using device: {configs['device']}\")"
   ]
  },
  {
   "cell_type": "code",
   "execution_count": 213,
   "metadata": {},
   "outputs": [],
   "source": [
    "# Criando Dataset\n",
    "train_set = TensorDataset(X_train_tensor, y_train_tensor)\n",
    "test_set = TensorDataset(X_test_tensor, y_test_tensor)\n",
    "\n",
    "# Criando DataLoader\n",
    "train_loader = DataLoader(train_set, batch_size=configs['batch_size'], shuffle=True)\n",
    "test_loader = DataLoader(test_set, batch_size=configs['batch_size'], shuffle=True)"
   ]
  },
  {
   "cell_type": "markdown",
   "metadata": {},
   "source": [
    "PAra calcular a resolução espacial do mapa de ativação (ou mapa de características) de uma camada convolucional, podemos usar a seguinte fórmula:\n",
    "\n",
    "$$\n",
    "\\text{Resolução Espacial} = \\frac{\\text{Resolução Espacial da Entrada} - \\text{Tamanho do Filtro} + 2 \\times \\text{Padding}}{\\text{Stride}} + 1\n",
    "$$"
   ]
  },
  {
   "cell_type": "code",
   "execution_count": 214,
   "metadata": {},
   "outputs": [],
   "source": [
    "model = nn.Sequential(\n",
    "    nn.Conv2d(in_channels=3, out_channels=128, kernel_size=3, stride=2, padding=1), # 64x64x3 -> 32x32x128\n",
    "    nn.ReLU(),\n",
    "    nn.MaxPool2d(kernel_size=2, stride=2, padding=1), # 32x32x128 -> 17x17x128\n",
    "    nn.BatchNorm2d(128),\n",
    "    nn.Dropout(0.2),\n",
    "    nn.Conv2d(in_channels=128, out_channels=92, kernel_size=3, stride=2, padding=1), # 16x16x128 -> 9x9x92\n",
    "    nn.ReLU(),\n",
    "    nn.MaxPool2d(kernel_size=2, stride=2, padding=1), # 9x9x92 -> 5x5x92\n",
    "    nn.BatchNorm2d(92),\n",
    "    nn.Flatten(), # 5x5x92 -> 2300\n",
    "    nn.Linear(2300, 256),\n",
    "    nn.ReLU(),\n",
    "    nn.Linear(256, 2),\n",
    "    nn.Softmax(dim=1)\n",
    ").to(mps_device)\n",
    "\n",
    "loss_fn = nn.CrossEntropyLoss()\n",
    "optimizer = optim.Adam(model.parameters(), lr=configs['learning_rate'], weight_decay=configs['weight_decay'])"
   ]
  },
  {
   "cell_type": "code",
   "execution_count": 215,
   "metadata": {},
   "outputs": [],
   "source": [
    "def train(train_loader, model):\n",
    "\n",
    "    model.train()\n",
    "\n",
    "    epoch_loss = []\n",
    "    predict_list, target_list = [], []\n",
    "\n",
    "    for batch_idx, (data, target) in enumerate(train_loader):\n",
    "        data, target = data.to(mps_device), target.to(mps_device)\n",
    "        \n",
    "        output = model(data)\n",
    "        loss = loss_fn(output, target)\n",
    "\n",
    "        #metrics\n",
    "        epoch_loss.append(loss.item())\n",
    "        _, predict = torch.max(output, 1)\n",
    "        predict_list.append(predict.cpu().numpy())\n",
    "        target_list.append(target.cpu().numpy())\n",
    "\n",
    "        #backpropagation\n",
    "        optimizer.zero_grad()\n",
    "        loss.backward()\n",
    "        optimizer.step()\n",
    "\n",
    "    result_predict = np.asarray(predict_list).ravel()\n",
    "    result_target = np.asarray(target_list).ravel()\n",
    "    acc = metrics.accuracy_score(result_target, result_predict)\n",
    "    \n",
    "    print(f\"TRAIN - Loss: {np.mean(epoch_loss)} - Acc: {acc}\")\n",
    "\n",
    "    return epoch_loss, acc\n",
    "\n",
    "def validate(test_loader, model):\n",
    "\n",
    "    model.eval()\n",
    "\n",
    "    epoch_loss = []\n",
    "    predict_list, target_list = [], []\n",
    "    with torch.no_grad():\n",
    "        for batch_idx, (data, target) in enumerate(test_loader):\n",
    "            data, target = data.to(mps_device), target.to(mps_device)\n",
    "            \n",
    "            output = model(data)\n",
    "            loss = loss_fn(output, target)\n",
    "\n",
    "            #metrics\n",
    "            epoch_loss.append(loss.item())\n",
    "            _, predict = torch.max(output, 1)\n",
    "            predict_list.append(predict.cpu().numpy())\n",
    "            target_list.append(target.cpu().numpy())\n",
    "\n",
    "    result_predict = np.asarray(predict_list).ravel()\n",
    "    result_target = np.asarray(target_list).ravel()\n",
    "    acc = metrics.accuracy_score(result_target, result_predict)\n",
    "    \n",
    "    print(f\"VALIDATE - Loss: {np.mean(epoch_loss)} - Acc: {acc}\")\n",
    "\n",
    "    return epoch_loss, acc\n",
    "\n",
    "def fit(train_loader, test_loader, model, epochs):\n",
    "    epoch_loss_train = []\n",
    "    epoch_loss_test = []\n",
    "    epoch_acc_train = []\n",
    "    epoch_acc_test = []\n",
    "    for epoch in range(epochs):\n",
    "        print(f\"Epoch {epoch+1} -------------------------------\")\n",
    "        train_loss, train_acc = train(train_loader, model)\n",
    "        test_loss, test_acc = validate(test_loader, model)\n",
    "        \n",
    "        epoch_loss_train.append(np.mean(train_loss[0]))\n",
    "        epoch_loss_test.append(np.mean(test_loss[0]))\n",
    "        epoch_acc_train.append(train_acc)\n",
    "        epoch_acc_test.append(test_acc)\n",
    "\n",
    "        print(\"\\n\")\n",
    "\n",
    "    return epoch_loss_train, epoch_loss_test, epoch_acc_train, epoch_acc_test"
   ]
  },
  {
   "cell_type": "code",
   "execution_count": 216,
   "metadata": {},
   "outputs": [
    {
     "name": "stdout",
     "output_type": "stream",
     "text": [
      "Epoch 1 -------------------------------\n",
      "TRAIN - Loss: 0.655222835285323 - Acc: 0.6116071428571429\n",
      "VALIDATE - Loss: 0.6427056065627507 - Acc: 0.6142857142857143\n",
      "\n",
      "\n",
      "Epoch 2 -------------------------------\n",
      "TRAIN - Loss: 0.5842823109456471 - Acc: 0.7258928571428571\n",
      "VALIDATE - Loss: 0.5891139166695731 - Acc: 0.7321428571428571\n",
      "\n",
      "\n",
      "Epoch 3 -------------------------------\n",
      "TRAIN - Loss: 0.5447098985314369 - Acc: 0.775\n",
      "VALIDATE - Loss: 0.5952462213379996 - Acc: 0.7035714285714286\n",
      "\n",
      "\n",
      "Epoch 4 -------------------------------\n",
      "TRAIN - Loss: 0.5073770146284785 - Acc: 0.8294642857142858\n",
      "VALIDATE - Loss: 0.5831238201686314 - Acc: 0.7178571428571429\n",
      "\n",
      "\n",
      "Epoch 5 -------------------------------\n",
      "TRAIN - Loss: 0.4719093165227345 - Acc: 0.8723214285714286\n",
      "VALIDATE - Loss: 0.5903096050024033 - Acc: 0.7\n",
      "\n",
      "\n",
      "Epoch 6 -------------------------------\n",
      "TRAIN - Loss: 0.43908437713980675 - Acc: 0.9080357142857143\n",
      "VALIDATE - Loss: 0.5748925634792873 - Acc: 0.7214285714285714\n",
      "\n",
      "\n",
      "Epoch 7 -------------------------------\n",
      "TRAIN - Loss: 0.41280180907675196 - Acc: 0.9321428571428572\n",
      "VALIDATE - Loss: 0.5631275240864072 - Acc: 0.7714285714285715\n",
      "\n",
      "\n",
      "Epoch 8 -------------------------------\n",
      "TRAIN - Loss: 0.3857131020299026 - Acc: 0.9616071428571429\n",
      "VALIDATE - Loss: 0.567749730178288 - Acc: 0.7357142857142858\n",
      "\n",
      "\n",
      "Epoch 9 -------------------------------\n",
      "TRAIN - Loss: 0.3728712131934507 - Acc: 0.9678571428571429\n",
      "VALIDATE - Loss: 0.5669287698609489 - Acc: 0.725\n",
      "\n",
      "\n",
      "Epoch 10 -------------------------------\n",
      "TRAIN - Loss: 0.35820824440036503 - Acc: 0.98125\n",
      "VALIDATE - Loss: 0.5712588621037347 - Acc: 0.7142857142857143\n",
      "\n",
      "\n",
      "Epoch 11 -------------------------------\n",
      "TRAIN - Loss: 0.35857556760311127 - Acc: 0.9732142857142857\n",
      "VALIDATE - Loss: 0.5598625370434352 - Acc: 0.7571428571428571\n",
      "\n",
      "\n",
      "Epoch 12 -------------------------------\n",
      "TRAIN - Loss: 0.34285555141312735 - Acc: 0.9848214285714286\n",
      "VALIDATE - Loss: 0.5663120491164071 - Acc: 0.7285714285714285\n",
      "\n",
      "\n",
      "Epoch 13 -------------------------------\n",
      "TRAIN - Loss: 0.3352068891482694 - Acc: 0.9910714285714286\n",
      "VALIDATE - Loss: 0.5649954804352352 - Acc: 0.7214285714285714\n",
      "\n",
      "\n",
      "Epoch 14 -------------------------------\n",
      "TRAIN - Loss: 0.33303142072899 - Acc: 0.9919642857142857\n",
      "VALIDATE - Loss: 0.5639993271657399 - Acc: 0.7285714285714285\n",
      "\n",
      "\n",
      "Epoch 15 -------------------------------\n",
      "TRAIN - Loss: 0.3276386686733791 - Acc: 0.9946428571428572\n",
      "VALIDATE - Loss: 0.5683015478508813 - Acc: 0.7464285714285714\n",
      "\n",
      "\n",
      "Epoch 16 -------------------------------\n",
      "TRAIN - Loss: 0.3272308387926647 - Acc: 0.9955357142857143\n",
      "VALIDATE - Loss: 0.57049717434815 - Acc: 0.7178571428571429\n",
      "\n",
      "\n",
      "Epoch 17 -------------------------------\n",
      "TRAIN - Loss: 0.3240619924451624 - Acc: 0.9973214285714286\n",
      "VALIDATE - Loss: 0.5648087965590614 - Acc: 0.7285714285714285\n",
      "\n",
      "\n",
      "Epoch 18 -------------------------------\n",
      "TRAIN - Loss: 0.3224158728761332 - Acc: 0.9964285714285714\n",
      "VALIDATE - Loss: 0.572762593626976 - Acc: 0.7214285714285714\n",
      "\n",
      "\n",
      "Epoch 19 -------------------------------\n",
      "TRAIN - Loss: 0.32298434153199196 - Acc: 0.9973214285714286\n",
      "VALIDATE - Loss: 0.5717321485280991 - Acc: 0.7071428571428572\n",
      "\n",
      "\n",
      "Epoch 20 -------------------------------\n",
      "TRAIN - Loss: 0.32128699868917465 - Acc: 0.9973214285714286\n",
      "VALIDATE - Loss: 0.5634515562227794 - Acc: 0.7392857142857143\n",
      "\n",
      "\n",
      "Epoch 21 -------------------------------\n",
      "TRAIN - Loss: 0.321286749626909 - Acc: 0.9973214285714286\n",
      "VALIDATE - Loss: 0.5727506407669612 - Acc: 0.7214285714285714\n",
      "\n",
      "\n",
      "Epoch 22 -------------------------------\n",
      "TRAIN - Loss: 0.3192942791751453 - Acc: 0.9982142857142857\n",
      "VALIDATE - Loss: 0.5618966796568462 - Acc: 0.7392857142857143\n",
      "\n",
      "\n",
      "Epoch 23 -------------------------------\n",
      "TRAIN - Loss: 0.32059250133378164 - Acc: 0.9973214285714286\n",
      "VALIDATE - Loss: 0.5667146061147962 - Acc: 0.7392857142857143\n",
      "\n",
      "\n",
      "Epoch 24 -------------------------------\n",
      "TRAIN - Loss: 0.3187924474477768 - Acc: 0.9973214285714286\n",
      "VALIDATE - Loss: 0.5643735570566994 - Acc: 0.7392857142857143\n",
      "\n",
      "\n",
      "Epoch 25 -------------------------------\n",
      "TRAIN - Loss: 0.3185844160616398 - Acc: 0.9973214285714286\n",
      "VALIDATE - Loss: 0.5659809900181634 - Acc: 0.7285714285714285\n",
      "\n",
      "\n",
      "Epoch 26 -------------------------------\n",
      "TRAIN - Loss: 0.31723422184586525 - Acc: 0.9982142857142857\n",
      "VALIDATE - Loss: 0.571785609636988 - Acc: 0.7357142857142858\n",
      "\n",
      "\n",
      "Epoch 27 -------------------------------\n",
      "TRAIN - Loss: 0.3172130808234215 - Acc: 0.9982142857142857\n",
      "VALIDATE - Loss: 0.5620564669370651 - Acc: 0.7392857142857143\n",
      "\n",
      "\n",
      "Epoch 28 -------------------------------\n",
      "TRAIN - Loss: 0.31854336921657833 - Acc: 0.9982142857142857\n",
      "VALIDATE - Loss: 0.5584779317889895 - Acc: 0.75\n",
      "\n",
      "\n",
      "Epoch 29 -------------------------------\n",
      "TRAIN - Loss: 0.3171259026442255 - Acc: 0.9982142857142857\n",
      "VALIDATE - Loss: 0.5584667772054672 - Acc: 0.7464285714285714\n",
      "\n",
      "\n",
      "Epoch 30 -------------------------------\n",
      "TRAIN - Loss: 0.3171924959336008 - Acc: 0.9982142857142857\n",
      "VALIDATE - Loss: 0.5639171493904931 - Acc: 0.7321428571428571\n",
      "\n",
      "\n"
     ]
    }
   ],
   "source": [
    "(loss_train, \n",
    "loss_test, \n",
    "acc_train, \n",
    "acc_test) = fit(train_loader, test_loader, model, configs['epochs'])"
   ]
  },
  {
   "cell_type": "code",
   "execution_count": 217,
   "metadata": {},
   "outputs": [
    {
     "data": {
      "text/plain": [
       "<matplotlib.legend.Legend at 0x31f600f20>"
      ]
     },
     "execution_count": 217,
     "metadata": {},
     "output_type": "execute_result"
    },
    {
     "data": {
      "image/png": "[encoded data removed]",
      "text/plain": [
       "<Figure size 1200x600 with 2 Axes>"
      ]
     },
     "metadata": {},
     "output_type": "display_data"
    }
   ],
   "source": [
    "plt.figure(figsize=(12, 6))\n",
    "plt.subplot(1, 2, 1)\n",
    "plt.plot(loss_train, label='Train')\n",
    "plt.plot(loss_test, label='Test')\n",
    "plt.title('Loss')\n",
    "plt.xlabel('Epoch')\n",
    "plt.ylabel('Loss')\n",
    "plt.legend()\n",
    "\n",
    "plt.subplot(1, 2, 2)\n",
    "plt.plot(acc_train, label='Train')\n",
    "plt.plot(acc_test, label='Test')\n",
    "plt.title('Acc')\n",
    "plt.xlabel('Epoch')\n",
    "plt.ylabel('Acc')\n",
    "plt.legend()\n"
   ]
  },
  {
   "cell_type": "markdown",
   "metadata": {},
   "source": [
    "Vamos armazenar as predições do modelo em um array"
   ]
  },
  {
   "cell_type": "code",
   "execution_count": 241,
   "metadata": {},
   "outputs": [],
   "source": [
    "def predict(model, data):\n",
    "    model.to(configs['device'])\n",
    "    model.eval()\n",
    "    with torch.no_grad():\n",
    "        data = data.to(configs['device'])\n",
    "        output = model(data)\n",
    "        _, predict = torch.max(output, 1)\n",
    "    return np.asarray(predict.cpu())"
   ]
  },
  {
   "cell_type": "code",
   "execution_count": 242,
   "metadata": {},
   "outputs": [
    {
     "data": {
      "text/plain": [
       "array([0, 1, 0, 0, 0, 0, 1, 0, 1, 1, 1, 1, 1, 1, 0, 0, 0, 0, 0, 0, 0, 0,\n",
       "       0, 0, 0, 1, 0, 0, 1, 1, 1, 1, 0, 1, 0, 1, 1, 0, 1, 1, 0, 0, 1, 0,\n",
       "       0, 1, 1, 1, 0, 1, 1, 1, 1, 0, 1, 0, 0, 0, 1, 1, 1, 0, 0, 1, 0, 1,\n",
       "       1, 0, 0, 1, 1, 0, 1, 1, 0, 0, 0, 0, 1, 1, 0, 1, 0, 0, 1, 1, 1, 0,\n",
       "       1, 0, 0, 0, 1, 1, 0, 0, 1, 1, 0, 1, 0, 0, 1, 0, 0, 1, 1, 1, 0, 1,\n",
       "       0, 0, 1, 0, 1, 1, 0, 1, 0, 0, 1, 1, 0, 0, 0, 0, 0, 1, 1, 1, 0, 1,\n",
       "       0, 1, 1, 0, 0, 0, 0, 0, 1, 0, 0, 1, 1, 0, 0, 1, 0, 1, 0, 0, 1, 0,\n",
       "       0, 0, 1, 0, 0, 1, 0, 1, 1, 0, 1, 0, 0, 0, 0, 0, 0, 0, 1, 1, 0, 0,\n",
       "       1, 1, 1, 0, 1, 1, 1, 0, 0, 0, 0, 0, 1, 0, 1, 0, 1, 0, 0, 0, 1, 1,\n",
       "       1, 1, 1, 0, 0, 1, 0, 1, 1, 0, 1, 1, 1, 1, 0, 1, 1, 1, 1, 1, 0, 0,\n",
       "       0, 1, 0, 0, 0, 1, 0, 1, 0, 1, 0, 1, 0, 1, 1, 1, 0, 1, 0, 1, 0, 0,\n",
       "       0, 0, 0, 1, 1, 0, 0, 0, 0, 1, 1, 0, 0, 0, 0, 0, 1, 0, 0, 1, 0, 0,\n",
       "       0, 0, 0, 1, 0, 0, 0, 1, 1, 1, 1, 0, 1, 0, 0, 0])"
      ]
     },
     "execution_count": 242,
     "metadata": {},
     "output_type": "execute_result"
    }
   ],
   "source": [
    "cnn_predict = predict(model, X_test_tensor)\n",
    "cnn_predict"
   ]
  },
  {
   "cell_type": "code",
   "execution_count": 245,
   "metadata": {},
   "outputs": [
    {
     "data": {
      "text/plain": [
       "array([[109,  31],\n",
       "       [ 44,  96]])"
      ]
     },
     "execution_count": 245,
     "metadata": {},
     "output_type": "execute_result"
    }
   ],
   "source": [
    "metrics.confusion_matrix(y_test_encoded, cnn_predict)\n"
   ]
  },
  {
   "cell_type": "code",
   "execution_count": 247,
   "metadata": {},
   "outputs": [
    {
     "name": "stdout",
     "output_type": "stream",
     "text": [
      "              precision    recall  f1-score   support\n",
      "\n",
      "         cat       0.71      0.78      0.74       140\n",
      "         dog       0.76      0.69      0.72       140\n",
      "\n",
      "    accuracy                           0.73       280\n",
      "   macro avg       0.73      0.73      0.73       280\n",
      "weighted avg       0.73      0.73      0.73       280\n",
      "\n"
     ]
    }
   ],
   "source": [
    "print(metrics.classification_report(y_test_encoded, cnn_predict, target_names=le.classes_))"
   ]
  },
  {
   "cell_type": "code",
   "execution_count": 256,
   "metadata": {},
   "outputs": [],
   "source": [
    "def predict_image(filepath):\n",
    "    img = cv2.imread(filepath)\n",
    "    img = cv2.resize(img, (64, 64)).astype(np.float32) / 255.0\n",
    "    img = torch.tensor(img, dtype=torch.float32).permute(2, 0, 1).unsqueeze(0)\n",
    "    return le.classes_[predict(model, img).item()]"
   ]
  },
  {
   "cell_type": "code",
   "execution_count": 263,
   "metadata": {},
   "outputs": [
    {
     "data": {
      "text/plain": [
       "'dog'"
      ]
     },
     "execution_count": 263,
     "metadata": {},
     "output_type": "execute_result"
    }
   ],
   "source": [
    "file = \"../data/cat_dog_data/teste/dog.jpg\"\n",
    "\n",
    "predict_image(file)"
   ]
  }
 ],
 "metadata": {
  "kernelspec": {
   "display_name": ".venv",
   "language": "python",
   "name": "python3"
  },
  "language_info": {
   "codemirror_mode": {
    "name": "ipython",
    "version": 3
   },
   "file_extension": ".py",
   "mimetype": "text/x-python",
   "name": "python",
   "nbconvert_exporter": "python",
   "pygments_lexer": "ipython3",
   "version": "3.12.3"
  }
 },
 "nbformat": 4,
 "nbformat_minor": 2
}
