{
 "cells": [
  {
   "cell_type": "markdown",
   "metadata": {},
   "source": [
    "# Extração e Filtregem dos Dados\n",
    "Notebook para importar, mesclar e tratar de maneira geral os dados"
   ]
  },
  {
   "cell_type": "markdown",
   "metadata": {},
   "source": [
    "Colunas que usaremos no projeto:\n",
    "|Cod|Pergunta|\n",
    "|--|--|\n",
    "|A002| Idade do morador|\n",
    "|A003| Sexo\n",
    "|A004| Cor ou raça|\n",
    "|A005| Escolaridade\n",
    "|C001| Na semana passada, por pelo menos uma hora, trabalhou ou fez algum bico?|\n",
    "|C006| Tem mais de um trabalho|\n",
    "|C007| No trabalho (único ou principal) que tinha nessa semana, era:|\n",
    "|C008| Quantas horas, por semana, normalmente trabalhava?|\n",
    "|C009| Quantas horas, na semana passada, de fato trabalhou?|\n",
    "|C013| Na semana passada, o(a) Sr(a) estava em trabalho remoto (home office ou teletrabalho)?|\n",
    "|V1022|Situação do domicílio|\n",
    "|F001| Este domicílio é:|\n",
    "|B0011| Na semana passada teve febre?|\n",
    "|B0012| Na semana passada teve tosse?|\n",
    "|B0013| Na semana passada teve dor de garganta?|\n",
    "|B0014| Na semana passada teve dificuldade para respirar?|\n",
    "|B0015| Na semana passada teve dor de cabeça?|\n",
    "|B0016| Na semana passada teve dor no peito?|\n",
    "|B0017| Na semana passada teve náusea?|\n",
    "|B0018| Na semana passada teve nariz entupido ou escorrendo?|\n",
    "|B0019| Na semana passada teve fadiga?|\n",
    "|B00110| Na semana passada teve dor nos olhos?|\n",
    "|B00111| Na semana passada teve perda de cheiro ou sabor?|\n",
    "|B00112| Na semana passada teve dor muscular?|\n",
    "|B00113| Na semana passada teve diarreia?|\n",
    "|B0101| Algum médico já lhe deu o diagnóstico de diabetes?|\n",
    "|B0102| Algum médico já lhe deu o diagnóstico de hipertensão?|\n",
    "|B0103| Algum médico já lhe deu o diagnóstico de asma/bronquite/enfisema/doenças respiratória crônica ou doença de pulmão? |\n",
    "|B0104| Algum médico já lhe deu o diagnóstico de doenças do coração (infarto, angina, insuficiência cardíaca, arritmia)?|\n",
    "|B0105| Algum médico já lhe deu o diagnóstico de depressão?|\n",
    "|B0106| Algum médico já lhe deu o diagnóstico de câncer?|\n",
    "|B011| Na semana passada, devido à pandemia do Coronavírus, em que medida o(a) Sr(a) restringiu o contato com as pessoas?|\n",
    "|B002| Por causa disso, foi a algum estabelecimento de saúde?|\n",
    "|B0041| Local que buscou atendimento foi posto de saúde/Unidade básica de saúde /Equipe de Saúde daFamília (médico, enfermeiro, técnico de enfermagem ou agente comunitário de saúde)|\n",
    "|B0042| Local que buscou atendimento foi pronto socorro do SUS/UPA|\n",
    "|B0043| Local que buscou atendimento foi hospital do SUS|\n",
    "|B0044| Local que buscou atendimento foi ambulatório ou consultório privado ou ligado às forças armadas|\n",
    "|B0045| Local que buscou atendimento foi pronto socorro privado ou ligado às forças armadas|\n",
    "|B0046| Local que buscou atendimento foi hospital privado ou ligado às forças armadas|\n",
    "|B008| O(A) Sr(a) fez algum teste para saber se estava infectado(a) pelo coronavírus?|\n",
    "|B009A| Fez o exame coletado com cotonete na boca e/ou nariz (SWAB)?|\n",
    "|B009B| Qual o resultado?|\n",
    "|B009C| Fez o exame de coleta de sangue através de furo no dedo?|\n",
    "|B009D| Qual o resultado?|\n",
    "|B009E| Fez o exame de coleta de sangue através da veia da braço?|\n",
    "|B009F| Qual o resultado?|\n"
   ]
  },
  {
   "cell_type": "code",
   "execution_count": 1,
   "metadata": {},
   "outputs": [],
   "source": [
    "import polars as pl"
   ]
  },
  {
   "cell_type": "markdown",
   "metadata": {},
   "source": [
    "Importando os dataframes"
   ]
  },
  {
   "cell_type": "code",
   "execution_count": null,
   "metadata": {},
   "outputs": [],
   "source": [
    "df09 = pl.read_csv(\"../data/bronze/PNAD_COVID_092020.csv\")\n",
    "df10 = pl.read_csv(\"../data/bronze/PNAD_COVID_102020.csv\")\n",
    "df11 = pl.read_csv(\"../data/bronze/PNAD_COVID_112020.csv\")"
   ]
  },
  {
   "cell_type": "markdown",
   "metadata": {},
   "source": [
    "Verificando se existem colunas diferentes entre eles"
   ]
  },
  {
   "cell_type": "code",
   "execution_count": null,
   "metadata": {},
   "outputs": [],
   "source": [
    "def compare_columns(df, df2):\n",
    "   for col in df.columns:\n",
    "      if col not in df2.columns:\n",
    "         print(f\"Column '{col}' not found\")"
   ]
  },
  {
   "cell_type": "code",
   "execution_count": null,
   "metadata": {},
   "outputs": [],
   "source": [
    "compare_columns(df09, df10)"
   ]
  },
  {
   "cell_type": "code",
   "execution_count": null,
   "metadata": {},
   "outputs": [],
   "source": [
    "compare_columns(df09, df11)"
   ]
  },
  {
   "cell_type": "code",
   "execution_count": null,
   "metadata": {},
   "outputs": [],
   "source": [
    "compare_columns(df10, df09)"
   ]
  },
  {
   "cell_type": "code",
   "execution_count": null,
   "metadata": {},
   "outputs": [],
   "source": [
    "compare_columns(df10, df11)"
   ]
  },
  {
   "cell_type": "code",
   "execution_count": null,
   "metadata": {},
   "outputs": [],
   "source": [
    "compare_columns(df11, df09)"
   ]
  },
  {
   "cell_type": "code",
   "execution_count": null,
   "metadata": {},
   "outputs": [],
   "source": [
    "compare_columns(df11, df10)"
   ]
  },
  {
   "cell_type": "markdown",
   "metadata": {},
   "source": [
    "Selecionando apenas colunas que serão usadas no projeto"
   ]
  },
  {
   "cell_type": "code",
   "execution_count": null,
   "metadata": {},
   "outputs": [],
   "source": [
    "selected_cols = [ \n",
    "   \"UF\", \"V1022\", \"A002\", \"A003\", \"A004\", \"A005\", \"C001\", \"F001\", \"B0011\", \n",
    "   \"B0012\", \"B0013\", \"B0014\", \"B0015\", \"B0016\", \"B0017\", \"B0018\", \n",
    "   \"B0019\", \"B00110\", \"B00111\", \"B00112\", \"B00113\", \"B002\", \"B0041\", \n",
    "   \"B0042\", \"B0043\", \"B0044\", \"B0045\", \"B0046\", \"B008\", \"B009A\", \"B009B\", \n",
    "   \"B009C\", \"B009D\", \"B009E\", \"B009F\",\"B0101\", \"B0102\", \"B0103\", \"B0104\", \n",
    "   \"B0105\", \"B0106\", \"B011\", \"C006\", \"C007\", \"C008\", \"C009\", \"C013\"\n",
    "]"
   ]
  },
  {
   "cell_type": "markdown",
   "metadata": {},
   "source": [
    "Filtrando as colunas dos dataframes"
   ]
  },
  {
   "cell_type": "code",
   "execution_count": null,
   "metadata": {},
   "outputs": [],
   "source": [
    "df09 = df09.select(\n",
    "   pl.col(selected_cols).cast(pl.Int64)\n",
    ")\n",
    "df10 = df10.select(\n",
    "   pl.col(selected_cols).cast(pl.Int64)\n",
    ")\n",
    "df11 = df11.select(\n",
    "   pl.col(selected_cols).cast(pl.Int64)\n",
    ")"
   ]
  },
  {
   "cell_type": "markdown",
   "metadata": {},
   "source": [
    "Agrupando dataframes em um único"
   ]
  },
  {
   "cell_type": "code",
   "execution_count": null,
   "metadata": {},
   "outputs": [],
   "source": [
    "df_concat = pl.concat([df09, df10, df11])"
   ]
  },
  {
   "cell_type": "markdown",
   "metadata": {},
   "source": [
    "Verificando forma final do dataframe"
   ]
  },
  {
   "cell_type": "code",
   "execution_count": null,
   "metadata": {},
   "outputs": [],
   "source": [
    "df_concat.shape"
   ]
  },
  {
   "cell_type": "markdown",
   "metadata": {},
   "source": [
    "Salvando em parquet na pasta silver"
   ]
  },
  {
   "cell_type": "code",
   "execution_count": null,
   "metadata": {},
   "outputs": [],
   "source": [
    "df_concat.write_parquet(\"../data/silver/PNAD_COVID_092020_112020.parquet\")"
   ]
  },
  {
   "cell_type": "markdown",
   "metadata": {},
   "source": [
    "# Tratamento dos Dados"
   ]
  },
  {
   "cell_type": "code",
   "execution_count": 2,
   "metadata": {},
   "outputs": [],
   "source": [
    "df = pl.read_parquet('../data/silver/PNAD_COVID_092020_112020.parquet')"
   ]
  },
  {
   "cell_type": "code",
   "execution_count": 3,
   "metadata": {},
   "outputs": [
    {
     "data": {
      "text/html": [
       "<div><style>\n",
       ".dataframe > thead > tr,\n",
       ".dataframe > tbody > tr {\n",
       "  text-align: right;\n",
       "  white-space: pre-wrap;\n",
       "}\n",
       "</style>\n",
       "<small>shape: (9, 48)</small><table border=\"1\" class=\"dataframe\"><thead><tr><th>statistic</th><th>UF</th><th>V1022</th><th>A002</th><th>A003</th><th>A004</th><th>A005</th><th>C001</th><th>F001</th><th>B0011</th><th>B0012</th><th>B0013</th><th>B0014</th><th>B0015</th><th>B0016</th><th>B0017</th><th>B0018</th><th>B0019</th><th>B00110</th><th>B00111</th><th>B00112</th><th>B00113</th><th>B002</th><th>B0041</th><th>B0042</th><th>B0043</th><th>B0044</th><th>B0045</th><th>B0046</th><th>B008</th><th>B009A</th><th>B009B</th><th>B009C</th><th>B009D</th><th>B009E</th><th>B009F</th><th>B0101</th><th>B0102</th><th>B0103</th><th>B0104</th><th>B0105</th><th>B0106</th><th>B011</th><th>C006</th><th>C007</th><th>C008</th><th>C009</th><th>C013</th></tr><tr><td>str</td><td>f64</td><td>f64</td><td>f64</td><td>f64</td><td>f64</td><td>f64</td><td>f64</td><td>f64</td><td>f64</td><td>f64</td><td>f64</td><td>f64</td><td>f64</td><td>f64</td><td>f64</td><td>f64</td><td>f64</td><td>f64</td><td>f64</td><td>f64</td><td>f64</td><td>f64</td><td>f64</td><td>f64</td><td>f64</td><td>f64</td><td>f64</td><td>f64</td><td>f64</td><td>f64</td><td>f64</td><td>f64</td><td>f64</td><td>f64</td><td>f64</td><td>f64</td><td>f64</td><td>f64</td><td>f64</td><td>f64</td><td>f64</td><td>f64</td><td>f64</td><td>f64</td><td>f64</td><td>f64</td><td>f64</td></tr></thead><tbody><tr><td>&quot;count&quot;</td><td>1.149197e6</td><td>1.149197e6</td><td>1.149197e6</td><td>1.149197e6</td><td>1.149197e6</td><td>1.149197e6</td><td>948578.0</td><td>1.149197e6</td><td>1.149197e6</td><td>1.149197e6</td><td>1.149197e6</td><td>1.149197e6</td><td>1.149197e6</td><td>1.149197e6</td><td>1.149197e6</td><td>1.149197e6</td><td>1.149197e6</td><td>1.149197e6</td><td>1.149197e6</td><td>1.149197e6</td><td>1.149197e6</td><td>44950.0</td><td>11796.0</td><td>11796.0</td><td>11796.0</td><td>11796.0</td><td>11796.0</td><td>11796.0</td><td>1.149197e6</td><td>133542.0</td><td>50931.0</td><td>133542.0</td><td>62900.0</td><td>133542.0</td><td>38723.0</td><td>1.149197e6</td><td>1.149197e6</td><td>1.149197e6</td><td>1.149197e6</td><td>1.149197e6</td><td>1.149197e6</td><td>1.149197e6</td><td>451505.0</td><td>451505.0</td><td>435997.0</td><td>435997.0</td><td>48778.0</td></tr><tr><td>&quot;null_count&quot;</td><td>0.0</td><td>0.0</td><td>0.0</td><td>0.0</td><td>0.0</td><td>0.0</td><td>200619.0</td><td>0.0</td><td>0.0</td><td>0.0</td><td>0.0</td><td>0.0</td><td>0.0</td><td>0.0</td><td>0.0</td><td>0.0</td><td>0.0</td><td>0.0</td><td>0.0</td><td>0.0</td><td>0.0</td><td>1.104247e6</td><td>1.137401e6</td><td>1.137401e6</td><td>1.137401e6</td><td>1.137401e6</td><td>1.137401e6</td><td>1.137401e6</td><td>0.0</td><td>1.015655e6</td><td>1.098266e6</td><td>1.015655e6</td><td>1.086297e6</td><td>1.015655e6</td><td>1.110474e6</td><td>0.0</td><td>0.0</td><td>0.0</td><td>0.0</td><td>0.0</td><td>0.0</td><td>0.0</td><td>697692.0</td><td>697692.0</td><td>713200.0</td><td>713200.0</td><td>1.100419e6</td></tr><tr><td>&quot;mean&quot;</td><td>31.611658</td><td>1.238425</td><td>36.977013</td><td>1.520834</td><td>2.581927</td><td>3.647328</td><td>1.552739</td><td>1.815031</td><td>2.014106</td><td>2.008802</td><td>2.011285</td><td>2.018044</td><td>2.005785</td><td>2.019401</td><td>2.019024</td><td>2.008283</td><td>2.015245</td><td>2.026073</td><td>2.025058</td><td>2.018807</td><td>2.025325</td><td>1.7396</td><td>1.567565</td><td>1.847745</td><td>1.881655</td><td>1.972109</td><td>2.021278</td><td>1.958121</td><td>1.898493</td><td>1.642255</td><td>1.773753</td><td>1.554882</td><td>1.815628</td><td>1.73666</td><td>1.753377</td><td>1.96246</td><td>1.869093</td><td>1.97113</td><td>1.992795</td><td>1.991017</td><td>2.01079</td><td>2.658348</td><td>1.942636</td><td>5.19344</td><td>39.712567</td><td>35.219926</td><td>1.302534</td></tr><tr><td>&quot;std&quot;</td><td>10.848035</td><td>0.42612</td><td>21.845288</td><td>0.499566</td><td>1.446487</td><td>1.98931</td><td>0.497211</td><td>1.374311</td><td>0.397487</td><td>0.40643</td><td>0.403383</td><td>0.394824</td><td>0.410477</td><td>0.394611</td><td>0.395923</td><td>0.408384</td><td>0.400033</td><td>0.45121</td><td>0.449181</td><td>0.450989</td><td>0.45022</td><td>0.456938</td><td>0.760132</td><td>0.742722</td><td>0.77338</td><td>0.734762</td><td>0.687048</td><td>0.710922</td><td>0.456933</td><td>0.647218</td><td>0.588921</td><td>0.673904</td><td>0.439233</td><td>0.637983</td><td>0.545647</td><td>0.452908</td><td>0.530656</td><td>0.442948</td><td>0.419584</td><td>0.421951</td><td>0.403382</td><td>0.869002</td><td>0.232537</td><td>1.784783</td><td>11.006423</td><td>15.226874</td><td>0.45936</td></tr><tr><td>&quot;min&quot;</td><td>11.0</td><td>1.0</td><td>0.0</td><td>1.0</td><td>1.0</td><td>1.0</td><td>1.0</td><td>1.0</td><td>1.0</td><td>1.0</td><td>1.0</td><td>1.0</td><td>1.0</td><td>1.0</td><td>1.0</td><td>1.0</td><td>1.0</td><td>1.0</td><td>1.0</td><td>1.0</td><td>1.0</td><td>1.0</td><td>1.0</td><td>1.0</td><td>1.0</td><td>1.0</td><td>1.0</td><td>1.0</td><td>1.0</td><td>1.0</td><td>1.0</td><td>1.0</td><td>1.0</td><td>1.0</td><td>1.0</td><td>1.0</td><td>1.0</td><td>1.0</td><td>1.0</td><td>1.0</td><td>1.0</td><td>1.0</td><td>1.0</td><td>1.0</td><td>1.0</td><td>0.0</td><td>1.0</td></tr><tr><td>&quot;25%&quot;</td><td>24.0</td><td>1.0</td><td>18.0</td><td>1.0</td><td>1.0</td><td>2.0</td><td>1.0</td><td>1.0</td><td>2.0</td><td>2.0</td><td>2.0</td><td>2.0</td><td>2.0</td><td>2.0</td><td>2.0</td><td>2.0</td><td>2.0</td><td>2.0</td><td>2.0</td><td>2.0</td><td>2.0</td><td>1.0</td><td>1.0</td><td>2.0</td><td>2.0</td><td>2.0</td><td>2.0</td><td>2.0</td><td>2.0</td><td>1.0</td><td>1.0</td><td>1.0</td><td>2.0</td><td>1.0</td><td>1.0</td><td>2.0</td><td>2.0</td><td>2.0</td><td>2.0</td><td>2.0</td><td>2.0</td><td>2.0</td><td>2.0</td><td>4.0</td><td>40.0</td><td>30.0</td><td>1.0</td></tr><tr><td>&quot;50%&quot;</td><td>31.0</td><td>1.0</td><td>36.0</td><td>2.0</td><td>3.0</td><td>3.0</td><td>2.0</td><td>1.0</td><td>2.0</td><td>2.0</td><td>2.0</td><td>2.0</td><td>2.0</td><td>2.0</td><td>2.0</td><td>2.0</td><td>2.0</td><td>2.0</td><td>2.0</td><td>2.0</td><td>2.0</td><td>2.0</td><td>2.0</td><td>2.0</td><td>2.0</td><td>2.0</td><td>2.0</td><td>2.0</td><td>2.0</td><td>2.0</td><td>2.0</td><td>2.0</td><td>2.0</td><td>2.0</td><td>2.0</td><td>2.0</td><td>2.0</td><td>2.0</td><td>2.0</td><td>2.0</td><td>2.0</td><td>3.0</td><td>2.0</td><td>5.0</td><td>40.0</td><td>40.0</td><td>1.0</td></tr><tr><td>&quot;75%&quot;</td><td>41.0</td><td>1.0</td><td>54.0</td><td>2.0</td><td>4.0</td><td>5.0</td><td>2.0</td><td>3.0</td><td>2.0</td><td>2.0</td><td>2.0</td><td>2.0</td><td>2.0</td><td>2.0</td><td>2.0</td><td>2.0</td><td>2.0</td><td>2.0</td><td>2.0</td><td>2.0</td><td>2.0</td><td>2.0</td><td>2.0</td><td>2.0</td><td>2.0</td><td>2.0</td><td>2.0</td><td>2.0</td><td>2.0</td><td>2.0</td><td>2.0</td><td>2.0</td><td>2.0</td><td>2.0</td><td>2.0</td><td>2.0</td><td>2.0</td><td>2.0</td><td>2.0</td><td>2.0</td><td>2.0</td><td>3.0</td><td>2.0</td><td>7.0</td><td>44.0</td><td>44.0</td><td>2.0</td></tr><tr><td>&quot;max&quot;</td><td>53.0</td><td>2.0</td><td>111.0</td><td>2.0</td><td>9.0</td><td>8.0</td><td>2.0</td><td>7.0</td><td>9.0</td><td>9.0</td><td>9.0</td><td>9.0</td><td>9.0</td><td>9.0</td><td>9.0</td><td>9.0</td><td>9.0</td><td>9.0</td><td>9.0</td><td>9.0</td><td>9.0</td><td>9.0</td><td>9.0</td><td>9.0</td><td>9.0</td><td>9.0</td><td>9.0</td><td>9.0</td><td>9.0</td><td>9.0</td><td>9.0</td><td>9.0</td><td>9.0</td><td>9.0</td><td>9.0</td><td>9.0</td><td>9.0</td><td>9.0</td><td>9.0</td><td>9.0</td><td>9.0</td><td>9.0</td><td>2.0</td><td>9.0</td><td>120.0</td><td>120.0</td><td>2.0</td></tr></tbody></table></div>"
      ],
      "text/plain": [
       "shape: (9, 48)\n",
       "┌───────────┬───────────┬───────────┬───────────┬───┬──────────┬───────────┬───────────┬───────────┐\n",
       "│ statistic ┆ UF        ┆ V1022     ┆ A002      ┆ … ┆ C007     ┆ C008      ┆ C009      ┆ C013      │\n",
       "│ ---       ┆ ---       ┆ ---       ┆ ---       ┆   ┆ ---      ┆ ---       ┆ ---       ┆ ---       │\n",
       "│ str       ┆ f64       ┆ f64       ┆ f64       ┆   ┆ f64      ┆ f64       ┆ f64       ┆ f64       │\n",
       "╞═══════════╪═══════════╪═══════════╪═══════════╪═══╪══════════╪═══════════╪═══════════╪═══════════╡\n",
       "│ count     ┆ 1.149197e ┆ 1.149197e ┆ 1.149197e ┆ … ┆ 451505.0 ┆ 435997.0  ┆ 435997.0  ┆ 48778.0   │\n",
       "│           ┆ 6         ┆ 6         ┆ 6         ┆   ┆          ┆           ┆           ┆           │\n",
       "│ null_coun ┆ 0.0       ┆ 0.0       ┆ 0.0       ┆ … ┆ 697692.0 ┆ 713200.0  ┆ 713200.0  ┆ 1.100419e │\n",
       "│ t         ┆           ┆           ┆           ┆   ┆          ┆           ┆           ┆ 6         │\n",
       "│ mean      ┆ 31.611658 ┆ 1.238425  ┆ 36.977013 ┆ … ┆ 5.19344  ┆ 39.712567 ┆ 35.219926 ┆ 1.302534  │\n",
       "│ std       ┆ 10.848035 ┆ 0.42612   ┆ 21.845288 ┆ … ┆ 1.784783 ┆ 11.006423 ┆ 15.226874 ┆ 0.45936   │\n",
       "│ min       ┆ 11.0      ┆ 1.0       ┆ 0.0       ┆ … ┆ 1.0      ┆ 1.0       ┆ 0.0       ┆ 1.0       │\n",
       "│ 25%       ┆ 24.0      ┆ 1.0       ┆ 18.0      ┆ … ┆ 4.0      ┆ 40.0      ┆ 30.0      ┆ 1.0       │\n",
       "│ 50%       ┆ 31.0      ┆ 1.0       ┆ 36.0      ┆ … ┆ 5.0      ┆ 40.0      ┆ 40.0      ┆ 1.0       │\n",
       "│ 75%       ┆ 41.0      ┆ 1.0       ┆ 54.0      ┆ … ┆ 7.0      ┆ 44.0      ┆ 44.0      ┆ 2.0       │\n",
       "│ max       ┆ 53.0      ┆ 2.0       ┆ 111.0     ┆ … ┆ 9.0      ┆ 120.0     ┆ 120.0     ┆ 2.0       │\n",
       "└───────────┴───────────┴───────────┴───────────┴───┴──────────┴───────────┴───────────┴───────────┘"
      ]
     },
     "execution_count": 3,
     "metadata": {},
     "output_type": "execute_result"
    }
   ],
   "source": [
    "df.describe()"
   ]
  },
  {
   "cell_type": "code",
   "execution_count": 4,
   "metadata": {},
   "outputs": [],
   "source": [
    "df = df.rename({\n",
    "   \"UF\": \"uf\",\n",
    "   \"A002\": \"idade\",\n",
    "   \"A003\": \"sexo\",\n",
    "   \"A004\": \"cor\",\n",
    "   \"A005\": \"escolaridade\",\n",
    "   \"C001\": \"trabalhou_semana_passada\",\n",
    "   \"F001\": \"tipo_domicilio\",\n",
    "   \"V1022\":\t\"situacao_domicilio\",\n",
    "   \"B0011\": \"febre\",\n",
    "   \"B0012\": \"tosse\",\n",
    "   \"B0013\": \"dor_garganta\",\n",
    "   \"B0014\": \"dificuldade_respirar\",\n",
    "   \"B0015\": \"dor_cabeça\",\n",
    "   \"B0016\": \"dor_peito\",\n",
    "   \"B0017\": \"nausea\",\n",
    "   \"B0018\": \"nariz_entupido\",\n",
    "   \"B0019\": \"fadiga\",\n",
    "   \"B00110\": \"dor_olhos\",\n",
    "   \"B00111\": \"perda_olfato_paladar\",\n",
    "   \"B00112\": \"dor_muscular\",\n",
    "   \"B00113\": \"diarreia\",\n",
    "   \"B002\": \"ida_unidade_saude\",\n",
    "   \"B0041\": \"posto_publico\",\n",
    "   \"B0042\": \"pronto_socorro_publico\",\n",
    "   \"B0043\": \"hospital_publico\",\n",
    "   \"B0044\": \"ambulatorio_privado\",\n",
    "   \"B0045\": \"pronto_socorro_privado\",\n",
    "   \"B0046\": \"hospital_privado\",\n",
    "   \"B008\": \"fez_teste\",\n",
    "   \"B009A\": \"teste_swab\",\n",
    "   \"B009B\": \"resultado_swab\",\n",
    "   \"B009C\": \"teste_sangue_dedo\",\n",
    "   \"B009D\": \"resultado_sangue_dedo\",\n",
    "   \"B009E\": \"teste_sangue_coleta\",\n",
    "   \"B009F\": \"resultado_sangue_coleta\",\n",
    "   \"B0101\": \"diagnostico_diabetes\",\n",
    "   \"B0102\": \"diagnostico_hipertensao\",\n",
    "   \"B0103\": \"diagnostico_doenca_pulmao\",\n",
    "   \"B0104\": \"diagnostico_doenca_cardiaca\",\n",
    "   \"B0105\": \"diagnostico_depressao\",\n",
    "   \"B0106\": \"diagnostico_cancer\",\n",
    "   \"B011\": \"restricao_contato\",\n",
    "   \"C006\": \"mais_um_trabalho\",\n",
    "   \"C007\": \"tipo_trabalho\",\n",
    "   \"C008\": \"horas_trabalho_normal\",\n",
    "   \"C009\": \"horas_trabalho_semana_passada\",\n",
    "   \"C013\": \"trabalho_remoto_semana_passada\"\n",
    "})"
   ]
  },
  {
   "cell_type": "code",
   "execution_count": 5,
   "metadata": {},
   "outputs": [
    {
     "data": {
      "text/html": [
       "<div><style>\n",
       ".dataframe > thead > tr,\n",
       ".dataframe > tbody > tr {\n",
       "  text-align: right;\n",
       "  white-space: pre-wrap;\n",
       "}\n",
       "</style>\n",
       "<small>shape: (9, 48)</small><table border=\"1\" class=\"dataframe\"><thead><tr><th>statistic</th><th>uf</th><th>situacao_domicilio</th><th>idade</th><th>sexo</th><th>cor</th><th>escolaridade</th><th>trabalhou_semana_passada</th><th>tipo_domicilio</th><th>febre</th><th>tosse</th><th>dor_garganta</th><th>dificuldade_respirar</th><th>dor_cabeça</th><th>dor_peito</th><th>nausea</th><th>nariz_entupido</th><th>fadiga</th><th>dor_olhos</th><th>perda_olfato_paladar</th><th>dor_muscular</th><th>diarreia</th><th>ida_unidade_saude</th><th>posto_publico</th><th>pronto_socorro_publico</th><th>hospital_publico</th><th>ambulatorio_privado</th><th>pronto_socorro_privado</th><th>hospital_privado</th><th>fez_teste</th><th>teste_swab</th><th>resultado_swab</th><th>teste_sangue_dedo</th><th>resultado_sangue_dedo</th><th>teste_sangue_coleta</th><th>resultado_sangue_coleta</th><th>diagnostico_diabetes</th><th>diagnostico_hipertensao</th><th>diagnostico_doenca_pulmao</th><th>diagnostico_doenca_cardiaca</th><th>diagnostico_depressao</th><th>diagnostico_cancer</th><th>restricao_contato</th><th>mais_um_trabalho</th><th>tipo_trabalho</th><th>horas_trabalho_normal</th><th>horas_trabalho_semana_passada</th><th>trabalho_remoto_semana_passada</th></tr><tr><td>str</td><td>f64</td><td>f64</td><td>f64</td><td>f64</td><td>f64</td><td>f64</td><td>f64</td><td>f64</td><td>f64</td><td>f64</td><td>f64</td><td>f64</td><td>f64</td><td>f64</td><td>f64</td><td>f64</td><td>f64</td><td>f64</td><td>f64</td><td>f64</td><td>f64</td><td>f64</td><td>f64</td><td>f64</td><td>f64</td><td>f64</td><td>f64</td><td>f64</td><td>f64</td><td>f64</td><td>f64</td><td>f64</td><td>f64</td><td>f64</td><td>f64</td><td>f64</td><td>f64</td><td>f64</td><td>f64</td><td>f64</td><td>f64</td><td>f64</td><td>f64</td><td>f64</td><td>f64</td><td>f64</td><td>f64</td></tr></thead><tbody><tr><td>&quot;count&quot;</td><td>1.149197e6</td><td>1.149197e6</td><td>1.149197e6</td><td>1.149197e6</td><td>1.149197e6</td><td>1.149197e6</td><td>948578.0</td><td>1.149197e6</td><td>1.149197e6</td><td>1.149197e6</td><td>1.149197e6</td><td>1.149197e6</td><td>1.149197e6</td><td>1.149197e6</td><td>1.149197e6</td><td>1.149197e6</td><td>1.149197e6</td><td>1.149197e6</td><td>1.149197e6</td><td>1.149197e6</td><td>1.149197e6</td><td>44950.0</td><td>11796.0</td><td>11796.0</td><td>11796.0</td><td>11796.0</td><td>11796.0</td><td>11796.0</td><td>1.149197e6</td><td>133542.0</td><td>50931.0</td><td>133542.0</td><td>62900.0</td><td>133542.0</td><td>38723.0</td><td>1.149197e6</td><td>1.149197e6</td><td>1.149197e6</td><td>1.149197e6</td><td>1.149197e6</td><td>1.149197e6</td><td>1.149197e6</td><td>451505.0</td><td>451505.0</td><td>435997.0</td><td>435997.0</td><td>48778.0</td></tr><tr><td>&quot;null_count&quot;</td><td>0.0</td><td>0.0</td><td>0.0</td><td>0.0</td><td>0.0</td><td>0.0</td><td>200619.0</td><td>0.0</td><td>0.0</td><td>0.0</td><td>0.0</td><td>0.0</td><td>0.0</td><td>0.0</td><td>0.0</td><td>0.0</td><td>0.0</td><td>0.0</td><td>0.0</td><td>0.0</td><td>0.0</td><td>1.104247e6</td><td>1.137401e6</td><td>1.137401e6</td><td>1.137401e6</td><td>1.137401e6</td><td>1.137401e6</td><td>1.137401e6</td><td>0.0</td><td>1.015655e6</td><td>1.098266e6</td><td>1.015655e6</td><td>1.086297e6</td><td>1.015655e6</td><td>1.110474e6</td><td>0.0</td><td>0.0</td><td>0.0</td><td>0.0</td><td>0.0</td><td>0.0</td><td>0.0</td><td>697692.0</td><td>697692.0</td><td>713200.0</td><td>713200.0</td><td>1.100419e6</td></tr><tr><td>&quot;mean&quot;</td><td>31.611658</td><td>1.238425</td><td>36.977013</td><td>1.520834</td><td>2.581927</td><td>3.647328</td><td>1.552739</td><td>1.815031</td><td>2.014106</td><td>2.008802</td><td>2.011285</td><td>2.018044</td><td>2.005785</td><td>2.019401</td><td>2.019024</td><td>2.008283</td><td>2.015245</td><td>2.026073</td><td>2.025058</td><td>2.018807</td><td>2.025325</td><td>1.7396</td><td>1.567565</td><td>1.847745</td><td>1.881655</td><td>1.972109</td><td>2.021278</td><td>1.958121</td><td>1.898493</td><td>1.642255</td><td>1.773753</td><td>1.554882</td><td>1.815628</td><td>1.73666</td><td>1.753377</td><td>1.96246</td><td>1.869093</td><td>1.97113</td><td>1.992795</td><td>1.991017</td><td>2.01079</td><td>2.658348</td><td>1.942636</td><td>5.19344</td><td>39.712567</td><td>35.219926</td><td>1.302534</td></tr><tr><td>&quot;std&quot;</td><td>10.848035</td><td>0.42612</td><td>21.845288</td><td>0.499566</td><td>1.446487</td><td>1.98931</td><td>0.497211</td><td>1.374311</td><td>0.397487</td><td>0.40643</td><td>0.403383</td><td>0.394824</td><td>0.410477</td><td>0.394611</td><td>0.395923</td><td>0.408384</td><td>0.400033</td><td>0.45121</td><td>0.449181</td><td>0.450989</td><td>0.45022</td><td>0.456938</td><td>0.760132</td><td>0.742722</td><td>0.77338</td><td>0.734762</td><td>0.687048</td><td>0.710922</td><td>0.456933</td><td>0.647218</td><td>0.588921</td><td>0.673904</td><td>0.439233</td><td>0.637983</td><td>0.545647</td><td>0.452908</td><td>0.530656</td><td>0.442948</td><td>0.419584</td><td>0.421951</td><td>0.403382</td><td>0.869002</td><td>0.232537</td><td>1.784783</td><td>11.006423</td><td>15.226874</td><td>0.45936</td></tr><tr><td>&quot;min&quot;</td><td>11.0</td><td>1.0</td><td>0.0</td><td>1.0</td><td>1.0</td><td>1.0</td><td>1.0</td><td>1.0</td><td>1.0</td><td>1.0</td><td>1.0</td><td>1.0</td><td>1.0</td><td>1.0</td><td>1.0</td><td>1.0</td><td>1.0</td><td>1.0</td><td>1.0</td><td>1.0</td><td>1.0</td><td>1.0</td><td>1.0</td><td>1.0</td><td>1.0</td><td>1.0</td><td>1.0</td><td>1.0</td><td>1.0</td><td>1.0</td><td>1.0</td><td>1.0</td><td>1.0</td><td>1.0</td><td>1.0</td><td>1.0</td><td>1.0</td><td>1.0</td><td>1.0</td><td>1.0</td><td>1.0</td><td>1.0</td><td>1.0</td><td>1.0</td><td>1.0</td><td>0.0</td><td>1.0</td></tr><tr><td>&quot;25%&quot;</td><td>24.0</td><td>1.0</td><td>18.0</td><td>1.0</td><td>1.0</td><td>2.0</td><td>1.0</td><td>1.0</td><td>2.0</td><td>2.0</td><td>2.0</td><td>2.0</td><td>2.0</td><td>2.0</td><td>2.0</td><td>2.0</td><td>2.0</td><td>2.0</td><td>2.0</td><td>2.0</td><td>2.0</td><td>1.0</td><td>1.0</td><td>2.0</td><td>2.0</td><td>2.0</td><td>2.0</td><td>2.0</td><td>2.0</td><td>1.0</td><td>1.0</td><td>1.0</td><td>2.0</td><td>1.0</td><td>1.0</td><td>2.0</td><td>2.0</td><td>2.0</td><td>2.0</td><td>2.0</td><td>2.0</td><td>2.0</td><td>2.0</td><td>4.0</td><td>40.0</td><td>30.0</td><td>1.0</td></tr><tr><td>&quot;50%&quot;</td><td>31.0</td><td>1.0</td><td>36.0</td><td>2.0</td><td>3.0</td><td>3.0</td><td>2.0</td><td>1.0</td><td>2.0</td><td>2.0</td><td>2.0</td><td>2.0</td><td>2.0</td><td>2.0</td><td>2.0</td><td>2.0</td><td>2.0</td><td>2.0</td><td>2.0</td><td>2.0</td><td>2.0</td><td>2.0</td><td>2.0</td><td>2.0</td><td>2.0</td><td>2.0</td><td>2.0</td><td>2.0</td><td>2.0</td><td>2.0</td><td>2.0</td><td>2.0</td><td>2.0</td><td>2.0</td><td>2.0</td><td>2.0</td><td>2.0</td><td>2.0</td><td>2.0</td><td>2.0</td><td>2.0</td><td>3.0</td><td>2.0</td><td>5.0</td><td>40.0</td><td>40.0</td><td>1.0</td></tr><tr><td>&quot;75%&quot;</td><td>41.0</td><td>1.0</td><td>54.0</td><td>2.0</td><td>4.0</td><td>5.0</td><td>2.0</td><td>3.0</td><td>2.0</td><td>2.0</td><td>2.0</td><td>2.0</td><td>2.0</td><td>2.0</td><td>2.0</td><td>2.0</td><td>2.0</td><td>2.0</td><td>2.0</td><td>2.0</td><td>2.0</td><td>2.0</td><td>2.0</td><td>2.0</td><td>2.0</td><td>2.0</td><td>2.0</td><td>2.0</td><td>2.0</td><td>2.0</td><td>2.0</td><td>2.0</td><td>2.0</td><td>2.0</td><td>2.0</td><td>2.0</td><td>2.0</td><td>2.0</td><td>2.0</td><td>2.0</td><td>2.0</td><td>3.0</td><td>2.0</td><td>7.0</td><td>44.0</td><td>44.0</td><td>2.0</td></tr><tr><td>&quot;max&quot;</td><td>53.0</td><td>2.0</td><td>111.0</td><td>2.0</td><td>9.0</td><td>8.0</td><td>2.0</td><td>7.0</td><td>9.0</td><td>9.0</td><td>9.0</td><td>9.0</td><td>9.0</td><td>9.0</td><td>9.0</td><td>9.0</td><td>9.0</td><td>9.0</td><td>9.0</td><td>9.0</td><td>9.0</td><td>9.0</td><td>9.0</td><td>9.0</td><td>9.0</td><td>9.0</td><td>9.0</td><td>9.0</td><td>9.0</td><td>9.0</td><td>9.0</td><td>9.0</td><td>9.0</td><td>9.0</td><td>9.0</td><td>9.0</td><td>9.0</td><td>9.0</td><td>9.0</td><td>9.0</td><td>9.0</td><td>9.0</td><td>2.0</td><td>9.0</td><td>120.0</td><td>120.0</td><td>2.0</td></tr></tbody></table></div>"
      ],
      "text/plain": [
       "shape: (9, 48)\n",
       "┌───────────┬───────────┬───────────┬───────────┬───┬───────────┬───────────┬───────────┬──────────┐\n",
       "│ statistic ┆ uf        ┆ situacao_ ┆ idade     ┆ … ┆ tipo_trab ┆ horas_tra ┆ horas_tra ┆ trabalho │\n",
       "│ ---       ┆ ---       ┆ domicilio ┆ ---       ┆   ┆ alho      ┆ balho_nor ┆ balho_sem ┆ _remoto_ │\n",
       "│ str       ┆ f64       ┆ ---       ┆ f64       ┆   ┆ ---       ┆ mal       ┆ ana_passa ┆ semana_p │\n",
       "│           ┆           ┆ f64       ┆           ┆   ┆ f64       ┆ ---       ┆ da        ┆ assada   │\n",
       "│           ┆           ┆           ┆           ┆   ┆           ┆ f64       ┆ ---       ┆ ---      │\n",
       "│           ┆           ┆           ┆           ┆   ┆           ┆           ┆ f64       ┆ f64      │\n",
       "╞═══════════╪═══════════╪═══════════╪═══════════╪═══╪═══════════╪═══════════╪═══════════╪══════════╡\n",
       "│ count     ┆ 1.149197e ┆ 1.149197e ┆ 1.149197e ┆ … ┆ 451505.0  ┆ 435997.0  ┆ 435997.0  ┆ 48778.0  │\n",
       "│           ┆ 6         ┆ 6         ┆ 6         ┆   ┆           ┆           ┆           ┆          │\n",
       "│ null_coun ┆ 0.0       ┆ 0.0       ┆ 0.0       ┆ … ┆ 697692.0  ┆ 713200.0  ┆ 713200.0  ┆ 1.100419 │\n",
       "│ t         ┆           ┆           ┆           ┆   ┆           ┆           ┆           ┆ e6       │\n",
       "│ mean      ┆ 31.611658 ┆ 1.238425  ┆ 36.977013 ┆ … ┆ 5.19344   ┆ 39.712567 ┆ 35.219926 ┆ 1.302534 │\n",
       "│ std       ┆ 10.848035 ┆ 0.42612   ┆ 21.845288 ┆ … ┆ 1.784783  ┆ 11.006423 ┆ 15.226874 ┆ 0.45936  │\n",
       "│ min       ┆ 11.0      ┆ 1.0       ┆ 0.0       ┆ … ┆ 1.0       ┆ 1.0       ┆ 0.0       ┆ 1.0      │\n",
       "│ 25%       ┆ 24.0      ┆ 1.0       ┆ 18.0      ┆ … ┆ 4.0       ┆ 40.0      ┆ 30.0      ┆ 1.0      │\n",
       "│ 50%       ┆ 31.0      ┆ 1.0       ┆ 36.0      ┆ … ┆ 5.0       ┆ 40.0      ┆ 40.0      ┆ 1.0      │\n",
       "│ 75%       ┆ 41.0      ┆ 1.0       ┆ 54.0      ┆ … ┆ 7.0       ┆ 44.0      ┆ 44.0      ┆ 2.0      │\n",
       "│ max       ┆ 53.0      ┆ 2.0       ┆ 111.0     ┆ … ┆ 9.0       ┆ 120.0     ┆ 120.0     ┆ 2.0      │\n",
       "└───────────┴───────────┴───────────┴───────────┴───┴───────────┴───────────┴───────────┴──────────┘"
      ]
     },
     "execution_count": 5,
     "metadata": {},
     "output_type": "execute_result"
    }
   ],
   "source": [
    "df.describe()"
   ]
  },
  {
   "cell_type": "markdown",
   "metadata": {},
   "source": [
    "Criando variáveis de ida ao hospital publico ou privado"
   ]
  },
  {
   "cell_type": "code",
   "execution_count": 6,
   "metadata": {},
   "outputs": [],
   "source": [
    "df = df.with_columns(\n",
    "   pl.when(\n",
    "      (pl.col(\"posto_publico\") == 1) |\n",
    "      (pl.col(\"pronto_socorro_publico\") == 1) |\n",
    "      (pl.col(\"hospital_publico\") == 1)\n",
    "   ).then(1).otherwise(0).alias(\"atendimento_publico\")\n",
    ")"
   ]
  },
  {
   "cell_type": "markdown",
   "metadata": {},
   "source": [
    "Criando variável resultado do teste"
   ]
  },
  {
   "cell_type": "code",
   "execution_count": 7,
   "metadata": {},
   "outputs": [],
   "source": [
    "df = df.with_columns(\n",
    "   pl.when(\n",
    "      (pl.col(\"resultado_swab\") == 1) |\n",
    "      (pl.col(\"resultado_sangue_dedo\") == 1) |\n",
    "      (pl.col(\"resultado_sangue_coleta\") == 1)\n",
    "   ).then(1).otherwise(0).alias(\"resultado_positivo\")\n",
    ")"
   ]
  },
  {
   "cell_type": "markdown",
   "metadata": {},
   "source": [
    "Traduzindo Código UF"
   ]
  },
  {
   "cell_type": "code",
   "execution_count": 8,
   "metadata": {},
   "outputs": [],
   "source": [
    "map_uf ={\n",
    "   11: 'Rondônia',\n",
    "   12: 'Acre',\n",
    "   13: 'Amazonas',\n",
    "   14: 'Roraima',\n",
    "   15: 'Pará',\n",
    "   16: 'Amapá',\n",
    "   17: 'Tocantins',\n",
    "   21: 'Maranhão',\n",
    "   22: 'Piauí',\n",
    "   23: 'Ceará',\n",
    "   24: 'Rio Grande do Norte',\n",
    "   25: 'Paraíba',\n",
    "   26: 'Pernambuco',\n",
    "   27: 'Alagoas',\n",
    "   28: 'Sergipe',\n",
    "   29: 'Bahia',\n",
    "   31: 'Minas Gerais',\n",
    "   32: 'Espírito Santo',\n",
    "   33: 'Rio de Janeiro',\n",
    "   35: 'São Paulo',\n",
    "   41: 'Paraná',\n",
    "   42: 'Santa Catarina',\n",
    "   43: 'Rio Grande do Sul',\n",
    "   50: 'Mato Grosso do Sul',\n",
    "   51: 'Mato Grosso',\n",
    "   52: 'Goiás',\n",
    "   53: 'Distrito Federal'\n",
    "}\n",
    "\n",
    "df = df.with_columns(\n",
    "   pl.col(\"uf\").replace(map_uf).alias(\"uf_nome\")\n",
    ")\n"
   ]
  },
  {
   "cell_type": "markdown",
   "metadata": {},
   "source": [
    "Criando variável para região"
   ]
  },
  {
   "cell_type": "code",
   "execution_count": 9,
   "metadata": {},
   "outputs": [],
   "source": [
    "def classificar_regiao(estado):\n",
    "    if estado in ['São Paulo', 'Rio de Janeiro', 'Minas Gerais', 'Espirito Santo']:\n",
    "        return 'Sudeste'\n",
    "    elif estado in ['Paraná', 'Santa Catarina', 'Rio Grande do Sul']:\n",
    "        return 'Sul'\n",
    "    elif estado in ['Mato Grosso do Sul', 'Mato Grosso', 'Goiás', 'Distrito Federal']:\n",
    "        return 'Centro-Oeste'\n",
    "    elif estado in ['Rondônia', 'Acre', 'Amazonas', 'Roraima', 'Pará', 'Amapá', 'Tocantins']:\n",
    "        return 'Norte'\n",
    "    elif estado in ['Maranhão', 'Piauí', 'Ceará', 'Rio Grande do Norte', 'Paraíba', 'Pernambuco', 'Alagoas', 'Sergipe', 'Bahia']:\n",
    "        return 'Nordeste'\n",
    "    else:\n",
    "        return estado\n",
    "\n",
    "df = df.with_columns(pl.col('uf_nome').map_elements(classificar_regiao).alias('regiao'))"
   ]
  },
  {
   "cell_type": "markdown",
   "metadata": {},
   "source": [
    "Salvando na camada gold"
   ]
  },
  {
   "cell_type": "code",
   "execution_count": 10,
   "metadata": {},
   "outputs": [],
   "source": [
    "df.write_parquet(\"../data/gold/PNAD_COVID_092020_112020.parquet\")"
   ]
  },
  {
   "cell_type": "code",
   "execution_count": null,
   "metadata": {},
   "outputs": [],
   "source": []
  }
 ],
 "metadata": {
  "kernelspec": {
   "display_name": "Python 3 (ipykernel)",
   "language": "python",
   "name": "python3"
  },
  "language_info": {
   "codemirror_mode": {
    "name": "ipython",
    "version": 3
   },
   "file_extension": ".py",
   "mimetype": "text/x-python",
   "name": "python",
   "nbconvert_exporter": "python",
   "pygments_lexer": "ipython3",
   "version": "3.12.1"
  }
 },
 "nbformat": 4,
 "nbformat_minor": 4
}
