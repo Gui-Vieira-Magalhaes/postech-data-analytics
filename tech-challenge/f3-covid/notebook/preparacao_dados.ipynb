{
 "cells": [
  {
   "cell_type": "markdown",
   "metadata": {},
   "source": [
    "# Extração e Filtregem dos Dados\n",
    "Notebook para importar, mesclar e tratar de maneira geral os dados"
   ]
  },
  {
   "cell_type": "markdown",
   "metadata": {},
   "source": [
    "Colunas que usaremos no projeto:\n",
    "|Cod|Pergunta|\n",
    "|--|--|\n",
    "|A002| Idade do morador|\n",
    "|A003| Sexo\n",
    "|A004| Cor ou raça|\n",
    "|A005| Escolaridade\n",
    "|C001| Na semana passada, por pelo menos uma hora, trabalhou ou fez algum bico?|\n",
    "|C006| Tem mais de um trabalho|\n",
    "|C007| No trabalho (único ou principal) que tinha nessa semana, era:|\n",
    "|C008| Quantas horas, por semana, normalmente trabalhava?|\n",
    "|C009| Quantas horas, na semana passada, de fato trabalhou?|\n",
    "|C013| Na semana passada, o(a) Sr(a) estava em trabalho remoto (home office ou teletrabalho)?|\n",
    "|V1022|Situação do domicílio|\n",
    "|F001| Este domicílio é:|\n",
    "|B0011| Na semana passada teve febre?|\n",
    "|B0012| Na semana passada teve tosse?|\n",
    "|B0013| Na semana passada teve dor de garganta?|\n",
    "|B0014| Na semana passada teve dificuldade para respirar?|\n",
    "|B0015| Na semana passada teve dor de cabeça?|\n",
    "|B0016| Na semana passada teve dor no peito?|\n",
    "|B0017| Na semana passada teve náusea?|\n",
    "|B0018| Na semana passada teve nariz entupido ou escorrendo?|\n",
    "|B0019| Na semana passada teve fadiga?|\n",
    "|B00110| Na semana passada teve dor nos olhos?|\n",
    "|B00111| Na semana passada teve perda de cheiro ou sabor?|\n",
    "|B00112| Na semana passada teve dor muscular?|\n",
    "|B00113| Na semana passada teve diarreia?|\n",
    "|B0101| Algum médico já lhe deu o diagnóstico de diabetes?|\n",
    "|B0102| Algum médico já lhe deu o diagnóstico de hipertensão?|\n",
    "|B0103| Algum médico já lhe deu o diagnóstico de asma/bronquite/enfisema/doenças respiratória crônica ou doença de pulmão? |\n",
    "|B0104| Algum médico já lhe deu o diagnóstico de doenças do coração (infarto, angina, insuficiência cardíaca, arritmia)?|\n",
    "|B0105| Algum médico já lhe deu o diagnóstico de depressão?|\n",
    "|B0106| Algum médico já lhe deu o diagnóstico de câncer?|\n",
    "|B011| Na semana passada, devido à pandemia do Coronavírus, em que medida o(a) Sr(a) restringiu o contato com as pessoas?|\n",
    "|B002| Por causa disso, foi a algum estabelecimento de saúde?|\n",
    "|B0041| Local que buscou atendimento foi posto de saúde/Unidade básica de saúde /Equipe de Saúde daFamília (médico, enfermeiro, técnico de enfermagem ou agente comunitário de saúde)|\n",
    "|B0042| Local que buscou atendimento foi pronto socorro do SUS/UPA|\n",
    "|B0043| Local que buscou atendimento foi hospital do SUS|\n",
    "|B0044| Local que buscou atendimento foi ambulatório ou consultório privado ou ligado às forças armadas|\n",
    "|B0045| Local que buscou atendimento foi pronto socorro privado ou ligado às forças armadas|\n",
    "|B0046| Local que buscou atendimento foi hospital privado ou ligado às forças armadas|\n",
    "|B008| O(A) Sr(a) fez algum teste para saber se estava infectado(a) pelo coronavírus?|\n",
    "|B009A| Fez o exame coletado com cotonete na boca e/ou nariz (SWAB)?|\n",
    "|B009B| Qual o resultado?|\n",
    "|B009C| Fez o exame de coleta de sangue através de furo no dedo?|\n",
    "|B009D| Qual o resultado?|\n",
    "|B009E| Fez o exame de coleta de sangue através da veia da braço?|\n",
    "|B009F| Qual o resultado?|\n"
   ]
  },
  {
   "cell_type": "code",
   "execution_count": 22,
   "metadata": {},
   "outputs": [],
   "source": [
    "import polars as pl"
   ]
  },
  {
   "cell_type": "markdown",
   "metadata": {},
   "source": [
    "Importando os dataframes"
   ]
  },
  {
   "cell_type": "code",
   "execution_count": 23,
   "metadata": {},
   "outputs": [
    {
     "ename": "FileNotFoundError",
     "evalue": "No such file or directory (os error 2): ../data/bronze/PNAD_COVID_092020.csv",
     "output_type": "error",
     "traceback": [
      "\u001b[0;31m---------------------------------------------------------------------------\u001b[0m",
      "\u001b[0;31mFileNotFoundError\u001b[0m                         Traceback (most recent call last)",
      "\u001b[0;32m/var/folders/6x/3y02z1591rj130ytmr_hv8nh0000gn/T/ipykernel_84247/2351373304.py\u001b[0m in \u001b[0;36m?\u001b[0;34m()\u001b[0m\n\u001b[0;32m----> 1\u001b[0;31m \u001b[0mdf09\u001b[0m \u001b[0;34m=\u001b[0m \u001b[0mpl\u001b[0m\u001b[0;34m.\u001b[0m\u001b[0mread_csv\u001b[0m\u001b[0;34m(\u001b[0m\u001b[0;34m\"../data/bronze/PNAD_COVID_092020.csv\"\u001b[0m\u001b[0;34m)\u001b[0m\u001b[0;34m\u001b[0m\u001b[0;34m\u001b[0m\u001b[0m\n\u001b[0m\u001b[1;32m      2\u001b[0m \u001b[0mdf10\u001b[0m \u001b[0;34m=\u001b[0m \u001b[0mpl\u001b[0m\u001b[0;34m.\u001b[0m\u001b[0mread_csv\u001b[0m\u001b[0;34m(\u001b[0m\u001b[0;34m\"../data/bronze/PNAD_COVID_102020.csv\"\u001b[0m\u001b[0;34m)\u001b[0m\u001b[0;34m\u001b[0m\u001b[0;34m\u001b[0m\u001b[0m\n\u001b[1;32m      3\u001b[0m \u001b[0mdf11\u001b[0m \u001b[0;34m=\u001b[0m \u001b[0mpl\u001b[0m\u001b[0;34m.\u001b[0m\u001b[0mread_csv\u001b[0m\u001b[0;34m(\u001b[0m\u001b[0;34m\"../data/bronze/PNAD_COVID_112020.csv\"\u001b[0m\u001b[0;34m)\u001b[0m\u001b[0;34m\u001b[0m\u001b[0;34m\u001b[0m\u001b[0m\n",
      "\u001b[0;32m~/repos/postech/tech-challenge/f3-covid/.venv/lib/python3.12/site-packages/polars/utils/deprecation.py\u001b[0m in \u001b[0;36m?\u001b[0;34m(*args, **kwargs)\u001b[0m\n\u001b[1;32m    132\u001b[0m         \u001b[0;32mdef\u001b[0m \u001b[0mwrapper\u001b[0m\u001b[0;34m(\u001b[0m\u001b[0;34m*\u001b[0m\u001b[0margs\u001b[0m\u001b[0;34m:\u001b[0m \u001b[0mP\u001b[0m\u001b[0;34m.\u001b[0m\u001b[0margs\u001b[0m\u001b[0;34m,\u001b[0m \u001b[0;34m**\u001b[0m\u001b[0mkwargs\u001b[0m\u001b[0;34m:\u001b[0m \u001b[0mP\u001b[0m\u001b[0;34m.\u001b[0m\u001b[0mkwargs\u001b[0m\u001b[0;34m)\u001b[0m \u001b[0;34m->\u001b[0m \u001b[0mT\u001b[0m\u001b[0;34m:\u001b[0m\u001b[0;34m\u001b[0m\u001b[0;34m\u001b[0m\u001b[0m\n\u001b[1;32m    133\u001b[0m             _rename_keyword_argument(\n\u001b[1;32m    134\u001b[0m                 \u001b[0mold_name\u001b[0m\u001b[0;34m,\u001b[0m \u001b[0mnew_name\u001b[0m\u001b[0;34m,\u001b[0m \u001b[0mkwargs\u001b[0m\u001b[0;34m,\u001b[0m \u001b[0mfunction\u001b[0m\u001b[0;34m.\u001b[0m\u001b[0m__name__\u001b[0m\u001b[0;34m,\u001b[0m \u001b[0mversion\u001b[0m\u001b[0;34m\u001b[0m\u001b[0;34m\u001b[0m\u001b[0m\n\u001b[1;32m    135\u001b[0m             \u001b[0;34m)\u001b[0m\u001b[0;34m\u001b[0m\u001b[0;34m\u001b[0m\u001b[0m\n\u001b[0;32m--> 136\u001b[0;31m             \u001b[0;32mreturn\u001b[0m \u001b[0mfunction\u001b[0m\u001b[0;34m(\u001b[0m\u001b[0;34m*\u001b[0m\u001b[0margs\u001b[0m\u001b[0;34m,\u001b[0m \u001b[0;34m**\u001b[0m\u001b[0mkwargs\u001b[0m\u001b[0;34m)\u001b[0m\u001b[0;34m\u001b[0m\u001b[0;34m\u001b[0m\u001b[0m\n\u001b[0m",
      "\u001b[0;32m~/repos/postech/tech-challenge/f3-covid/.venv/lib/python3.12/site-packages/polars/utils/deprecation.py\u001b[0m in \u001b[0;36m?\u001b[0;34m(*args, **kwargs)\u001b[0m\n\u001b[1;32m    132\u001b[0m         \u001b[0;32mdef\u001b[0m \u001b[0mwrapper\u001b[0m\u001b[0;34m(\u001b[0m\u001b[0;34m*\u001b[0m\u001b[0margs\u001b[0m\u001b[0;34m:\u001b[0m \u001b[0mP\u001b[0m\u001b[0;34m.\u001b[0m\u001b[0margs\u001b[0m\u001b[0;34m,\u001b[0m \u001b[0;34m**\u001b[0m\u001b[0mkwargs\u001b[0m\u001b[0;34m:\u001b[0m \u001b[0mP\u001b[0m\u001b[0;34m.\u001b[0m\u001b[0mkwargs\u001b[0m\u001b[0;34m)\u001b[0m \u001b[0;34m->\u001b[0m \u001b[0mT\u001b[0m\u001b[0;34m:\u001b[0m\u001b[0;34m\u001b[0m\u001b[0;34m\u001b[0m\u001b[0m\n\u001b[1;32m    133\u001b[0m             _rename_keyword_argument(\n\u001b[1;32m    134\u001b[0m                 \u001b[0mold_name\u001b[0m\u001b[0;34m,\u001b[0m \u001b[0mnew_name\u001b[0m\u001b[0;34m,\u001b[0m \u001b[0mkwargs\u001b[0m\u001b[0;34m,\u001b[0m \u001b[0mfunction\u001b[0m\u001b[0;34m.\u001b[0m\u001b[0m__name__\u001b[0m\u001b[0;34m,\u001b[0m \u001b[0mversion\u001b[0m\u001b[0;34m\u001b[0m\u001b[0;34m\u001b[0m\u001b[0m\n\u001b[1;32m    135\u001b[0m             \u001b[0;34m)\u001b[0m\u001b[0;34m\u001b[0m\u001b[0;34m\u001b[0m\u001b[0m\n\u001b[0;32m--> 136\u001b[0;31m             \u001b[0;32mreturn\u001b[0m \u001b[0mfunction\u001b[0m\u001b[0;34m(\u001b[0m\u001b[0;34m*\u001b[0m\u001b[0margs\u001b[0m\u001b[0;34m,\u001b[0m \u001b[0;34m**\u001b[0m\u001b[0mkwargs\u001b[0m\u001b[0;34m)\u001b[0m\u001b[0;34m\u001b[0m\u001b[0;34m\u001b[0m\u001b[0m\n\u001b[0m",
      "\u001b[0;32m~/repos/postech/tech-challenge/f3-covid/.venv/lib/python3.12/site-packages/polars/utils/deprecation.py\u001b[0m in \u001b[0;36m?\u001b[0;34m(*args, **kwargs)\u001b[0m\n\u001b[1;32m    132\u001b[0m         \u001b[0;32mdef\u001b[0m \u001b[0mwrapper\u001b[0m\u001b[0;34m(\u001b[0m\u001b[0;34m*\u001b[0m\u001b[0margs\u001b[0m\u001b[0;34m:\u001b[0m \u001b[0mP\u001b[0m\u001b[0;34m.\u001b[0m\u001b[0margs\u001b[0m\u001b[0;34m,\u001b[0m \u001b[0;34m**\u001b[0m\u001b[0mkwargs\u001b[0m\u001b[0;34m:\u001b[0m \u001b[0mP\u001b[0m\u001b[0;34m.\u001b[0m\u001b[0mkwargs\u001b[0m\u001b[0;34m)\u001b[0m \u001b[0;34m->\u001b[0m \u001b[0mT\u001b[0m\u001b[0;34m:\u001b[0m\u001b[0;34m\u001b[0m\u001b[0;34m\u001b[0m\u001b[0m\n\u001b[1;32m    133\u001b[0m             _rename_keyword_argument(\n\u001b[1;32m    134\u001b[0m                 \u001b[0mold_name\u001b[0m\u001b[0;34m,\u001b[0m \u001b[0mnew_name\u001b[0m\u001b[0;34m,\u001b[0m \u001b[0mkwargs\u001b[0m\u001b[0;34m,\u001b[0m \u001b[0mfunction\u001b[0m\u001b[0;34m.\u001b[0m\u001b[0m__name__\u001b[0m\u001b[0;34m,\u001b[0m \u001b[0mversion\u001b[0m\u001b[0;34m\u001b[0m\u001b[0;34m\u001b[0m\u001b[0m\n\u001b[1;32m    135\u001b[0m             \u001b[0;34m)\u001b[0m\u001b[0;34m\u001b[0m\u001b[0;34m\u001b[0m\u001b[0m\n\u001b[0;32m--> 136\u001b[0;31m             \u001b[0;32mreturn\u001b[0m \u001b[0mfunction\u001b[0m\u001b[0;34m(\u001b[0m\u001b[0;34m*\u001b[0m\u001b[0margs\u001b[0m\u001b[0;34m,\u001b[0m \u001b[0;34m**\u001b[0m\u001b[0mkwargs\u001b[0m\u001b[0;34m)\u001b[0m\u001b[0;34m\u001b[0m\u001b[0;34m\u001b[0m\u001b[0m\n\u001b[0m",
      "\u001b[0;32m~/repos/postech/tech-challenge/f3-covid/.venv/lib/python3.12/site-packages/polars/io/csv/functions.py\u001b[0m in \u001b[0;36m?\u001b[0;34m(source, has_header, columns, new_columns, separator, comment_prefix, quote_char, skip_rows, dtypes, schema, null_values, missing_utf8_is_empty_string, ignore_errors, try_parse_dates, n_threads, infer_schema_length, batch_size, n_rows, encoding, low_memory, rechunk, use_pyarrow, storage_options, skip_rows_after_header, row_index_name, row_index_offset, sample_size, eol_char, raise_if_empty, truncate_ragged_lines)\u001b[0m\n\u001b[1;32m    393\u001b[0m         \u001b[0muse_pyarrow\u001b[0m\u001b[0;34m=\u001b[0m\u001b[0;32mFalse\u001b[0m\u001b[0;34m,\u001b[0m\u001b[0;34m\u001b[0m\u001b[0;34m\u001b[0m\u001b[0m\n\u001b[1;32m    394\u001b[0m         \u001b[0mraise_if_empty\u001b[0m\u001b[0;34m=\u001b[0m\u001b[0mraise_if_empty\u001b[0m\u001b[0;34m,\u001b[0m\u001b[0;34m\u001b[0m\u001b[0;34m\u001b[0m\u001b[0m\n\u001b[1;32m    395\u001b[0m         \u001b[0mstorage_options\u001b[0m\u001b[0;34m=\u001b[0m\u001b[0mstorage_options\u001b[0m\u001b[0;34m,\u001b[0m\u001b[0;34m\u001b[0m\u001b[0;34m\u001b[0m\u001b[0m\n\u001b[1;32m    396\u001b[0m     \u001b[0;34m)\u001b[0m \u001b[0;32mas\u001b[0m \u001b[0mdata\u001b[0m\u001b[0;34m:\u001b[0m\u001b[0;34m\u001b[0m\u001b[0;34m\u001b[0m\u001b[0m\n\u001b[0;32m--> 397\u001b[0;31m         df = pl.DataFrame._read_csv(\n\u001b[0m\u001b[1;32m    398\u001b[0m             \u001b[0mdata\u001b[0m\u001b[0;34m,\u001b[0m\u001b[0;34m\u001b[0m\u001b[0;34m\u001b[0m\u001b[0m\n\u001b[1;32m    399\u001b[0m             \u001b[0mhas_header\u001b[0m\u001b[0;34m=\u001b[0m\u001b[0mhas_header\u001b[0m\u001b[0;34m,\u001b[0m\u001b[0;34m\u001b[0m\u001b[0;34m\u001b[0m\u001b[0m\n\u001b[1;32m    400\u001b[0m             \u001b[0mcolumns\u001b[0m\u001b[0;34m=\u001b[0m\u001b[0mcolumns\u001b[0m \u001b[0;32mif\u001b[0m \u001b[0mcolumns\u001b[0m \u001b[0;32melse\u001b[0m \u001b[0mprojection\u001b[0m\u001b[0;34m,\u001b[0m\u001b[0;34m\u001b[0m\u001b[0;34m\u001b[0m\u001b[0m\n",
      "\u001b[0;32m~/repos/postech/tech-challenge/f3-covid/.venv/lib/python3.12/site-packages/polars/dataframe/frame.py\u001b[0m in \u001b[0;36m?\u001b[0;34m(cls, source, has_header, columns, separator, comment_prefix, quote_char, skip_rows, dtypes, schema, null_values, missing_utf8_is_empty_string, ignore_errors, try_parse_dates, n_threads, infer_schema_length, batch_size, n_rows, encoding, low_memory, rechunk, skip_rows_after_header, row_index_name, row_index_offset, sample_size, eol_char, raise_if_empty, truncate_ragged_lines)\u001b[0m\n\u001b[1;32m    762\u001b[0m                 \u001b[0;32mraise\u001b[0m \u001b[0mValueError\u001b[0m\u001b[0;34m(\u001b[0m\u001b[0mmsg\u001b[0m\u001b[0;34m)\u001b[0m\u001b[0;34m\u001b[0m\u001b[0;34m\u001b[0m\u001b[0m\n\u001b[1;32m    763\u001b[0m \u001b[0;34m\u001b[0m\u001b[0m\n\u001b[1;32m    764\u001b[0m         \u001b[0mprojection\u001b[0m\u001b[0;34m,\u001b[0m \u001b[0mcolumns\u001b[0m \u001b[0;34m=\u001b[0m \u001b[0mhandle_projection_columns\u001b[0m\u001b[0;34m(\u001b[0m\u001b[0mcolumns\u001b[0m\u001b[0;34m)\u001b[0m\u001b[0;34m\u001b[0m\u001b[0;34m\u001b[0m\u001b[0m\n\u001b[1;32m    765\u001b[0m \u001b[0;34m\u001b[0m\u001b[0m\n\u001b[0;32m--> 766\u001b[0;31m         self._df = PyDataFrame.read_csv(\n\u001b[0m\u001b[1;32m    767\u001b[0m             \u001b[0msource\u001b[0m\u001b[0;34m,\u001b[0m\u001b[0;34m\u001b[0m\u001b[0;34m\u001b[0m\u001b[0m\n\u001b[1;32m    768\u001b[0m             \u001b[0minfer_schema_length\u001b[0m\u001b[0;34m,\u001b[0m\u001b[0;34m\u001b[0m\u001b[0;34m\u001b[0m\u001b[0m\n\u001b[1;32m    769\u001b[0m             \u001b[0mbatch_size\u001b[0m\u001b[0;34m,\u001b[0m\u001b[0;34m\u001b[0m\u001b[0;34m\u001b[0m\u001b[0m\n",
      "\u001b[0;31mFileNotFoundError\u001b[0m: No such file or directory (os error 2): ../data/bronze/PNAD_COVID_092020.csv"
     ]
    }
   ],
   "source": [
    "df09 = pl.read_csv(\"../data/bronze/PNAD_COVID_092020.csv\")\n",
    "df10 = pl.read_csv(\"../data/bronze/PNAD_COVID_102020.csv\")\n",
    "df11 = pl.read_csv(\"../data/bronze/PNAD_COVID_112020.csv\")"
   ]
  },
  {
   "cell_type": "markdown",
   "metadata": {},
   "source": [
    "Verificando se existem colunas diferentes entre eles"
   ]
  },
  {
   "cell_type": "code",
   "execution_count": null,
   "metadata": {},
   "outputs": [],
   "source": [
    "def compare_columns(df, df2):\n",
    "   for col in df.columns:\n",
    "      if col not in df2.columns:\n",
    "         print(f\"Column '{col}' not found\")"
   ]
  },
  {
   "cell_type": "code",
   "execution_count": null,
   "metadata": {},
   "outputs": [],
   "source": [
    "compare_columns(df09, df10)"
   ]
  },
  {
   "cell_type": "code",
   "execution_count": null,
   "metadata": {},
   "outputs": [],
   "source": [
    "compare_columns(df09, df11)"
   ]
  },
  {
   "cell_type": "code",
   "execution_count": null,
   "metadata": {},
   "outputs": [],
   "source": [
    "compare_columns(df10, df09)"
   ]
  },
  {
   "cell_type": "code",
   "execution_count": null,
   "metadata": {},
   "outputs": [],
   "source": [
    "compare_columns(df10, df11)"
   ]
  },
  {
   "cell_type": "code",
   "execution_count": null,
   "metadata": {},
   "outputs": [],
   "source": [
    "compare_columns(df11, df09)"
   ]
  },
  {
   "cell_type": "code",
   "execution_count": null,
   "metadata": {},
   "outputs": [],
   "source": [
    "compare_columns(df11, df10)"
   ]
  },
  {
   "cell_type": "markdown",
   "metadata": {},
   "source": [
    "Selecionando apenas colunas que serão usadas no projeto"
   ]
  },
  {
   "cell_type": "code",
   "execution_count": null,
   "metadata": {},
   "outputs": [],
   "source": [
    "selected_cols = [ \n",
    "   \"UF\", \"V1022\", \"A002\", \"A003\", \"A004\", \"A005\", \"C001\", \"F001\", \"B0011\", \n",
    "   \"B0012\", \"B0013\", \"B0014\", \"B0015\", \"B0016\", \"B0017\", \"B0018\", \n",
    "   \"B0019\", \"B00110\", \"B00111\", \"B00112\", \"B00113\", \"B002\", \"B0041\", \n",
    "   \"B0042\", \"B0043\", \"B0044\", \"B0045\", \"B0046\", \"B008\", \"B009A\", \"B009B\", \n",
    "   \"B009C\", \"B009D\", \"B009E\", \"B009F\",\"B0101\", \"B0102\", \"B0103\", \"B0104\", \n",
    "   \"B0105\", \"B0106\", \"B011\", \"C006\", \"C007\", \"C008\", \"C009\", \"C013\"\n",
    "]"
   ]
  },
  {
   "cell_type": "markdown",
   "metadata": {},
   "source": [
    "Filtrando as colunas dos dataframes"
   ]
  },
  {
   "cell_type": "code",
   "execution_count": null,
   "metadata": {},
   "outputs": [],
   "source": [
    "df09 = df09.select(\n",
    "   pl.col(selected_cols).cast(pl.Int64)\n",
    ")\n",
    "df10 = df10.select(\n",
    "   pl.col(selected_cols).cast(pl.Int64)\n",
    ")\n",
    "df11 = df11.select(\n",
    "   pl.col(selected_cols).cast(pl.Int64)\n",
    ")"
   ]
  },
  {
   "cell_type": "markdown",
   "metadata": {},
   "source": [
    "Agrupando dataframes em um único"
   ]
  },
  {
   "cell_type": "code",
   "execution_count": null,
   "metadata": {},
   "outputs": [],
   "source": [
    "df_concat = pl.concat([df09, df10, df11])"
   ]
  },
  {
   "cell_type": "markdown",
   "metadata": {},
   "source": [
    "Verificando forma final do dataframe"
   ]
  },
  {
   "cell_type": "code",
   "execution_count": null,
   "metadata": {},
   "outputs": [],
   "source": [
    "df_concat.shape"
   ]
  },
  {
   "cell_type": "markdown",
   "metadata": {},
   "source": [
    "Salvando em parquet na pasta silver"
   ]
  },
  {
   "cell_type": "code",
   "execution_count": null,
   "metadata": {},
   "outputs": [],
   "source": [
    "df_concat.write_parquet(\"../data/silver/PNAD_COVID_092020_112020.parquet\")"
   ]
  },
  {
   "cell_type": "markdown",
   "metadata": {},
   "source": [
    "# Tratamento dos Dados"
   ]
  },
  {
   "cell_type": "code",
   "execution_count": null,
   "metadata": {},
   "outputs": [],
   "source": [
    "df = pl.read_parquet('../data/silver/PNAD_COVID_092020_112020.parquet')"
   ]
  },
  {
   "cell_type": "code",
   "execution_count": null,
   "metadata": {},
   "outputs": [],
   "source": [
    "df.describe()"
   ]
  },
  {
   "cell_type": "code",
   "execution_count": null,
   "metadata": {},
   "outputs": [],
   "source": [
    "df = df.rename({\n",
    "   \"UF\": \"uf\",\n",
    "   \"A002\": \"idade\",\n",
    "   \"A003\": \"sexo\",\n",
    "   \"A004\": \"cor\",\n",
    "   \"A005\": \"escolaridade\",\n",
    "   \"C001\": \"trabalhou_semana_passada\",\n",
    "   \"F001\": \"tipo_domicilio\",\n",
    "   \"V1022\":\t\"situacao_domicilio\",\n",
    "   \"B0011\": \"febre\",\n",
    "   \"B0012\": \"tosse\",\n",
    "   \"B0013\": \"dor_garganta\",\n",
    "   \"B0014\": \"dificuldade_respirar\",\n",
    "   \"B0015\": \"dor_cabeça\",\n",
    "   \"B0016\": \"dor_peito\",\n",
    "   \"B0017\": \"nausea\",\n",
    "   \"B0018\": \"nariz_entupido\",\n",
    "   \"B0019\": \"fadiga\",\n",
    "   \"B00110\": \"dor_olhos\",\n",
    "   \"B00111\": \"perda_olfato_paladar\",\n",
    "   \"B00112\": \"dor_muscular\",\n",
    "   \"B00113\": \"diarreia\",\n",
    "   \"B002\": \"ida_unidade_saude\",\n",
    "   \"B0041\": \"posto_publico\",\n",
    "   \"B0042\": \"pronto_socorro_publico\",\n",
    "   \"B0043\": \"hospital_publico\",\n",
    "   \"B0044\": \"ambulatorio_privado\",\n",
    "   \"B0045\": \"pronto_socorro_privado\",\n",
    "   \"B0046\": \"hospital_privado\",\n",
    "   \"B008\": \"fez_teste\",\n",
    "   \"B009A\": \"teste_swab\",\n",
    "   \"B009B\": \"resultado_swab\",\n",
    "   \"B009C\": \"teste_sangue_dedo\",\n",
    "   \"B009D\": \"resultado_sangue_dedo\",\n",
    "   \"B009E\": \"teste_sangue_coleta\",\n",
    "   \"B009F\": \"resultado_sangue_coleta\",\n",
    "   \"B0101\": \"diagnostico_diabetes\",\n",
    "   \"B0102\": \"diagnostico_hipertensao\",\n",
    "   \"B0103\": \"diagnostico_doenca_pulmao\",\n",
    "   \"B0104\": \"diagnostico_doenca_cardiaca\",\n",
    "   \"B0105\": \"diagnostico_depressao\",\n",
    "   \"B0106\": \"diagnostico_cancer\",\n",
    "   \"B011\": \"restricao_contato\",\n",
    "   \"C006\": \"mais_um_trabalho\",\n",
    "   \"C007\": \"tipo_trabalho\",\n",
    "   \"C008\": \"horas_trabalho_normal\",\n",
    "   \"C009\": \"horas_trabalho_semana_passada\",\n",
    "   \"C013\": \"trabalho_remoto_semana_passada\"\n",
    "})"
   ]
  },
  {
   "cell_type": "code",
   "execution_count": null,
   "metadata": {},
   "outputs": [],
   "source": [
    "df.describe()"
   ]
  },
  {
   "cell_type": "markdown",
   "metadata": {},
   "source": [
    "Criando variáveis de ida ao hospital publico ou privado"
   ]
  },
  {
   "cell_type": "code",
   "execution_count": null,
   "metadata": {},
   "outputs": [],
   "source": [
    "df = df.with_columns(\n",
    "   pl.when(\n",
    "      (pl.col(\"posto_publico\") == 1) |\n",
    "      (pl.col(\"pronto_socorro_publico\") == 1) |\n",
    "      (pl.col(\"hospital_publico\") == 1))\n",
    "    .then(1)\n",
    "    .when(\n",
    "      (pl.col(\"ambulatorio_privado\") == 1) |\n",
    "      (pl.col(\"pronto_socorro_privado\") == 1) |\n",
    "      (pl.col(\"hospital_privado\") == 1))\n",
    "    .then(0)\n",
    "    .otherwise(9).alias(\"atendimento_publico\")\n",
    ")"
   ]
  },
  {
   "cell_type": "markdown",
   "metadata": {},
   "source": [
    "Criando variável resultado do teste"
   ]
  },
  {
   "cell_type": "code",
   "execution_count": 24,
   "metadata": {},
   "outputs": [],
   "source": [
    "df = df.with_columns(\n",
    "   pl.when(\n",
    "      (pl.col(\"resultado_swab\") == 1) |\n",
    "      (pl.col(\"resultado_sangue_dedo\") == 1) |\n",
    "      (pl.col(\"resultado_sangue_coleta\") == 1)\n",
    "   ).then(1)\n",
    "    .when(\n",
    "      (pl.col(\"resultado_swab\") == 2) |\n",
    "      (pl.col(\"resultado_sangue_dedo\") == 2) |\n",
    "      (pl.col(\"resultado_sangue_coleta\") == 2))\n",
    "    .then(0)\n",
    "    .otherwise(9).alias(\"resultado_positivo\")\n",
    ")"
   ]
  },
  {
   "cell_type": "markdown",
   "metadata": {},
   "source": [
    "Traduzindo Código UF"
   ]
  },
  {
   "cell_type": "code",
   "execution_count": 25,
   "metadata": {},
   "outputs": [],
   "source": [
    "map_uf ={\n",
    "   11: 'Rondônia',\n",
    "   12: 'Acre',\n",
    "   13: 'Amazonas',\n",
    "   14: 'Roraima',\n",
    "   15: 'Pará',\n",
    "   16: 'Amapá',\n",
    "   17: 'Tocantins',\n",
    "   21: 'Maranhão',\n",
    "   22: 'Piauí',\n",
    "   23: 'Ceará',\n",
    "   24: 'Rio Grande do Norte',\n",
    "   25: 'Paraíba',\n",
    "   26: 'Pernambuco',\n",
    "   27: 'Alagoas',\n",
    "   28: 'Sergipe',\n",
    "   29: 'Bahia',\n",
    "   31: 'Minas Gerais',\n",
    "   32: 'Espírito Santo',\n",
    "   33: 'Rio de Janeiro',\n",
    "   35: 'São Paulo',\n",
    "   41: 'Paraná',\n",
    "   42: 'Santa Catarina',\n",
    "   43: 'Rio Grande do Sul',\n",
    "   50: 'Mato Grosso do Sul',\n",
    "   51: 'Mato Grosso',\n",
    "   52: 'Goiás',\n",
    "   53: 'Distrito Federal'\n",
    "}\n",
    "\n",
    "df = df.with_columns(\n",
    "   pl.col(\"uf\").replace(map_uf).alias(\"uf_nome\")\n",
    ")\n"
   ]
  },
  {
   "cell_type": "markdown",
   "metadata": {},
   "source": [
    "Criando variável para região"
   ]
  },
  {
   "cell_type": "code",
   "execution_count": 26,
   "metadata": {},
   "outputs": [],
   "source": [
    "def classificar_regiao(estado):\n",
    "    if estado in ['São Paulo', 'Rio de Janeiro', 'Minas Gerais', 'Espírito Santo']:\n",
    "        return 'Sudeste'\n",
    "    elif estado in ['Paraná', 'Santa Catarina', 'Rio Grande do Sul']:\n",
    "        return 'Sul'\n",
    "    elif estado in ['Mato Grosso do Sul', 'Mato Grosso', 'Goiás', 'Distrito Federal']:\n",
    "        return 'Centro-Oeste'\n",
    "    elif estado in ['Rondônia', 'Acre', 'Amazonas', 'Roraima', 'Pará', 'Amapá', 'Tocantins']:\n",
    "        return 'Norte'\n",
    "    elif estado in ['Maranhão', 'Piauí', 'Ceará', 'Rio Grande do Norte', 'Paraíba', 'Pernambuco', 'Alagoas', 'Sergipe', 'Bahia']:\n",
    "        return 'Nordeste'\n",
    "    else:\n",
    "        return estado\n",
    "\n",
    "df = df.with_columns(pl.col('uf_nome').map_elements(classificar_regiao).alias('regiao'))"
   ]
  },
  {
   "cell_type": "markdown",
   "metadata": {},
   "source": [
    "Salvando na camada gold"
   ]
  },
  {
   "cell_type": "code",
   "execution_count": 27,
   "metadata": {},
   "outputs": [],
   "source": [
    "df.write_parquet(\"../data/gold/PNAD_COVID_092020_112020.parquet\")"
   ]
  },
  {
   "cell_type": "code",
   "execution_count": null,
   "metadata": {},
   "outputs": [],
   "source": []
  },
  {
   "cell_type": "code",
   "execution_count": null,
   "metadata": {},
   "outputs": [],
   "source": []
  }
 ],
 "metadata": {
  "kernelspec": {
   "display_name": "Python 3 (ipykernel)",
   "language": "python",
   "name": "python3"
  },
  "language_info": {
   "codemirror_mode": {
    "name": "ipython",
    "version": 3
   },
   "file_extension": ".py",
   "mimetype": "text/x-python",
   "name": "python",
   "nbconvert_exporter": "python",
   "pygments_lexer": "ipython3",
   "version": "3.12.1"
  }
 },
 "nbformat": 4,
 "nbformat_minor": 4
}
