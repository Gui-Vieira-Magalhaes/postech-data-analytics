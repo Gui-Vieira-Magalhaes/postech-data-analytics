{
 "cells": [
  {
   "cell_type": "markdown",
   "metadata": {},
   "source": [
    "# Notebook - Modelo Falta"
   ]
  },
  {
   "cell_type": "code",
   "execution_count": 15,
   "metadata": {},
   "outputs": [],
   "source": [
    "import polars as pl\n",
    "import matplotlib.pyplot as plt\n",
    "from datetime import datetime\n",
    "from random import randint, uniform\n",
    "\n",
    "from sklearn.ensemble import RandomForestClassifier\n",
    "from sklearn.metrics import classification_report\n",
    "from sklearn.model_selection import RandomizedSearchCV\n",
    "import pandas as pd\n",
    "import pickle\n",
    "\n",
    "from imblearn.under_sampling import RandomUnderSampler\n",
    "\n",
    "import spacy"
   ]
  },
  {
   "cell_type": "code",
   "execution_count": 16,
   "metadata": {},
   "outputs": [],
   "source": [
    "path_data = \"../documents/base dados/\""
   ]
  },
  {
   "cell_type": "markdown",
   "metadata": {},
   "source": [
    "## Carregando as bases"
   ]
  },
  {
   "cell_type": "code",
   "execution_count": 17,
   "metadata": {},
   "outputs": [
    {
     "data": {
      "text/html": [
       "<div><style>\n",
       ".dataframe > thead > tr,\n",
       ".dataframe > tbody > tr {\n",
       "  text-align: right;\n",
       "  white-space: pre-wrap;\n",
       "}\n",
       "</style>\n",
       "<small>shape: (5, 3)</small><table border=\"1\" class=\"dataframe\"><thead><tr><th>id_diario_aula</th><th>id_aluno</th><th>presente</th></tr><tr><td>i64</td><td>i64</td><td>i32</td></tr></thead><tbody><tr><td>22125</td><td>386</td><td>1</td></tr><tr><td>968</td><td>426</td><td>1</td></tr><tr><td>18257</td><td>1468</td><td>1</td></tr><tr><td>20395</td><td>459</td><td>1</td></tr><tr><td>806</td><td>231</td><td>1</td></tr></tbody></table></div>"
      ],
      "text/plain": [
       "shape: (5, 3)\n",
       "┌────────────────┬──────────┬──────────┐\n",
       "│ id_diario_aula ┆ id_aluno ┆ presente │\n",
       "│ ---            ┆ ---      ┆ ---      │\n",
       "│ i64            ┆ i64      ┆ i32      │\n",
       "╞════════════════╪══════════╪══════════╡\n",
       "│ 22125          ┆ 386      ┆ 1        │\n",
       "│ 968            ┆ 426      ┆ 1        │\n",
       "│ 18257          ┆ 1468     ┆ 1        │\n",
       "│ 20395          ┆ 459      ┆ 1        │\n",
       "│ 806            ┆ 231      ┆ 1        │\n",
       "└────────────────┴──────────┴──────────┘"
      ]
     },
     "execution_count": 17,
     "metadata": {},
     "output_type": "execute_result"
    }
   ],
   "source": [
    "df_diarioFreq = (\n",
    "    pl.read_csv(path_data + \"TbDiario/Originais anonimizados/TbDiarioFrequencia.csv\")\n",
    "    .select(\n",
    "        pl.col(\"IdDiarioAula\").alias(\"id_diario_aula\"),\n",
    "        pl.col(\"IdAluno\").alias(\"id_aluno\"),\n",
    "        pl.when(\n",
    "            pl.col(\"StPresencaFalta\") == \"P\"\n",
    "        ).then(1).otherwise(0).alias(\"presente\"),\n",
    "    )\n",
    ")\n",
    "\n",
    "df_diarioFreq.sample(5)"
   ]
  },
  {
   "cell_type": "code",
   "execution_count": 18,
   "metadata": {},
   "outputs": [
    {
     "data": {
      "text/html": [
       "<div><style>\n",
       ".dataframe > thead > tr,\n",
       ".dataframe > tbody > tr {\n",
       "  text-align: right;\n",
       "  white-space: pre-wrap;\n",
       "}\n",
       "</style>\n",
       "<small>shape: (24_436, 13)</small><table border=\"1\" class=\"dataframe\"><thead><tr><th>id_diario_aula</th><th>id_diario</th><th>data_aula</th><th>num_aula</th><th>conteudo_ministrado</th><th>id_professor</th><th>dia_semana_1</th><th>dia_semana_2</th><th>dia_semana_3</th><th>dia_semana_4</th><th>dia_semana_5</th><th>dia_semana_6</th><th>dia_semana_7</th></tr><tr><td>i64</td><td>i64</td><td>date</td><td>i64</td><td>str</td><td>i64</td><td>u8</td><td>u8</td><td>u8</td><td>u8</td><td>u8</td><td>u8</td><td>u8</td></tr></thead><tbody><tr><td>998</td><td>201</td><td>2021-07-01</td><td>1</td><td>&quot;Árvore da bondade.&quot;</td><td>14</td><td>0</td><td>0</td><td>0</td><td>1</td><td>0</td><td>0</td><td>0</td></tr><tr><td>1575</td><td>115</td><td>2021-07-01</td><td>1</td><td>&quot;Apresentação dos princípios.&quot;</td><td>14</td><td>0</td><td>0</td><td>0</td><td>1</td><td>0</td><td>0</td><td>0</td></tr><tr><td>1548</td><td>103</td><td>2021-07-01</td><td>1</td><td>&quot;Apresentação dos princípios.&quot;</td><td>14</td><td>0</td><td>0</td><td>0</td><td>1</td><td>0</td><td>0</td><td>0</td></tr><tr><td>1554</td><td>106</td><td>2021-07-01</td><td>1</td><td>&quot;Apresentação dos princípios.&quot;</td><td>14</td><td>0</td><td>0</td><td>0</td><td>1</td><td>0</td><td>0</td><td>0</td></tr><tr><td>1030</td><td>219</td><td>2021-07-01</td><td>1</td><td>&quot;Árvore da bondade.&quot;</td><td>14</td><td>0</td><td>0</td><td>0</td><td>1</td><td>0</td><td>0</td><td>0</td></tr><tr><td>&hellip;</td><td>&hellip;</td><td>&hellip;</td><td>&hellip;</td><td>&hellip;</td><td>&hellip;</td><td>&hellip;</td><td>&hellip;</td><td>&hellip;</td><td>&hellip;</td><td>&hellip;</td><td>&hellip;</td><td>&hellip;</td></tr><tr><td>25069</td><td>2632</td><td>2024-06-28</td><td>9</td><td>&quot;correção da prova e exercicios…</td><td>34</td><td>0</td><td>0</td><td>0</td><td>0</td><td>1</td><td>0</td><td>0</td></tr><tr><td>25068</td><td>2637</td><td>2024-06-28</td><td>9</td><td>&quot;correção da prova e exercicios…</td><td>34</td><td>0</td><td>0</td><td>0</td><td>0</td><td>1</td><td>0</td><td>0</td></tr><tr><td>25257</td><td>2418</td><td>2024-06-28</td><td>9</td><td>&quot;Correção da Avaliação P2&quot;</td><td>35</td><td>0</td><td>0</td><td>0</td><td>0</td><td>1</td><td>0</td><td>0</td></tr><tr><td>25272</td><td>2581</td><td>2024-06-29</td><td>9</td><td>&quot;Jogos cognitivos&quot;</td><td>9</td><td>0</td><td>0</td><td>0</td><td>0</td><td>0</td><td>1</td><td>0</td></tr><tr><td>22168</td><td>2303</td><td>2024-08-09</td><td>9</td><td>&quot;GÊNERO TEXTUAL- CARTA PESSOAL-…</td><td>5</td><td>0</td><td>0</td><td>0</td><td>0</td><td>1</td><td>0</td><td>0</td></tr></tbody></table></div>"
      ],
      "text/plain": [
       "shape: (24_436, 13)\n",
       "┌───────────┬───────────┬───────────┬──────────┬───┬───────────┬───────────┬───────────┬───────────┐\n",
       "│ id_diario ┆ id_diario ┆ data_aula ┆ num_aula ┆ … ┆ dia_seman ┆ dia_seman ┆ dia_seman ┆ dia_seman │\n",
       "│ _aula     ┆ ---       ┆ ---       ┆ ---      ┆   ┆ a_4       ┆ a_5       ┆ a_6       ┆ a_7       │\n",
       "│ ---       ┆ i64       ┆ date      ┆ i64      ┆   ┆ ---       ┆ ---       ┆ ---       ┆ ---       │\n",
       "│ i64       ┆           ┆           ┆          ┆   ┆ u8        ┆ u8        ┆ u8        ┆ u8        │\n",
       "╞═══════════╪═══════════╪═══════════╪══════════╪═══╪═══════════╪═══════════╪═══════════╪═══════════╡\n",
       "│ 998       ┆ 201       ┆ 2021-07-0 ┆ 1        ┆ … ┆ 1         ┆ 0         ┆ 0         ┆ 0         │\n",
       "│           ┆           ┆ 1         ┆          ┆   ┆           ┆           ┆           ┆           │\n",
       "│ 1575      ┆ 115       ┆ 2021-07-0 ┆ 1        ┆ … ┆ 1         ┆ 0         ┆ 0         ┆ 0         │\n",
       "│           ┆           ┆ 1         ┆          ┆   ┆           ┆           ┆           ┆           │\n",
       "│ 1548      ┆ 103       ┆ 2021-07-0 ┆ 1        ┆ … ┆ 1         ┆ 0         ┆ 0         ┆ 0         │\n",
       "│           ┆           ┆ 1         ┆          ┆   ┆           ┆           ┆           ┆           │\n",
       "│ 1554      ┆ 106       ┆ 2021-07-0 ┆ 1        ┆ … ┆ 1         ┆ 0         ┆ 0         ┆ 0         │\n",
       "│           ┆           ┆ 1         ┆          ┆   ┆           ┆           ┆           ┆           │\n",
       "│ 1030      ┆ 219       ┆ 2021-07-0 ┆ 1        ┆ … ┆ 1         ┆ 0         ┆ 0         ┆ 0         │\n",
       "│           ┆           ┆ 1         ┆          ┆   ┆           ┆           ┆           ┆           │\n",
       "│ …         ┆ …         ┆ …         ┆ …        ┆ … ┆ …         ┆ …         ┆ …         ┆ …         │\n",
       "│ 25069     ┆ 2632      ┆ 2024-06-2 ┆ 9        ┆ … ┆ 0         ┆ 1         ┆ 0         ┆ 0         │\n",
       "│           ┆           ┆ 8         ┆          ┆   ┆           ┆           ┆           ┆           │\n",
       "│ 25068     ┆ 2637      ┆ 2024-06-2 ┆ 9        ┆ … ┆ 0         ┆ 1         ┆ 0         ┆ 0         │\n",
       "│           ┆           ┆ 8         ┆          ┆   ┆           ┆           ┆           ┆           │\n",
       "│ 25257     ┆ 2418      ┆ 2024-06-2 ┆ 9        ┆ … ┆ 0         ┆ 1         ┆ 0         ┆ 0         │\n",
       "│           ┆           ┆ 8         ┆          ┆   ┆           ┆           ┆           ┆           │\n",
       "│ 25272     ┆ 2581      ┆ 2024-06-2 ┆ 9        ┆ … ┆ 0         ┆ 0         ┆ 1         ┆ 0         │\n",
       "│           ┆           ┆ 9         ┆          ┆   ┆           ┆           ┆           ┆           │\n",
       "│ 22168     ┆ 2303      ┆ 2024-08-0 ┆ 9        ┆ … ┆ 0         ┆ 1         ┆ 0         ┆ 0         │\n",
       "│           ┆           ┆ 9         ┆          ┆   ┆           ┆           ┆           ┆           │\n",
       "└───────────┴───────────┴───────────┴──────────┴───┴───────────┴───────────┴───────────┴───────────┘"
      ]
     },
     "execution_count": 18,
     "metadata": {},
     "output_type": "execute_result"
    }
   ],
   "source": [
    "df_diarioAula = (\n",
    "    pl.read_csv(path_data + \"TbDiario/Originais anonimizados/TbDiarioAula.csv\", ignore_errors=True)\n",
    "    .select(\n",
    "        pl.col(\"IdDiarioAula\").alias(\"id_diario_aula\"),\n",
    "        pl.col(\"IdDiario\").alias(\"id_diario\"),\n",
    "        pl.col('DataAula').str.strptime(pl.Date, \"%Y-%m-%d %H:%M:%S\").alias(\"data_aula\"),\n",
    "        pl.col(\"NumeroAula\").alias(\"num_aula\"),\n",
    "        pl.col(\"ConteudoMinistrado\").alias(\"conteudo_ministrado\"),\n",
    "        pl.col(\"IdProfessor\").alias(\"id_professor\")\n",
    "    )\n",
    "    .with_columns(\n",
    "        pl.col(\"data_aula\").dt.weekday().alias(\"dia_semana\")\n",
    "    )\n",
    "    .to_dummies(\"dia_semana\")\n",
    "    .sort([\"data_aula\", \"num_aula\"])\n",
    ")\n",
    "\n",
    "df_diarioAula"
   ]
  },
  {
   "cell_type": "code",
   "execution_count": 19,
   "metadata": {},
   "outputs": [
    {
     "data": {
      "text/html": [
       "<div><style>\n",
       ".dataframe > thead > tr,\n",
       ".dataframe > tbody > tr {\n",
       "  text-align: right;\n",
       "  white-space: pre-wrap;\n",
       "}\n",
       "</style>\n",
       "<small>shape: (5, 3)</small><table border=\"1\" class=\"dataframe\"><thead><tr><th>id_diario</th><th>id_turma</th><th>id_disciplina</th></tr><tr><td>i64</td><td>i64</td><td>i64</td></tr></thead><tbody><tr><td>1279</td><td>471</td><td>19</td></tr><tr><td>676</td><td>169</td><td>19</td></tr><tr><td>200</td><td>70</td><td>1</td></tr><tr><td>1721</td><td>505</td><td>25</td></tr><tr><td>1732</td><td>542</td><td>5</td></tr></tbody></table></div>"
      ],
      "text/plain": [
       "shape: (5, 3)\n",
       "┌───────────┬──────────┬───────────────┐\n",
       "│ id_diario ┆ id_turma ┆ id_disciplina │\n",
       "│ ---       ┆ ---      ┆ ---           │\n",
       "│ i64       ┆ i64      ┆ i64           │\n",
       "╞═══════════╪══════════╪═══════════════╡\n",
       "│ 1279      ┆ 471      ┆ 19            │\n",
       "│ 676       ┆ 169      ┆ 19            │\n",
       "│ 200       ┆ 70       ┆ 1             │\n",
       "│ 1721      ┆ 505      ┆ 25            │\n",
       "│ 1732      ┆ 542      ┆ 5             │\n",
       "└───────────┴──────────┴───────────────┘"
      ]
     },
     "execution_count": 19,
     "metadata": {},
     "output_type": "execute_result"
    }
   ],
   "source": [
    "df_diario = (\n",
    "    pl.read_csv(path_data + \"TbDiario/Originais anonimizados/TbDiario.csv\", ignore_errors=True)\n",
    "    .select(\n",
    "        pl.col(\"IdDiario\").alias(\"id_diario\"),\n",
    "        pl.col(\"IdTurma\").alias(\"id_turma\"),\n",
    "        pl.col(\"IdDisciplina\").alias(\"id_disciplina\")\n",
    "    )\n",
    ")\n",
    "\n",
    "df_diario.sample(5)"
   ]
  },
  {
   "cell_type": "code",
   "execution_count": 20,
   "metadata": {},
   "outputs": [
    {
     "data": {
      "text/html": [
       "<div><style>\n",
       ".dataframe > thead > tr,\n",
       ".dataframe > tbody > tr {\n",
       "  text-align: right;\n",
       "  white-space: pre-wrap;\n",
       "}\n",
       "</style>\n",
       "<small>shape: (5, 4)</small><table border=\"1\" class=\"dataframe\"><thead><tr><th>id_turma</th><th>id_serie</th><th>id_periodo</th><th>turno_turma</th></tr><tr><td>i64</td><td>i64</td><td>i64</td><td>i64</td></tr></thead><tbody><tr><td>516</td><td>25</td><td>6</td><td>0</td></tr><tr><td>601</td><td>54</td><td>6</td><td>2</td></tr><tr><td>300</td><td>54</td><td>5</td><td>2</td></tr><tr><td>453</td><td>32</td><td>5</td><td>4</td></tr><tr><td>409</td><td>24</td><td>5</td><td>0</td></tr></tbody></table></div>"
      ],
      "text/plain": [
       "shape: (5, 4)\n",
       "┌──────────┬──────────┬────────────┬─────────────┐\n",
       "│ id_turma ┆ id_serie ┆ id_periodo ┆ turno_turma │\n",
       "│ ---      ┆ ---      ┆ ---        ┆ ---         │\n",
       "│ i64      ┆ i64      ┆ i64        ┆ i64         │\n",
       "╞══════════╪══════════╪════════════╪═════════════╡\n",
       "│ 516      ┆ 25       ┆ 6          ┆ 0           │\n",
       "│ 601      ┆ 54       ┆ 6          ┆ 2           │\n",
       "│ 300      ┆ 54       ┆ 5          ┆ 2           │\n",
       "│ 453      ┆ 32       ┆ 5          ┆ 4           │\n",
       "│ 409      ┆ 24       ┆ 5          ┆ 0           │\n",
       "└──────────┴──────────┴────────────┴─────────────┘"
      ]
     },
     "execution_count": 20,
     "metadata": {},
     "output_type": "execute_result"
    }
   ],
   "source": [
    "df_turma = (\n",
    "    pl.read_csv(path_data + \"TbTurma/Originais anonimizados/TbTurma.csv\", ignore_errors=True)\n",
    "    .select(\n",
    "        pl.col(\"IdTurma\").alias(\"id_turma\"),\n",
    "        pl.col(\"IdSerie\").alias(\"id_serie\"),\n",
    "        pl.col(\"IdPeriodo\").alias(\"id_periodo\"),\n",
    "        pl.col('TurnoPrincipal').replace_strict(\n",
    "            {\"M\": 0, \"T\": 1, \"N\": 2, \"Z\": 3}, default = 4\n",
    "        ).alias(\"turno_turma\")\n",
    "    )\n",
    ")\n",
    "\n",
    "df_turma.sample(5)"
   ]
  },
  {
   "cell_type": "code",
   "execution_count": 21,
   "metadata": {},
   "outputs": [
    {
     "data": {
      "text/html": [
       "<div><style>\n",
       ".dataframe > thead > tr,\n",
       ".dataframe > tbody > tr {\n",
       "  text-align: right;\n",
       "  white-space: pre-wrap;\n",
       "}\n",
       "</style>\n",
       "<small>shape: (5, 13)</small><table border=\"1\" class=\"dataframe\"><thead><tr><th>id_aluno</th><th>data_nascimento_aluno</th><th>sexo_aluno</th><th>tem_pai</th><th>tem_mae</th><th>raca_aluno_A</th><th>raca_aluno_B</th><th>raca_aluno_I</th><th>raca_aluno_N</th><th>raca_aluno_None</th><th>raca_aluno_P</th><th>raca_aluno_R</th><th>idade_aluno</th></tr><tr><td>i64</td><td>date</td><td>i64</td><td>i32</td><td>i32</td><td>u8</td><td>u8</td><td>u8</td><td>u8</td><td>u8</td><td>u8</td><td>u8</td><td>i32</td></tr></thead><tbody><tr><td>1362</td><td>2014-11-13</td><td>1</td><td>0</td><td>0</td><td>0</td><td>1</td><td>0</td><td>0</td><td>0</td><td>0</td><td>0</td><td>10</td></tr><tr><td>2011</td><td>2016-01-19</td><td>1</td><td>1</td><td>0</td><td>0</td><td>1</td><td>0</td><td>0</td><td>0</td><td>0</td><td>0</td><td>8</td></tr><tr><td>1119</td><td>2004-08-03</td><td>0</td><td>0</td><td>1</td><td>0</td><td>0</td><td>0</td><td>0</td><td>0</td><td>0</td><td>1</td><td>20</td></tr><tr><td>673</td><td>2013-11-30</td><td>0</td><td>0</td><td>1</td><td>0</td><td>0</td><td>0</td><td>0</td><td>0</td><td>1</td><td>0</td><td>11</td></tr><tr><td>2259</td><td>2009-10-21</td><td>0</td><td>0</td><td>0</td><td>0</td><td>0</td><td>0</td><td>1</td><td>0</td><td>0</td><td>0</td><td>15</td></tr></tbody></table></div>"
      ],
      "text/plain": [
       "shape: (5, 13)\n",
       "┌──────────┬────────────┬────────────┬─────────┬───┬───────────┬───────────┬───────────┬───────────┐\n",
       "│ id_aluno ┆ data_nasci ┆ sexo_aluno ┆ tem_pai ┆ … ┆ raca_alun ┆ raca_alun ┆ raca_alun ┆ idade_alu │\n",
       "│ ---      ┆ mento_alun ┆ ---        ┆ ---     ┆   ┆ o_None    ┆ o_P       ┆ o_R       ┆ no        │\n",
       "│ i64      ┆ o          ┆ i64        ┆ i32     ┆   ┆ ---       ┆ ---       ┆ ---       ┆ ---       │\n",
       "│          ┆ ---        ┆            ┆         ┆   ┆ u8        ┆ u8        ┆ u8        ┆ i32       │\n",
       "│          ┆ date       ┆            ┆         ┆   ┆           ┆           ┆           ┆           │\n",
       "╞══════════╪════════════╪════════════╪═════════╪═══╪═══════════╪═══════════╪═══════════╪═══════════╡\n",
       "│ 1362     ┆ 2014-11-13 ┆ 1          ┆ 0       ┆ … ┆ 0         ┆ 0         ┆ 0         ┆ 10        │\n",
       "│ 2011     ┆ 2016-01-19 ┆ 1          ┆ 1       ┆ … ┆ 0         ┆ 0         ┆ 0         ┆ 8         │\n",
       "│ 1119     ┆ 2004-08-03 ┆ 0          ┆ 0       ┆ … ┆ 0         ┆ 0         ┆ 1         ┆ 20        │\n",
       "│ 673      ┆ 2013-11-30 ┆ 0          ┆ 0       ┆ … ┆ 0         ┆ 1         ┆ 0         ┆ 11        │\n",
       "│ 2259     ┆ 2009-10-21 ┆ 0          ┆ 0       ┆ … ┆ 0         ┆ 0         ┆ 0         ┆ 15        │\n",
       "└──────────┴────────────┴────────────┴─────────┴───┴───────────┴───────────┴───────────┴───────────┘"
      ]
     },
     "execution_count": 21,
     "metadata": {},
     "output_type": "execute_result"
    }
   ],
   "source": [
    "df_aluno = (\n",
    "    pl.read_csv(path_data + \"TbAluno/Originais anonimizados/TbAluno.csv\", ignore_errors=True)\n",
    "    .select(\n",
    "        pl.col(\"IdAluno\").alias(\"id_aluno\"),\n",
    "        pl.col(\"DataNascimento\").str.strptime(pl.Date, \"%Y-%m-%d %H:%M:%S\", strict=False).alias(\"data_nascimento_aluno\"),\n",
    "        pl.col(\"Sexo\").replace_strict(\n",
    "            {\"M\": 0, \"F\": 1}\n",
    "        ).alias(\"sexo_aluno\"),\n",
    "        pl.when(\n",
    "            pl.col(\"IdPai\").is_null()\n",
    "        ).then(0).otherwise(1).alias(\"tem_pai\"),\n",
    "        pl.when(\n",
    "            pl.col(\"IdMae\").is_null()\n",
    "        ).then(0).otherwise(1).alias(\"tem_mae\"),\n",
    "        pl.col(\"CorRaca\").fill_null(\"None\").alias(\"raca_aluno\"),\n",
    "\n",
    "    )\n",
    "    .with_columns(\n",
    "        (datetime.now().year - pl.col(\"data_nascimento_aluno\").dt.year()).alias(\"idade_aluno\")\n",
    "    )\n",
    "    .to_dummies(['raca_aluno'])\n",
    ")\n",
    "\n",
    "df_aluno.sample(5)"
   ]
  },
  {
   "cell_type": "code",
   "execution_count": 22,
   "metadata": {},
   "outputs": [
    {
     "data": {
      "text/html": [
       "<div><style>\n",
       ".dataframe > thead > tr,\n",
       ".dataframe > tbody > tr {\n",
       "  text-align: right;\n",
       "  white-space: pre-wrap;\n",
       "}\n",
       "</style>\n",
       "<small>shape: (5, 22)</small><table border=\"1\" class=\"dataframe\"><thead><tr><th>id_professor</th><th>data_nascimento_professor</th><th>sexo_professor</th><th>raca_professor_A</th><th>raca_professor_B</th><th>raca_professor_N</th><th>raca_professor_P</th><th>raca_professor_R</th><th>cargo_professor_Nenhum</th><th>cargo_professor_Neuropsicóloga</th><th>cargo_professor_Professor</th><th>cargo_professor_Professor Inglês</th><th>cargo_professor_Professor de Inglês</th><th>cargo_professor_Professor de Matemática</th><th>cargo_professor_Professora</th><th>cargo_professor_Professora de Inglês</th><th>cargo_professor_Professora de Matemática</th><th>cargo_professor_Professora/Coordenadora</th><th>cargo_professor_Psicóloga</th><th>cargo_professor_Psicólogo</th><th>cargo_professor_professora</th><th>idade_professor</th></tr><tr><td>i64</td><td>date</td><td>i64</td><td>u8</td><td>u8</td><td>u8</td><td>u8</td><td>u8</td><td>u8</td><td>u8</td><td>u8</td><td>u8</td><td>u8</td><td>u8</td><td>u8</td><td>u8</td><td>u8</td><td>u8</td><td>u8</td><td>u8</td><td>u8</td><td>i32</td></tr></thead><tbody><tr><td>25</td><td>1985-06-20</td><td>1</td><td>0</td><td>1</td><td>0</td><td>0</td><td>0</td><td>0</td><td>1</td><td>0</td><td>0</td><td>0</td><td>0</td><td>0</td><td>0</td><td>0</td><td>0</td><td>0</td><td>0</td><td>0</td><td>39</td></tr><tr><td>17</td><td>1968-07-18</td><td>1</td><td>0</td><td>1</td><td>0</td><td>0</td><td>0</td><td>0</td><td>0</td><td>0</td><td>0</td><td>0</td><td>0</td><td>1</td><td>0</td><td>0</td><td>0</td><td>0</td><td>0</td><td>0</td><td>56</td></tr><tr><td>27</td><td>2004-12-24</td><td>1</td><td>0</td><td>1</td><td>0</td><td>0</td><td>0</td><td>0</td><td>0</td><td>0</td><td>0</td><td>0</td><td>0</td><td>0</td><td>1</td><td>0</td><td>0</td><td>0</td><td>0</td><td>0</td><td>20</td></tr><tr><td>15</td><td>1981-03-12</td><td>1</td><td>0</td><td>1</td><td>0</td><td>0</td><td>0</td><td>0</td><td>0</td><td>0</td><td>0</td><td>0</td><td>0</td><td>0</td><td>0</td><td>0</td><td>0</td><td>1</td><td>0</td><td>0</td><td>43</td></tr><tr><td>40</td><td>2005-02-20</td><td>1</td><td>0</td><td>0</td><td>0</td><td>0</td><td>1</td><td>0</td><td>0</td><td>0</td><td>0</td><td>0</td><td>0</td><td>0</td><td>1</td><td>0</td><td>0</td><td>0</td><td>0</td><td>0</td><td>19</td></tr></tbody></table></div>"
      ],
      "text/plain": [
       "shape: (5, 22)\n",
       "┌───────────┬───────────┬───────────┬───────────┬───┬───────────┬───────────┬───────────┬──────────┐\n",
       "│ id_profes ┆ data_nasc ┆ sexo_prof ┆ raca_prof ┆ … ┆ cargo_pro ┆ cargo_pro ┆ cargo_pro ┆ idade_pr │\n",
       "│ sor       ┆ imento_pr ┆ essor     ┆ essor_A   ┆   ┆ fessor_Ps ┆ fessor_Ps ┆ fessor_pr ┆ ofessor  │\n",
       "│ ---       ┆ ofessor   ┆ ---       ┆ ---       ┆   ┆ icóloga   ┆ icólogo   ┆ ofessora  ┆ ---      │\n",
       "│ i64       ┆ ---       ┆ i64       ┆ u8        ┆   ┆ ---       ┆ ---       ┆ ---       ┆ i32      │\n",
       "│           ┆ date      ┆           ┆           ┆   ┆ u8        ┆ u8        ┆ u8        ┆          │\n",
       "╞═══════════╪═══════════╪═══════════╪═══════════╪═══╪═══════════╪═══════════╪═══════════╪══════════╡\n",
       "│ 25        ┆ 1985-06-2 ┆ 1         ┆ 0         ┆ … ┆ 0         ┆ 0         ┆ 0         ┆ 39       │\n",
       "│           ┆ 0         ┆           ┆           ┆   ┆           ┆           ┆           ┆          │\n",
       "│ 17        ┆ 1968-07-1 ┆ 1         ┆ 0         ┆ … ┆ 0         ┆ 0         ┆ 0         ┆ 56       │\n",
       "│           ┆ 8         ┆           ┆           ┆   ┆           ┆           ┆           ┆          │\n",
       "│ 27        ┆ 2004-12-2 ┆ 1         ┆ 0         ┆ … ┆ 0         ┆ 0         ┆ 0         ┆ 20       │\n",
       "│           ┆ 4         ┆           ┆           ┆   ┆           ┆           ┆           ┆          │\n",
       "│ 15        ┆ 1981-03-1 ┆ 1         ┆ 0         ┆ … ┆ 1         ┆ 0         ┆ 0         ┆ 43       │\n",
       "│           ┆ 2         ┆           ┆           ┆   ┆           ┆           ┆           ┆          │\n",
       "│ 40        ┆ 2005-02-2 ┆ 1         ┆ 0         ┆ … ┆ 0         ┆ 0         ┆ 0         ┆ 19       │\n",
       "│           ┆ 0         ┆           ┆           ┆   ┆           ┆           ┆           ┆          │\n",
       "└───────────┴───────────┴───────────┴───────────┴───┴───────────┴───────────┴───────────┴──────────┘"
      ]
     },
     "execution_count": 22,
     "metadata": {},
     "output_type": "execute_result"
    }
   ],
   "source": [
    "df_professor = (\n",
    "    pl.read_csv(path_data + \"TbProfessor/Originais anonimizados/TbProfessor.csv\", ignore_errors=True)\n",
    "    .select(\n",
    "        pl.col(\"IdProfessor\").alias(\"id_professor\"),\n",
    "        pl.col(\"DataNascimento\").str.strptime(pl.Date, \"%Y-%m-%d %H:%M:%S\", strict=False).alias(\"data_nascimento_professor\"),\n",
    "        pl.col(\"Sexo\").replace_strict(\n",
    "            {\"M\": 0, \"F\": 1}\n",
    "        ).alias(\"sexo_professor\"),\n",
    "        pl.col(\"CorRaca\").alias(\"raca_professor\"),\n",
    "        pl.col('Cargo').fill_null(\"Nenhum\").alias(\"cargo_professor\")\n",
    "    )\n",
    "    .with_columns(\n",
    "        (datetime.now().year - pl.col(\"data_nascimento_professor\").dt.year()).alias(\"idade_professor\")\n",
    "    )\n",
    "    .to_dummies(['raca_professor', 'cargo_professor'])\n",
    ")\n",
    "\n",
    "df_professor.sample(5)\n"
   ]
  },
  {
   "cell_type": "markdown",
   "metadata": {},
   "source": [
    "## Merge das bases"
   ]
  },
  {
   "cell_type": "code",
   "execution_count": 23,
   "metadata": {},
   "outputs": [],
   "source": [
    "df_raw = df_diarioFreq.join(df_aluno, on=\"id_aluno\", how=\"left\")\n",
    "df_raw = df_raw.join(df_diarioAula, on=\"id_diario_aula\", how=\"left\")\n",
    "df_raw = df_raw.join(df_professor, on=\"id_professor\", how=\"left\")\n",
    "df_raw = df_raw.join(df_diario, on=\"id_diario\", how=\"left\")\n",
    "df_raw = df_raw.join(df_turma, on=\"id_turma\", how=\"left\")"
   ]
  },
  {
   "cell_type": "code",
   "execution_count": 24,
   "metadata": {},
   "outputs": [],
   "source": [
    "df = df_raw.select(\n",
    "    #Aula\n",
    "    pl.col('data_aula'),\n",
    "    pl.col(\"dia_semana_1\"),\n",
    "    pl.col(\"dia_semana_2\"),\n",
    "    pl.col(\"dia_semana_3\"),\n",
    "    pl.col(\"dia_semana_4\"),\n",
    "    pl.col(\"dia_semana_5\"),\n",
    "    pl.col(\"dia_semana_6\"),\n",
    "    pl.col(\"dia_semana_7\"),\n",
    "    pl.col('num_aula'),\n",
    "    pl.col('conteudo_ministrado'),\n",
    "    #Aluno\n",
    "    pl.col('id_aluno'),\n",
    "    pl.col('sexo_aluno'),\n",
    "    pl.col('tem_pai'),\n",
    "    pl.col('tem_mae'),\n",
    "    pl.col(\"raca_aluno_A\"),\n",
    "    pl.col(\"raca_aluno_B\"),\n",
    "    pl.col(\"raca_aluno_I\"),\n",
    "    pl.col(\"raca_aluno_N\"),\n",
    "    pl.col(\"raca_aluno_None\"),\n",
    "    pl.col(\"raca_aluno_P\"),\n",
    "    pl.col(\"raca_aluno_R\"),\n",
    "    pl.col('idade_aluno'),\n",
    "    #Professor\n",
    "    pl.col('id_professor'),\n",
    "    pl.col('sexo_professor'),\n",
    "    pl.col(\"raca_professor_A\"),\n",
    "    pl.col(\"raca_professor_B\"),\n",
    "    pl.col(\"raca_professor_N\"),\n",
    "    pl.col(\"raca_professor_P\"),\n",
    "    pl.col(\"raca_professor_R\"),\n",
    "    pl.col(\"cargo_professor_Nenhum\"),\n",
    "    pl.col(\"cargo_professor_Neuropsicóloga\"),\n",
    "    pl.col(\"cargo_professor_Professor\"),\n",
    "    pl.col(\"cargo_professor_Professor Inglês\"),\n",
    "    pl.col(\"cargo_professor_Professor de Inglês\"),\n",
    "    pl.col(\"cargo_professor_Professor de Matemática\"),\n",
    "    pl.col(\"cargo_professor_Professora\"),\n",
    "    pl.col(\"cargo_professor_Professora de Inglês\"),\n",
    "    pl.col(\"cargo_professor_Professora de Matemática\"),\n",
    "    pl.col(\"cargo_professor_Professora/Coordenadora\"),\n",
    "    pl.col(\"cargo_professor_Psicóloga\"),\n",
    "    pl.col(\"cargo_professor_Psicólogo\"),\n",
    "    pl.col(\"cargo_professor_professora\"),\n",
    "    pl.col('idade_professor'),\n",
    "    #Turma\n",
    "    pl.col('id_turma'),\n",
    "    pl.col('id_disciplina'),\n",
    "    pl.col('id_serie'),\n",
    "    pl.col('id_periodo'),\n",
    "    pl.col('turno_turma'),\n",
    "    #Target\n",
    "    pl.col('presente')\n",
    ")"
   ]
  },
  {
   "cell_type": "markdown",
   "metadata": {},
   "source": [
    "## Criando Safras e ABT\n",
    "Olhando para as últimas 10 presenças de cada aluno, vamos criar uma target que será se o aluno faltou na presença seguinte ou não."
   ]
  },
  {
   "cell_type": "code",
   "execution_count": 25,
   "metadata": {},
   "outputs": [],
   "source": [
    "df_seq = df.sort('id_aluno', 'data_aula').with_columns(\n",
    "    pl.col('data_aula').rank('ordinal').over('id_aluno').alias('seq_presenca')\n",
    ")"
   ]
  },
  {
   "cell_type": "code",
   "execution_count": 33,
   "metadata": {},
   "outputs": [],
   "source": [
    "def criar_abt(df, tamanho_janela=10, passo=1):\n",
    "\n",
    "    nlp = spacy.load('pt_core_news_sm')\n",
    "\n",
    "    def criar_embedding(texto):\n",
    "        doc = nlp(texto)\n",
    "        return doc.vector.tolist()\n",
    "\n",
    "    max_seq = df['seq_presenca'].max()\n",
    "    \n",
    "    resultados = []\n",
    "    for inicio_janela in range(1, max_seq - tamanho_janela + 2, passo):\n",
    "        fim_janela = inicio_janela + tamanho_janela - 1\n",
    "\n",
    "        df_janela = (\n",
    "            df\n",
    "            .sort('seq_presenca')\n",
    "            .filter((pl.col('seq_presenca') >= inicio_janela) & \n",
    "                      (pl.col('seq_presenca') <= fim_janela))\n",
    "            .group_by('id_aluno')\n",
    "            .agg(\n",
    "\n",
    "                #Coletando dados da aula\n",
    "                pl.first('data_aula').alias('first_data_aula'),\n",
    "                pl.last('data_aula').alias('last_data_aula'),\n",
    "                pl.sum(\"dia_semana_1\"),\n",
    "                pl.sum(\"dia_semana_2\"),\n",
    "                pl.sum(\"dia_semana_3\"),\n",
    "                pl.sum(\"dia_semana_4\"),\n",
    "                pl.sum(\"dia_semana_5\"),\n",
    "                pl.sum(\"dia_semana_6\"),\n",
    "                pl.sum(\"dia_semana_7\"),\n",
    "                pl.col('conteudo_ministrado').str.concat(\" \").alias('conteudo'),\n",
    "\n",
    "                #Coletando dados do aluno\n",
    "                pl.first('sexo_aluno').alias('sexo_aluno'),\n",
    "                pl.first('tem_pai').alias('tem_pai'),\n",
    "                pl.first('tem_mae').alias('tem_mae'),    \n",
    "                pl.first(\"raca_aluno_A\"),\n",
    "                pl.first(\"raca_aluno_B\"),\n",
    "                pl.first(\"raca_aluno_I\"),\n",
    "                pl.first(\"raca_aluno_N\"),\n",
    "                pl.first(\"raca_aluno_None\"),\n",
    "                pl.first(\"raca_aluno_P\"),\n",
    "                pl.first(\"raca_aluno_R\"),\n",
    "                pl.mean('idade_aluno').alias('idade_aluno_media'),\n",
    "\n",
    "                #Coletando dados do professor\n",
    "                pl.sum('sexo_professor'),\n",
    "                pl.sum(\"raca_professor_A\"),\n",
    "                pl.sum(\"raca_professor_B\"),\n",
    "                pl.sum(\"raca_professor_N\"),\n",
    "                pl.sum(\"raca_professor_P\"),\n",
    "                pl.sum(\"raca_professor_R\"),\n",
    "                pl.sum(\"cargo_professor_Nenhum\"),\n",
    "                pl.sum(\"cargo_professor_Neuropsicóloga\"),\n",
    "                pl.sum(\"cargo_professor_Professor\"),\n",
    "                pl.sum(\"cargo_professor_Professor Inglês\"),\n",
    "                pl.sum(\"cargo_professor_Professor de Inglês\"),\n",
    "                pl.sum(\"cargo_professor_Professor de Matemática\"),\n",
    "                pl.sum(\"cargo_professor_Professora\"),\n",
    "                pl.sum(\"cargo_professor_Professora de Inglês\"),\n",
    "                pl.sum(\"cargo_professor_Professora de Matemática\"),\n",
    "                pl.sum(\"cargo_professor_Professora/Coordenadora\"),\n",
    "                pl.sum(\"cargo_professor_Psicóloga\"),\n",
    "                pl.sum(\"cargo_professor_Psicólogo\"),\n",
    "                pl.sum(\"cargo_professor_professora\"),\n",
    "                pl.mean('idade_professor'),\n",
    "                \n",
    "                #verificando quantos professores diferentes o aluno teve aula\n",
    "                pl.n_unique('id_professor').alias('num_professores'),\n",
    "\n",
    "                #verificando quantas disciplinas diferentes o aluno teve\n",
    "                pl.n_unique('id_disciplina').alias('num_disciplinas'),\n",
    "\n",
    "                #verificando quantas series diferentes o aluno esteve presente\n",
    "                pl.n_unique('id_serie').alias('num_series'),\n",
    "\n",
    "                #verificando quantas turmas diferentes o aluno esteve presente\n",
    "                pl.n_unique('id_turma').alias('num_periodos'),\n",
    "\n",
    "                #quantas presenças o aluno teve\n",
    "                pl.sum('presente').alias('num_presencas'),\n",
    "\n",
    "                #quantas presenças totais houve no período\n",
    "                pl.count('presente').alias('num_aulas'),\n",
    "\n",
    "                #na ordem de presenças, qual foi a última que o aluno esteve presente\n",
    "                pl.when(pl.col('presente') == 1)\n",
    "                    .then(pl.col('seq_presenca'))\n",
    "                    .otherwise(0)\n",
    "                    .max()\n",
    "                .alias('ultima_presenca')\n",
    "            )\n",
    "            .with_columns(\n",
    "                pl.lit(fim_janela).alias('last_seq'),\n",
    "                pl.col('conteudo').map_elements(criar_embedding, return_dtype=pl.List(pl.Float64())).alias('conteudo_embedding')\n",
    "            )\n",
    "        )\n",
    "\n",
    "        next_presente = (\n",
    "            df.filter(pl.col('seq_presenca') == fim_janela+1)\n",
    "            .select(['id_aluno', 'presente'])\n",
    "            .rename({'presente': 'next_presente'})\n",
    "        )\n",
    "\n",
    "        df_janela = df_janela.join(\n",
    "            next_presente, \n",
    "            on=['id_aluno'], \n",
    "            how='left'\n",
    "        )\n",
    "\n",
    "        resultados.append(df_janela)\n",
    "\n",
    "    return pl.concat(resultados)\n"
   ]
  },
  {
   "cell_type": "code",
   "execution_count": 36,
   "metadata": {},
   "outputs": [],
   "source": [
    "abt = criar_abt(df_seq).filter(pl.col('next_presente').is_not_null()).sort('first_data_aula')"
   ]
  },
  {
   "cell_type": "code",
   "execution_count": 48,
   "metadata": {},
   "outputs": [
    {
     "data": {
      "text/html": [
       "<div><style>\n",
       ".dataframe > thead > tr,\n",
       ".dataframe > tbody > tr {\n",
       "  text-align: right;\n",
       "  white-space: pre-wrap;\n",
       "}\n",
       "</style>\n",
       "<small>shape: (291_928, 146)</small><table border=\"1\" class=\"dataframe\"><thead><tr><th>id_aluno</th><th>first_data_aula</th><th>last_data_aula</th><th>dia_semana_1</th><th>dia_semana_2</th><th>dia_semana_3</th><th>dia_semana_4</th><th>dia_semana_5</th><th>dia_semana_6</th><th>dia_semana_7</th><th>sexo_aluno</th><th>tem_pai</th><th>tem_mae</th><th>raca_aluno_A</th><th>raca_aluno_B</th><th>raca_aluno_I</th><th>raca_aluno_N</th><th>raca_aluno_None</th><th>raca_aluno_P</th><th>raca_aluno_R</th><th>idade_aluno_media</th><th>sexo_professor</th><th>raca_professor_A</th><th>raca_professor_B</th><th>raca_professor_N</th><th>raca_professor_P</th><th>raca_professor_R</th><th>cargo_professor_Nenhum</th><th>cargo_professor_Neuropsicóloga</th><th>cargo_professor_Professor</th><th>cargo_professor_Professor Inglês</th><th>cargo_professor_Professor de Inglês</th><th>cargo_professor_Professor de Matemática</th><th>cargo_professor_Professora</th><th>cargo_professor_Professora de Inglês</th><th>cargo_professor_Professora de Matemática</th><th>cargo_professor_Professora/Coordenadora</th><th>&hellip;</th><th>field_59</th><th>field_60</th><th>field_61</th><th>field_62</th><th>field_63</th><th>field_64</th><th>field_65</th><th>field_66</th><th>field_67</th><th>field_68</th><th>field_69</th><th>field_70</th><th>field_71</th><th>field_72</th><th>field_73</th><th>field_74</th><th>field_75</th><th>field_76</th><th>field_77</th><th>field_78</th><th>field_79</th><th>field_80</th><th>field_81</th><th>field_82</th><th>field_83</th><th>field_84</th><th>field_85</th><th>field_86</th><th>field_87</th><th>field_88</th><th>field_89</th><th>field_90</th><th>field_91</th><th>field_92</th><th>field_93</th><th>field_94</th><th>field_95</th></tr><tr><td>i64</td><td>date</td><td>date</td><td>i64</td><td>i64</td><td>i64</td><td>i64</td><td>i64</td><td>i64</td><td>i64</td><td>i64</td><td>i32</td><td>i32</td><td>u8</td><td>u8</td><td>u8</td><td>u8</td><td>u8</td><td>u8</td><td>u8</td><td>f64</td><td>i64</td><td>i64</td><td>i64</td><td>i64</td><td>i64</td><td>i64</td><td>i64</td><td>i64</td><td>i64</td><td>i64</td><td>i64</td><td>i64</td><td>i64</td><td>i64</td><td>i64</td><td>i64</td><td>&hellip;</td><td>f64</td><td>f64</td><td>f64</td><td>f64</td><td>f64</td><td>f64</td><td>f64</td><td>f64</td><td>f64</td><td>f64</td><td>f64</td><td>f64</td><td>f64</td><td>f64</td><td>f64</td><td>f64</td><td>f64</td><td>f64</td><td>f64</td><td>f64</td><td>f64</td><td>f64</td><td>f64</td><td>f64</td><td>f64</td><td>f64</td><td>f64</td><td>f64</td><td>f64</td><td>f64</td><td>f64</td><td>f64</td><td>f64</td><td>f64</td><td>f64</td><td>f64</td><td>f64</td></tr></thead><tbody><tr><td>414</td><td>2021-07-01</td><td>2021-08-16</td><td>4</td><td>0</td><td>3</td><td>3</td><td>0</td><td>0</td><td>0</td><td>0</td><td>0</td><td>1</td><td>0</td><td>1</td><td>0</td><td>0</td><td>0</td><td>0</td><td>0</td><td>14.0</td><td>6</td><td>0</td><td>0</td><td>0</td><td>0</td><td>10</td><td>0</td><td>0</td><td>4</td><td>0</td><td>0</td><td>0</td><td>6</td><td>0</td><td>0</td><td>0</td><td>&hellip;</td><td>-1.018113</td><td>-0.915397</td><td>-0.854536</td><td>-1.382967</td><td>-1.147143</td><td>0.120368</td><td>1.300484</td><td>-0.739534</td><td>-1.850056</td><td>-0.49037</td><td>1.258377</td><td>-1.300593</td><td>1.741046</td><td>0.702875</td><td>-1.270327</td><td>0.106379</td><td>-0.177417</td><td>-0.52333</td><td>0.033219</td><td>1.795564</td><td>-1.884236</td><td>-0.104401</td><td>0.911591</td><td>-1.595252</td><td>1.23</td><td>0.523221</td><td>1.000842</td><td>0.739544</td><td>0.415443</td><td>-2.100062</td><td>1.278252</td><td>0.571613</td><td>-1.70248</td><td>1.252169</td><td>1.184306</td><td>-1.669529</td><td>-0.53963</td></tr><tr><td>277</td><td>2021-07-01</td><td>2021-08-17</td><td>1</td><td>5</td><td>0</td><td>1</td><td>3</td><td>0</td><td>0</td><td>1</td><td>0</td><td>1</td><td>0</td><td>1</td><td>0</td><td>0</td><td>0</td><td>0</td><td>0</td><td>15.0</td><td>10</td><td>0</td><td>3</td><td>0</td><td>0</td><td>7</td><td>0</td><td>0</td><td>0</td><td>0</td><td>0</td><td>0</td><td>7</td><td>0</td><td>0</td><td>0</td><td>&hellip;</td><td>-1.416316</td><td>-1.267669</td><td>-1.025146</td><td>-1.052947</td><td>-0.927343</td><td>0.15246</td><td>0.802768</td><td>-1.632859</td><td>-1.981035</td><td>-1.173149</td><td>-1.268965</td><td>-0.941859</td><td>1.594262</td><td>1.800248</td><td>-1.647881</td><td>-0.086848</td><td>-1.116361</td><td>-0.796242</td><td>0.196714</td><td>2.162737</td><td>-2.304278</td><td>0.138728</td><td>0.260063</td><td>-1.999932</td><td>1.332351</td><td>0.415358</td><td>0.916374</td><td>1.106958</td><td>0.465023</td><td>-2.634708</td><td>0.854546</td><td>-0.462938</td><td>-0.971118</td><td>2.405578</td><td>1.154716</td><td>-1.53277</td><td>-0.047658</td></tr><tr><td>685</td><td>2021-07-01</td><td>2021-08-17</td><td>1</td><td>4</td><td>2</td><td>3</td><td>0</td><td>0</td><td>0</td><td>0</td><td>0</td><td>1</td><td>0</td><td>0</td><td>0</td><td>0</td><td>0</td><td>0</td><td>1</td><td>10.0</td><td>10</td><td>0</td><td>6</td><td>0</td><td>0</td><td>4</td><td>0</td><td>0</td><td>0</td><td>0</td><td>0</td><td>0</td><td>10</td><td>0</td><td>0</td><td>0</td><td>&hellip;</td><td>-0.926215</td><td>-0.812829</td><td>-1.733077</td><td>-1.415712</td><td>-1.169233</td><td>-0.631945</td><td>1.179759</td><td>-0.721811</td><td>-1.790856</td><td>-1.187254</td><td>0.654051</td><td>-1.408938</td><td>1.405874</td><td>0.792844</td><td>-1.372881</td><td>-0.00298</td><td>-1.002307</td><td>-0.210204</td><td>0.196708</td><td>2.266593</td><td>-2.106193</td><td>-0.151892</td><td>0.856547</td><td>-1.311295</td><td>1.316081</td><td>0.383191</td><td>0.722475</td><td>0.862673</td><td>0.239915</td><td>-1.385053</td><td>0.972244</td><td>0.399762</td><td>-1.472526</td><td>2.326548</td><td>1.657062</td><td>-1.498753</td><td>-0.542094</td></tr><tr><td>691</td><td>2021-07-01</td><td>2021-08-17</td><td>0</td><td>7</td><td>0</td><td>3</td><td>0</td><td>0</td><td>0</td><td>1</td><td>0</td><td>1</td><td>0</td><td>0</td><td>0</td><td>0</td><td>0</td><td>0</td><td>1</td><td>11.0</td><td>10</td><td>0</td><td>6</td><td>0</td><td>0</td><td>4</td><td>0</td><td>0</td><td>0</td><td>0</td><td>0</td><td>0</td><td>10</td><td>0</td><td>0</td><td>0</td><td>&hellip;</td><td>-1.092061</td><td>-0.922953</td><td>-1.829483</td><td>-1.430711</td><td>-1.276028</td><td>-0.574729</td><td>1.129476</td><td>-0.758571</td><td>-1.907693</td><td>-1.184775</td><td>0.629042</td><td>-1.491869</td><td>1.572204</td><td>0.933222</td><td>-1.411159</td><td>-0.096745</td><td>-1.073789</td><td>-0.225886</td><td>0.14612</td><td>2.417267</td><td>-2.118229</td><td>-0.232279</td><td>0.857556</td><td>-1.293208</td><td>1.315706</td><td>0.422958</td><td>0.703387</td><td>0.785203</td><td>0.300146</td><td>-1.574851</td><td>1.04556</td><td>0.423745</td><td>-1.500185</td><td>2.236657</td><td>1.646614</td><td>-1.595921</td><td>-0.209151</td></tr><tr><td>426</td><td>2021-07-01</td><td>2021-08-17</td><td>4</td><td>3</td><td>2</td><td>1</td><td>0</td><td>0</td><td>0</td><td>1</td><td>0</td><td>1</td><td>0</td><td>1</td><td>0</td><td>0</td><td>0</td><td>0</td><td>0</td><td>13.0</td><td>10</td><td>0</td><td>3</td><td>0</td><td>0</td><td>7</td><td>0</td><td>0</td><td>0</td><td>0</td><td>0</td><td>0</td><td>10</td><td>0</td><td>0</td><td>0</td><td>&hellip;</td><td>-1.234138</td><td>-0.819188</td><td>-0.654271</td><td>-1.273103</td><td>-1.229966</td><td>0.609354</td><td>0.869892</td><td>-1.003088</td><td>-1.121814</td><td>-0.235215</td><td>0.721574</td><td>-1.055209</td><td>1.399281</td><td>1.169702</td><td>-1.522666</td><td>0.041631</td><td>-0.010223</td><td>-0.829811</td><td>0.150759</td><td>1.135764</td><td>-1.892164</td><td>-0.009362</td><td>1.190295</td><td>-1.325344</td><td>1.334385</td><td>0.561747</td><td>1.090777</td><td>0.63467</td><td>0.892515</td><td>-1.630622</td><td>1.308675</td><td>0.625943</td><td>-1.631508</td><td>2.045845</td><td>1.103302</td><td>-1.893464</td><td>-0.291509</td></tr><tr><td>&hellip;</td><td>&hellip;</td><td>&hellip;</td><td>&hellip;</td><td>&hellip;</td><td>&hellip;</td><td>&hellip;</td><td>&hellip;</td><td>&hellip;</td><td>&hellip;</td><td>&hellip;</td><td>&hellip;</td><td>&hellip;</td><td>&hellip;</td><td>&hellip;</td><td>&hellip;</td><td>&hellip;</td><td>&hellip;</td><td>&hellip;</td><td>&hellip;</td><td>&hellip;</td><td>&hellip;</td><td>&hellip;</td><td>&hellip;</td><td>&hellip;</td><td>&hellip;</td><td>&hellip;</td><td>&hellip;</td><td>&hellip;</td><td>&hellip;</td><td>&hellip;</td><td>&hellip;</td><td>&hellip;</td><td>&hellip;</td><td>&hellip;</td><td>&hellip;</td><td>&hellip;</td><td>&hellip;</td><td>&hellip;</td><td>&hellip;</td><td>&hellip;</td><td>&hellip;</td><td>&hellip;</td><td>&hellip;</td><td>&hellip;</td><td>&hellip;</td><td>&hellip;</td><td>&hellip;</td><td>&hellip;</td><td>&hellip;</td><td>&hellip;</td><td>&hellip;</td><td>&hellip;</td><td>&hellip;</td><td>&hellip;</td><td>&hellip;</td><td>&hellip;</td><td>&hellip;</td><td>&hellip;</td><td>&hellip;</td><td>&hellip;</td><td>&hellip;</td><td>&hellip;</td><td>&hellip;</td><td>&hellip;</td><td>&hellip;</td><td>&hellip;</td><td>&hellip;</td><td>&hellip;</td><td>&hellip;</td><td>&hellip;</td><td>&hellip;</td><td>&hellip;</td><td>&hellip;</td><td>&hellip;</td></tr><tr><td>2180</td><td>2024-06-14</td><td>2024-06-26</td><td>4</td><td>0</td><td>4</td><td>0</td><td>2</td><td>0</td><td>0</td><td>1</td><td>1</td><td>0</td><td>0</td><td>1</td><td>0</td><td>0</td><td>0</td><td>0</td><td>0</td><td>17.0</td><td>8</td><td>0</td><td>8</td><td>0</td><td>0</td><td>2</td><td>3</td><td>0</td><td>0</td><td>0</td><td>0</td><td>0</td><td>3</td><td>2</td><td>0</td><td>2</td><td>&hellip;</td><td>-0.62567</td><td>-0.777788</td><td>-0.301498</td><td>-0.945252</td><td>-1.279137</td><td>0.691401</td><td>0.817376</td><td>-1.02332</td><td>-0.81614</td><td>-0.178529</td><td>0.933509</td><td>-0.982812</td><td>0.70214</td><td>0.833685</td><td>-1.375752</td><td>0.885888</td><td>-0.07</td><td>-1.596913</td><td>0.751807</td><td>1.12338</td><td>-1.866712</td><td>0.761037</td><td>1.270045</td><td>-0.387831</td><td>0.728139</td><td>0.562489</td><td>0.465769</td><td>0.946116</td><td>-0.627547</td><td>-1.048752</td><td>1.3209</td><td>0.520172</td><td>-0.942456</td><td>2.423243</td><td>1.805391</td><td>-1.593937</td><td>-0.016761</td></tr><tr><td>2165</td><td>2024-06-14</td><td>2024-06-26</td><td>2</td><td>4</td><td>2</td><td>0</td><td>2</td><td>0</td><td>0</td><td>1</td><td>1</td><td>0</td><td>0</td><td>0</td><td>0</td><td>0</td><td>0</td><td>0</td><td>1</td><td>18.0</td><td>6</td><td>0</td><td>8</td><td>0</td><td>0</td><td>2</td><td>5</td><td>0</td><td>2</td><td>0</td><td>0</td><td>0</td><td>1</td><td>2</td><td>0</td><td>0</td><td>&hellip;</td><td>-1.049536</td><td>-1.314968</td><td>-0.713606</td><td>-1.131128</td><td>-1.133345</td><td>0.242067</td><td>1.28258</td><td>-0.253737</td><td>-0.320043</td><td>0.103618</td><td>1.267807</td><td>-1.6168</td><td>1.148695</td><td>1.403823</td><td>-1.581312</td><td>0.911769</td><td>-0.217583</td><td>-2.282619</td><td>1.244141</td><td>2.130059</td><td>-2.059493</td><td>0.270791</td><td>1.723001</td><td>-0.766399</td><td>1.214405</td><td>1.143148</td><td>0.002446</td><td>0.004076</td><td>-0.450679</td><td>-1.262136</td><td>1.371525</td><td>0.016057</td><td>-1.258707</td><td>2.12102</td><td>2.407068</td><td>-1.802861</td><td>0.640665</td></tr><tr><td>1447</td><td>2024-06-14</td><td>2024-06-26</td><td>2</td><td>4</td><td>2</td><td>0</td><td>2</td><td>0</td><td>0</td><td>1</td><td>1</td><td>0</td><td>0</td><td>0</td><td>0</td><td>0</td><td>0</td><td>0</td><td>1</td><td>17.0</td><td>6</td><td>0</td><td>8</td><td>0</td><td>0</td><td>2</td><td>5</td><td>0</td><td>2</td><td>0</td><td>0</td><td>0</td><td>1</td><td>2</td><td>0</td><td>0</td><td>&hellip;</td><td>-1.075959</td><td>-1.272872</td><td>-0.683007</td><td>-1.037163</td><td>-1.098213</td><td>0.271331</td><td>1.10044</td><td>-0.299899</td><td>-0.328867</td><td>0.153602</td><td>1.162819</td><td>-1.585063</td><td>1.046046</td><td>1.40031</td><td>-1.735721</td><td>0.907964</td><td>-0.227644</td><td>-2.155351</td><td>1.189494</td><td>1.973362</td><td>-2.127309</td><td>0.236179</td><td>1.614888</td><td>-0.790486</td><td>1.313396</td><td>1.230613</td><td>0.03165</td><td>-0.009709</td><td>-0.508302</td><td>-1.191732</td><td>1.415217</td><td>0.047899</td><td>-1.254509</td><td>2.206986</td><td>2.389335</td><td>-1.737017</td><td>0.744006</td></tr><tr><td>1398</td><td>2024-06-14</td><td>2024-06-26</td><td>2</td><td>4</td><td>2</td><td>0</td><td>2</td><td>0</td><td>0</td><td>0</td><td>1</td><td>0</td><td>0</td><td>1</td><td>0</td><td>0</td><td>0</td><td>0</td><td>0</td><td>18.0</td><td>6</td><td>0</td><td>8</td><td>0</td><td>0</td><td>2</td><td>5</td><td>0</td><td>2</td><td>0</td><td>0</td><td>0</td><td>1</td><td>2</td><td>0</td><td>0</td><td>&hellip;</td><td>-1.126441</td><td>-1.298202</td><td>-0.601704</td><td>-0.954946</td><td>-1.122315</td><td>0.318861</td><td>1.06353</td><td>-0.334708</td><td>-0.49867</td><td>0.194456</td><td>1.126625</td><td>-1.546157</td><td>0.997868</td><td>1.430608</td><td>-1.674853</td><td>0.898182</td><td>-0.241645</td><td>-2.152937</td><td>1.292495</td><td>2.078293</td><td>-2.145041</td><td>0.288563</td><td>1.506974</td><td>-0.740484</td><td>1.281917</td><td>1.209379</td><td>0.107306</td><td>0.107841</td><td>-0.476854</td><td>-1.27685</td><td>1.395743</td><td>0.185864</td><td>-1.242511</td><td>2.142474</td><td>2.340147</td><td>-1.71835</td><td>0.687664</td></tr><tr><td>154</td><td>2024-06-14</td><td>2024-06-26</td><td>2</td><td>4</td><td>2</td><td>0</td><td>2</td><td>0</td><td>0</td><td>1</td><td>0</td><td>1</td><td>0</td><td>1</td><td>0</td><td>0</td><td>0</td><td>0</td><td>0</td><td>18.0</td><td>6</td><td>0</td><td>8</td><td>0</td><td>0</td><td>2</td><td>5</td><td>0</td><td>2</td><td>0</td><td>0</td><td>0</td><td>1</td><td>2</td><td>0</td><td>0</td><td>&hellip;</td><td>-1.075959</td><td>-1.272872</td><td>-0.683007</td><td>-1.037163</td><td>-1.098213</td><td>0.271331</td><td>1.10044</td><td>-0.299899</td><td>-0.328867</td><td>0.153602</td><td>1.162819</td><td>-1.585063</td><td>1.046046</td><td>1.40031</td><td>-1.735721</td><td>0.907964</td><td>-0.227644</td><td>-2.155351</td><td>1.189494</td><td>1.973362</td><td>-2.127309</td><td>0.236179</td><td>1.614888</td><td>-0.790486</td><td>1.313396</td><td>1.230613</td><td>0.03165</td><td>-0.009709</td><td>-0.508302</td><td>-1.191732</td><td>1.415217</td><td>0.047899</td><td>-1.254509</td><td>2.206986</td><td>2.389335</td><td>-1.737017</td><td>0.744006</td></tr></tbody></table></div>"
      ],
      "text/plain": [
       "shape: (291_928, 146)\n",
       "┌──────────┬────────────┬────────────┬───────────┬───┬──────────┬──────────┬───────────┬───────────┐\n",
       "│ id_aluno ┆ first_data ┆ last_data_ ┆ dia_seman ┆ … ┆ field_92 ┆ field_93 ┆ field_94  ┆ field_95  │\n",
       "│ ---      ┆ _aula      ┆ aula       ┆ a_1       ┆   ┆ ---      ┆ ---      ┆ ---       ┆ ---       │\n",
       "│ i64      ┆ ---        ┆ ---        ┆ ---       ┆   ┆ f64      ┆ f64      ┆ f64       ┆ f64       │\n",
       "│          ┆ date       ┆ date       ┆ i64       ┆   ┆          ┆          ┆           ┆           │\n",
       "╞══════════╪════════════╪════════════╪═══════════╪═══╪══════════╪══════════╪═══════════╪═══════════╡\n",
       "│ 414      ┆ 2021-07-01 ┆ 2021-08-16 ┆ 4         ┆ … ┆ 1.252169 ┆ 1.184306 ┆ -1.669529 ┆ -0.53963  │\n",
       "│ 277      ┆ 2021-07-01 ┆ 2021-08-17 ┆ 1         ┆ … ┆ 2.405578 ┆ 1.154716 ┆ -1.53277  ┆ -0.047658 │\n",
       "│ 685      ┆ 2021-07-01 ┆ 2021-08-17 ┆ 1         ┆ … ┆ 2.326548 ┆ 1.657062 ┆ -1.498753 ┆ -0.542094 │\n",
       "│ 691      ┆ 2021-07-01 ┆ 2021-08-17 ┆ 0         ┆ … ┆ 2.236657 ┆ 1.646614 ┆ -1.595921 ┆ -0.209151 │\n",
       "│ 426      ┆ 2021-07-01 ┆ 2021-08-17 ┆ 4         ┆ … ┆ 2.045845 ┆ 1.103302 ┆ -1.893464 ┆ -0.291509 │\n",
       "│ …        ┆ …          ┆ …          ┆ …         ┆ … ┆ …        ┆ …        ┆ …         ┆ …         │\n",
       "│ 2180     ┆ 2024-06-14 ┆ 2024-06-26 ┆ 4         ┆ … ┆ 2.423243 ┆ 1.805391 ┆ -1.593937 ┆ -0.016761 │\n",
       "│ 2165     ┆ 2024-06-14 ┆ 2024-06-26 ┆ 2         ┆ … ┆ 2.12102  ┆ 2.407068 ┆ -1.802861 ┆ 0.640665  │\n",
       "│ 1447     ┆ 2024-06-14 ┆ 2024-06-26 ┆ 2         ┆ … ┆ 2.206986 ┆ 2.389335 ┆ -1.737017 ┆ 0.744006  │\n",
       "│ 1398     ┆ 2024-06-14 ┆ 2024-06-26 ┆ 2         ┆ … ┆ 2.142474 ┆ 2.340147 ┆ -1.71835  ┆ 0.687664  │\n",
       "│ 154      ┆ 2024-06-14 ┆ 2024-06-26 ┆ 2         ┆ … ┆ 2.206986 ┆ 2.389335 ┆ -1.737017 ┆ 0.744006  │\n",
       "└──────────┴────────────┴────────────┴───────────┴───┴──────────┴──────────┴───────────┴───────────┘"
      ]
     },
     "execution_count": 48,
     "metadata": {},
     "output_type": "execute_result"
    }
   ],
   "source": [
    "abt = abt.select(\n",
    "    pl.all().exclude('conteudo', 'conteudo_embedding'),\n",
    "    pl.col('conteudo_embedding').list.to_struct()\n",
    ").unnest('conteudo_embedding')\n",
    "\n",
    "abt"
   ]
  },
  {
   "cell_type": "code",
   "execution_count": 49,
   "metadata": {},
   "outputs": [],
   "source": [
    "pickle.dump(abt, open(\"abt.pkl\", \"wb\"))"
   ]
  },
  {
   "cell_type": "markdown",
   "metadata": {},
   "source": [
    "### Modelagem - Separando Bases"
   ]
  },
  {
   "cell_type": "code",
   "execution_count": 50,
   "metadata": {},
   "outputs": [],
   "source": [
    "abt_train = abt.filter(pl.col('first_data_aula') < datetime(2024, 1, 1))\n",
    "abt_test = abt.filter(pl.col('first_data_aula') > datetime(2024, 1, 1))"
   ]
  },
  {
   "cell_type": "code",
   "execution_count": 51,
   "metadata": {},
   "outputs": [],
   "source": [
    "X_train = abt_train.drop(['id_aluno', 'next_presente', 'first_data_aula', 'last_data_aula', 'last_seq'])\n",
    "X_test = abt_test.drop(['id_aluno', 'next_presente', 'first_data_aula', 'last_data_aula', 'last_seq'])\n",
    "\n",
    "y_train = abt_train['next_presente']\n",
    "y_test = abt_test['next_presente']"
   ]
  },
  {
   "cell_type": "code",
   "execution_count": 52,
   "metadata": {},
   "outputs": [
    {
     "data": {
      "text/plain": [
       "((242702, 141), (49226, 141))"
      ]
     },
     "execution_count": 52,
     "metadata": {},
     "output_type": "execute_result"
    }
   ],
   "source": [
    "X_train.shape, X_test.shape"
   ]
  },
  {
   "cell_type": "code",
   "execution_count": 53,
   "metadata": {},
   "outputs": [
    {
     "data": {
      "text/html": [
       "<div><style>\n",
       ".dataframe > thead > tr,\n",
       ".dataframe > tbody > tr {\n",
       "  text-align: right;\n",
       "  white-space: pre-wrap;\n",
       "}\n",
       "</style>\n",
       "<small>shape: (2, 2)</small><table border=\"1\" class=\"dataframe\"><thead><tr><th>next_presente</th><th>proportion</th></tr><tr><td>i32</td><td>f64</td></tr></thead><tbody><tr><td>1</td><td>0.768556</td></tr><tr><td>0</td><td>0.231444</td></tr></tbody></table></div>"
      ],
      "text/plain": [
       "shape: (2, 2)\n",
       "┌───────────────┬────────────┐\n",
       "│ next_presente ┆ proportion │\n",
       "│ ---           ┆ ---        │\n",
       "│ i32           ┆ f64        │\n",
       "╞═══════════════╪════════════╡\n",
       "│ 1             ┆ 0.768556   │\n",
       "│ 0             ┆ 0.231444   │\n",
       "└───────────────┴────────────┘"
      ]
     },
     "execution_count": 53,
     "metadata": {},
     "output_type": "execute_result"
    }
   ],
   "source": [
    "y_train.value_counts(normalize=True)"
   ]
  },
  {
   "cell_type": "code",
   "execution_count": 54,
   "metadata": {},
   "outputs": [],
   "source": [
    "rus = RandomUnderSampler(random_state=42)\n",
    "X_resampled, y_resampled = rus.fit_resample(X_train.to_pandas(), y_train.to_pandas())"
   ]
  },
  {
   "cell_type": "code",
   "execution_count": 55,
   "metadata": {},
   "outputs": [
    {
     "data": {
      "text/plain": [
       "next_presente\n",
       "0    0.5\n",
       "1    0.5\n",
       "Name: proportion, dtype: float64"
      ]
     },
     "execution_count": 55,
     "metadata": {},
     "output_type": "execute_result"
    }
   ],
   "source": [
    "y_resampled.value_counts(normalize=True)"
   ]
  },
  {
   "cell_type": "code",
   "execution_count": 56,
   "metadata": {},
   "outputs": [
    {
     "data": {
      "text/plain": [
       "(112344,)"
      ]
     },
     "execution_count": 56,
     "metadata": {},
     "output_type": "execute_result"
    }
   ],
   "source": [
    "y_resampled.shape"
   ]
  },
  {
   "cell_type": "markdown",
   "metadata": {},
   "source": [
    "### Modelagem - Treinando Modelos"
   ]
  },
  {
   "cell_type": "code",
   "execution_count": 45,
   "metadata": {},
   "outputs": [
    {
     "name": "stdout",
     "output_type": "stream",
     "text": [
      "Fitting 5 folds for each of 20 candidates, totalling 100 fits\n"
     ]
    },
    {
     "name": "stdout",
     "output_type": "stream",
     "text": [
      "[CV] END max_depth=5, min_samples_leaf=1, min_samples_split=5, n_estimators=100; total time=   3.5s\n",
      "[CV] END max_depth=5, min_samples_leaf=1, min_samples_split=5, n_estimators=100; total time=   3.6s\n",
      "[CV] END max_depth=5, min_samples_leaf=1, min_samples_split=5, n_estimators=100; total time=   3.6s\n",
      "[CV] END max_depth=5, min_samples_leaf=1, min_samples_split=5, n_estimators=100; total time=   3.6s\n",
      "[CV] END max_depth=5, min_samples_leaf=1, min_samples_split=5, n_estimators=100; total time=   3.7s\n",
      "[CV] END max_depth=5, min_samples_leaf=2, min_samples_split=5, n_estimators=300; total time=   7.5s\n",
      "[CV] END max_depth=5, min_samples_leaf=2, min_samples_split=5, n_estimators=300; total time=   9.3s\n",
      "[CV] END max_depth=5, min_samples_leaf=2, min_samples_split=5, n_estimators=300; total time=   9.8s\n",
      "[CV] END max_depth=10, min_samples_leaf=4, min_samples_split=2, n_estimators=300; total time=  14.3s\n",
      "[CV] END max_depth=5, min_samples_leaf=1, min_samples_split=2, n_estimators=100; total time=   2.8s\n",
      "[CV] END max_depth=5, min_samples_leaf=1, min_samples_split=2, n_estimators=100; total time=   2.9s\n",
      "[CV] END max_depth=10, min_samples_leaf=4, min_samples_split=2, n_estimators=300; total time=  17.2s\n",
      "[CV] END max_depth=10, min_samples_leaf=4, min_samples_split=2, n_estimators=300; total time=  18.5s\n",
      "[CV] END max_depth=5, min_samples_leaf=2, min_samples_split=5, n_estimators=300; total time=   8.9s\n",
      "[CV] END max_depth=5, min_samples_leaf=1, min_samples_split=2, n_estimators=100; total time=   3.3s\n",
      "[CV] END max_depth=5, min_samples_leaf=1, min_samples_split=2, n_estimators=100; total time=   3.4s\n",
      "[CV] END max_depth=5, min_samples_leaf=1, min_samples_split=2, n_estimators=100; total time=   3.8s\n",
      "[CV] END max_depth=5, min_samples_leaf=4, min_samples_split=5, n_estimators=100; total time=   3.8s\n",
      "[CV] END max_depth=5, min_samples_leaf=2, min_samples_split=5, n_estimators=300; total time=   9.8s\n",
      "[CV] END max_depth=5, min_samples_leaf=4, min_samples_split=5, n_estimators=100; total time=   3.8s\n",
      "[CV] END max_depth=5, min_samples_leaf=4, min_samples_split=5, n_estimators=100; total time=   3.7s\n",
      "[CV] END max_depth=5, min_samples_leaf=4, min_samples_split=5, n_estimators=100; total time=   3.7s\n",
      "[CV] END max_depth=10, min_samples_leaf=4, min_samples_split=2, n_estimators=300; total time=  21.3s\n",
      "[CV] END max_depth=5, min_samples_leaf=4, min_samples_split=5, n_estimators=100; total time=   3.2s\n",
      "[CV] END max_depth=10, min_samples_leaf=4, min_samples_split=2, n_estimators=300; total time=  22.4s\n",
      "[CV] END max_depth=5, min_samples_leaf=1, min_samples_split=10, n_estimators=300; total time=   8.6s\n",
      "[CV] END max_depth=5, min_samples_leaf=1, min_samples_split=10, n_estimators=300; total time=   8.7s\n",
      "[CV] END max_depth=10, min_samples_leaf=2, min_samples_split=2, n_estimators=300; total time=  15.3s\n",
      "[CV] END max_depth=5, min_samples_leaf=1, min_samples_split=10, n_estimators=300; total time=  11.8s\n",
      "[CV] END max_depth=10, min_samples_leaf=2, min_samples_split=2, n_estimators=300; total time=  15.5s\n",
      "[CV] END max_depth=10, min_samples_leaf=2, min_samples_split=2, n_estimators=300; total time=  14.8s\n",
      "[CV] END max_depth=10, min_samples_leaf=2, min_samples_split=2, n_estimators=300; total time=  15.5s\n",
      "[CV] END max_depth=10, min_samples_leaf=2, min_samples_split=2, n_estimators=300; total time=  15.5s\n",
      "[CV] END max_depth=5, min_samples_leaf=1, min_samples_split=10, n_estimators=300; total time=   8.8s\n",
      "[CV] END max_depth=5, min_samples_leaf=1, min_samples_split=10, n_estimators=300; total time=   9.2s\n",
      "[CV] END max_depth=5, min_samples_leaf=2, min_samples_split=2, n_estimators=100; total time=   3.2s\n",
      "[CV] END max_depth=5, min_samples_leaf=2, min_samples_split=2, n_estimators=100; total time=   3.2s\n",
      "[CV] END max_depth=5, min_samples_leaf=2, min_samples_split=2, n_estimators=100; total time=   3.1s\n",
      "[CV] END max_depth=5, min_samples_leaf=2, min_samples_split=2, n_estimators=100; total time=   3.0s\n",
      "[CV] END max_depth=5, min_samples_leaf=4, min_samples_split=10, n_estimators=300; total time=   9.1s\n",
      "[CV] END max_depth=5, min_samples_leaf=4, min_samples_split=10, n_estimators=300; total time=   9.4s\n",
      "[CV] END max_depth=5, min_samples_leaf=4, min_samples_split=10, n_estimators=300; total time=   9.4s\n",
      "[CV] END max_depth=5, min_samples_leaf=4, min_samples_split=10, n_estimators=300; total time=   9.2s\n",
      "[CV] END max_depth=5, min_samples_leaf=4, min_samples_split=10, n_estimators=300; total time=   9.5s\n",
      "[CV] END max_depth=5, min_samples_leaf=2, min_samples_split=2, n_estimators=100; total time=   3.1s\n",
      "[CV] END max_depth=10, min_samples_leaf=2, min_samples_split=5, n_estimators=300; total time=  15.4s\n",
      "[CV] END max_depth=10, min_samples_leaf=2, min_samples_split=5, n_estimators=300; total time=  15.8s\n",
      "[CV] END max_depth=10, min_samples_leaf=2, min_samples_split=5, n_estimators=300; total time=  15.9s\n",
      "[CV] END max_depth=10, min_samples_leaf=2, min_samples_split=5, n_estimators=300; total time=  15.6s\n",
      "[CV] END max_depth=10, min_samples_leaf=2, min_samples_split=5, n_estimators=300; total time=  15.3s\n",
      "[CV] END max_depth=10, min_samples_leaf=1, min_samples_split=10, n_estimators=600; total time=  30.1s\n",
      "[CV] END max_depth=5, min_samples_leaf=4, min_samples_split=5, n_estimators=600; total time=  17.3s\n",
      "[CV] END max_depth=5, min_samples_leaf=4, min_samples_split=5, n_estimators=600; total time=  17.6s\n",
      "[CV] END max_depth=10, min_samples_leaf=1, min_samples_split=10, n_estimators=600; total time=  31.4s\n",
      "[CV] END max_depth=10, min_samples_leaf=1, min_samples_split=10, n_estimators=600; total time=  31.4s\n",
      "[CV] END max_depth=5, min_samples_leaf=4, min_samples_split=5, n_estimators=600; total time=  17.6s\n",
      "[CV] END max_depth=5, min_samples_leaf=1, min_samples_split=10, n_estimators=200; total time=   5.7s\n",
      "[CV] END max_depth=5, min_samples_leaf=1, min_samples_split=10, n_estimators=200; total time=   5.9s\n",
      "[CV] END max_depth=5, min_samples_leaf=1, min_samples_split=10, n_estimators=200; total time=   5.8s\n",
      "[CV] END max_depth=5, min_samples_leaf=1, min_samples_split=10, n_estimators=200; total time=   6.0s\n",
      "[CV] END max_depth=5, min_samples_leaf=1, min_samples_split=10, n_estimators=200; total time=   5.7s\n",
      "[CV] END max_depth=10, min_samples_leaf=1, min_samples_split=10, n_estimators=600; total time=  30.9s\n",
      "[CV] END max_depth=10, min_samples_leaf=1, min_samples_split=10, n_estimators=600; total time=  30.6s\n",
      "[CV] END max_depth=10, min_samples_leaf=1, min_samples_split=10, n_estimators=200; total time=   9.9s\n",
      "[CV] END max_depth=5, min_samples_leaf=4, min_samples_split=5, n_estimators=600; total time=  17.6s\n",
      "[CV] END max_depth=5, min_samples_leaf=4, min_samples_split=5, n_estimators=600; total time=  17.2s\n",
      "[CV] END max_depth=10, min_samples_leaf=1, min_samples_split=10, n_estimators=200; total time=  10.6s\n",
      "[CV] END max_depth=10, min_samples_leaf=1, min_samples_split=10, n_estimators=200; total time=  10.6s\n",
      "[CV] END max_depth=5, min_samples_leaf=1, min_samples_split=5, n_estimators=200; total time=   5.9s\n",
      "[CV] END max_depth=5, min_samples_leaf=1, min_samples_split=5, n_estimators=200; total time=   6.9s\n",
      "[CV] END max_depth=5, min_samples_leaf=1, min_samples_split=5, n_estimators=200; total time=   7.1s\n",
      "[CV] END max_depth=10, min_samples_leaf=1, min_samples_split=10, n_estimators=200; total time=  11.7s\n",
      "[CV] END max_depth=10, min_samples_leaf=1, min_samples_split=10, n_estimators=200; total time=  11.5s\n",
      "[CV] END max_depth=5, min_samples_leaf=1, min_samples_split=5, n_estimators=200; total time=   6.9s\n",
      "[CV] END max_depth=5, min_samples_leaf=1, min_samples_split=5, n_estimators=200; total time=   6.8s\n",
      "[CV] END max_depth=5, min_samples_leaf=2, min_samples_split=10, n_estimators=300; total time=   9.7s\n",
      "[CV] END max_depth=5, min_samples_leaf=2, min_samples_split=10, n_estimators=300; total time=  10.1s\n",
      "[CV] END max_depth=10, min_samples_leaf=2, min_samples_split=10, n_estimators=100; total time=   5.3s\n",
      "[CV] END max_depth=10, min_samples_leaf=2, min_samples_split=10, n_estimators=100; total time=   5.6s\n",
      "[CV] END max_depth=10, min_samples_leaf=2, min_samples_split=10, n_estimators=100; total time=   5.6s\n",
      "[CV] END max_depth=5, min_samples_leaf=2, min_samples_split=10, n_estimators=300; total time=   9.1s\n",
      "[CV] END max_depth=5, min_samples_leaf=2, min_samples_split=10, n_estimators=300; total time=   9.2s\n",
      "[CV] END max_depth=10, min_samples_leaf=2, min_samples_split=10, n_estimators=100; total time=   5.4s\n",
      "[CV] END max_depth=5, min_samples_leaf=2, min_samples_split=10, n_estimators=300; total time=   9.2s\n",
      "[CV] END max_depth=10, min_samples_leaf=2, min_samples_split=10, n_estimators=100; total time=   5.5s\n",
      "[CV] END max_depth=5, min_samples_leaf=4, min_samples_split=10, n_estimators=200; total time=   5.9s\n",
      "[CV] END max_depth=5, min_samples_leaf=4, min_samples_split=10, n_estimators=200; total time=   6.1s\n",
      "[CV] END max_depth=10, min_samples_leaf=2, min_samples_split=2, n_estimators=200; total time=  10.6s\n",
      "[CV] END max_depth=5, min_samples_leaf=4, min_samples_split=10, n_estimators=200; total time=   5.9s\n",
      "[CV] END max_depth=10, min_samples_leaf=2, min_samples_split=2, n_estimators=200; total time=  11.1s\n",
      "[CV] END max_depth=10, min_samples_leaf=2, min_samples_split=2, n_estimators=200; total time=  10.9s\n",
      "[CV] END max_depth=10, min_samples_leaf=2, min_samples_split=2, n_estimators=200; total time=  10.8s\n",
      "[CV] END max_depth=10, min_samples_leaf=2, min_samples_split=2, n_estimators=200; total time=  10.5s\n",
      "[CV] END max_depth=5, min_samples_leaf=4, min_samples_split=10, n_estimators=200; total time=   5.9s\n",
      "[CV] END max_depth=5, min_samples_leaf=4, min_samples_split=10, n_estimators=200; total time=   5.8s\n",
      "[CV] END max_depth=10, min_samples_leaf=1, min_samples_split=2, n_estimators=600; total time=  26.9s\n",
      "[CV] END max_depth=10, min_samples_leaf=1, min_samples_split=2, n_estimators=600; total time=  27.5s\n",
      "[CV] END max_depth=10, min_samples_leaf=1, min_samples_split=2, n_estimators=600; total time=  26.7s\n",
      "[CV] END max_depth=10, min_samples_leaf=1, min_samples_split=2, n_estimators=600; total time=  27.2s\n",
      "[CV] END max_depth=10, min_samples_leaf=1, min_samples_split=2, n_estimators=600; total time=  25.3s\n"
     ]
    }
   ],
   "source": [
    "param_dist = {\n",
    "   'n_estimators': [100, 200, 300, 600],\n",
    "    'max_depth': [5, 10],\n",
    "    'min_samples_split': [2, 5, 10],\n",
    "    'min_samples_leaf': [1, 2, 4]\n",
    "}\n",
    "\n",
    "rf_cv = RandomizedSearchCV(\n",
    "    estimator= RandomForestClassifier(random_state=42),\n",
    "    param_distributions=param_dist,\n",
    "    n_iter=20,\n",
    "    cv=5,\n",
    "    verbose=2,\n",
    "    random_state=42,\n",
    "    n_jobs=-1\n",
    ")\n",
    "\n",
    "rf_cv.fit(X_resampled, y_resampled)\n",
    "best_rf = rf_cv.best_estimator_"
   ]
  },
  {
   "cell_type": "code",
   "execution_count": 46,
   "metadata": {},
   "outputs": [
    {
     "data": {
      "text/plain": [
       "{'n_estimators': 100,\n",
       " 'min_samples_split': 5,\n",
       " 'min_samples_leaf': 4,\n",
       " 'max_depth': 5}"
      ]
     },
     "execution_count": 46,
     "metadata": {},
     "output_type": "execute_result"
    }
   ],
   "source": [
    "rf_cv.best_params_"
   ]
  },
  {
   "cell_type": "code",
   "execution_count": 57,
   "metadata": {},
   "outputs": [],
   "source": [
    "best_rf = RandomForestClassifier(**{'n_estimators': 100,\n",
    " 'min_samples_split': 5,\n",
    " 'min_samples_leaf': 4,\n",
    " 'max_depth': 5,\n",
    " 'random_state': 42}).fit(X_resampled, y_resampled)"
   ]
  },
  {
   "cell_type": "code",
   "execution_count": 58,
   "metadata": {},
   "outputs": [
    {
     "name": "stdout",
     "output_type": "stream",
     "text": [
      "\n",
      "Relatório de Classificação:\n",
      "              precision    recall  f1-score   support\n",
      "\n",
      "           0       0.46      0.23      0.31      7067\n",
      "           1       0.88      0.96      0.92     42159\n",
      "\n",
      "    accuracy                           0.85     49226\n",
      "   macro avg       0.67      0.59      0.61     49226\n",
      "weighted avg       0.82      0.85      0.83     49226\n",
      "\n"
     ]
    }
   ],
   "source": [
    "y_pred = best_rf.predict(X_test)\n",
    "    \n",
    "# Gerar e imprimir o relatório de classificação\n",
    "print(\"\\nRelatório de Classificação:\")\n",
    "print(classification_report(y_test, y_pred))"
   ]
  },
  {
   "cell_type": "code",
   "execution_count": 63,
   "metadata": {},
   "outputs": [
    {
     "data": {
      "text/html": [
       "<div>\n",
       "<style scoped>\n",
       "    .dataframe tbody tr th:only-of-type {\n",
       "        vertical-align: middle;\n",
       "    }\n",
       "\n",
       "    .dataframe tbody tr th {\n",
       "        vertical-align: top;\n",
       "    }\n",
       "\n",
       "    .dataframe thead th {\n",
       "        text-align: right;\n",
       "    }\n",
       "</style>\n",
       "<table border=\"1\" class=\"dataframe\">\n",
       "  <thead>\n",
       "    <tr style=\"text-align: right;\">\n",
       "      <th></th>\n",
       "      <th>importance</th>\n",
       "    </tr>\n",
       "  </thead>\n",
       "  <tbody>\n",
       "    <tr>\n",
       "      <th>num_presencas</th>\n",
       "      <td>0.431336</td>\n",
       "    </tr>\n",
       "    <tr>\n",
       "      <th>ultima_presenca</th>\n",
       "      <td>0.120551</td>\n",
       "    </tr>\n",
       "    <tr>\n",
       "      <th>idade_aluno_media</th>\n",
       "      <td>0.052691</td>\n",
       "    </tr>\n",
       "    <tr>\n",
       "      <th>cargo_professor_Nenhum</th>\n",
       "      <td>0.041741</td>\n",
       "    </tr>\n",
       "    <tr>\n",
       "      <th>tem_pai</th>\n",
       "      <td>0.029789</td>\n",
       "    </tr>\n",
       "    <tr>\n",
       "      <th>cargo_professor_Psicóloga</th>\n",
       "      <td>0.025580</td>\n",
       "    </tr>\n",
       "    <tr>\n",
       "      <th>num_disciplinas</th>\n",
       "      <td>0.021055</td>\n",
       "    </tr>\n",
       "    <tr>\n",
       "      <th>cargo_professor_Professor</th>\n",
       "      <td>0.019518</td>\n",
       "    </tr>\n",
       "    <tr>\n",
       "      <th>tem_mae</th>\n",
       "      <td>0.018542</td>\n",
       "    </tr>\n",
       "    <tr>\n",
       "      <th>num_professores</th>\n",
       "      <td>0.010325</td>\n",
       "    </tr>\n",
       "    <tr>\n",
       "      <th>idade_professor</th>\n",
       "      <td>0.009576</td>\n",
       "    </tr>\n",
       "    <tr>\n",
       "      <th>field_23</th>\n",
       "      <td>0.009421</td>\n",
       "    </tr>\n",
       "    <tr>\n",
       "      <th>num_series</th>\n",
       "      <td>0.008805</td>\n",
       "    </tr>\n",
       "    <tr>\n",
       "      <th>field_43</th>\n",
       "      <td>0.008100</td>\n",
       "    </tr>\n",
       "    <tr>\n",
       "      <th>field_73</th>\n",
       "      <td>0.007257</td>\n",
       "    </tr>\n",
       "    <tr>\n",
       "      <th>field_77</th>\n",
       "      <td>0.006983</td>\n",
       "    </tr>\n",
       "    <tr>\n",
       "      <th>cargo_professor_Professora</th>\n",
       "      <td>0.006942</td>\n",
       "    </tr>\n",
       "    <tr>\n",
       "      <th>field_16</th>\n",
       "      <td>0.006516</td>\n",
       "    </tr>\n",
       "    <tr>\n",
       "      <th>num_periodos</th>\n",
       "      <td>0.006417</td>\n",
       "    </tr>\n",
       "    <tr>\n",
       "      <th>field_56</th>\n",
       "      <td>0.006076</td>\n",
       "    </tr>\n",
       "    <tr>\n",
       "      <th>field_81</th>\n",
       "      <td>0.005658</td>\n",
       "    </tr>\n",
       "    <tr>\n",
       "      <th>field_95</th>\n",
       "      <td>0.005178</td>\n",
       "    </tr>\n",
       "    <tr>\n",
       "      <th>field_82</th>\n",
       "      <td>0.004606</td>\n",
       "    </tr>\n",
       "    <tr>\n",
       "      <th>field_2</th>\n",
       "      <td>0.004372</td>\n",
       "    </tr>\n",
       "    <tr>\n",
       "      <th>field_6</th>\n",
       "      <td>0.004354</td>\n",
       "    </tr>\n",
       "  </tbody>\n",
       "</table>\n",
       "</div>"
      ],
      "text/plain": [
       "                            importance\n",
       "num_presencas                 0.431336\n",
       "ultima_presenca               0.120551\n",
       "idade_aluno_media             0.052691\n",
       "cargo_professor_Nenhum        0.041741\n",
       "tem_pai                       0.029789\n",
       "cargo_professor_Psicóloga     0.025580\n",
       "num_disciplinas               0.021055\n",
       "cargo_professor_Professor     0.019518\n",
       "tem_mae                       0.018542\n",
       "num_professores               0.010325\n",
       "idade_professor               0.009576\n",
       "field_23                      0.009421\n",
       "num_series                    0.008805\n",
       "field_43                      0.008100\n",
       "field_73                      0.007257\n",
       "field_77                      0.006983\n",
       "cargo_professor_Professora    0.006942\n",
       "field_16                      0.006516\n",
       "num_periodos                  0.006417\n",
       "field_56                      0.006076\n",
       "field_81                      0.005658\n",
       "field_95                      0.005178\n",
       "field_82                      0.004606\n",
       "field_2                       0.004372\n",
       "field_6                       0.004354"
      ]
     },
     "execution_count": 63,
     "metadata": {},
     "output_type": "execute_result"
    }
   ],
   "source": [
    "#feature importance\n",
    "feature_importance = pd.DataFrame(\n",
    "    best_rf.feature_importances_,\n",
    "    index=X_train.columns,\n",
    "    columns=['importance']\n",
    ").sort_values('importance', ascending=False)\n",
    "\n",
    "feature_importance.head(25)"
   ]
  },
  {
   "cell_type": "code",
   "execution_count": 64,
   "metadata": {},
   "outputs": [],
   "source": [
    "dict_model = {\n",
    "    'model': best_rf,\n",
    "    'cols': X_train.columns\n",
    "}"
   ]
  },
  {
   "cell_type": "code",
   "execution_count": 65,
   "metadata": {},
   "outputs": [],
   "source": [
    "pickle.dump(dict_model, open('../app/backend/model/model.pkl', 'wb'))"
   ]
  },
  {
   "cell_type": "markdown",
   "metadata": {},
   "source": [
    "## Explorar"
   ]
  },
  {
   "cell_type": "code",
   "execution_count": 121,
   "metadata": {},
   "outputs": [
    {
     "data": {
      "text/html": [
       "<div><style>\n",
       ".dataframe > thead > tr,\n",
       ".dataframe > tbody > tr {\n",
       "  text-align: right;\n",
       "  white-space: pre-wrap;\n",
       "}\n",
       "</style>\n",
       "<small>shape: (7_573, 2)</small><table border=\"1\" class=\"dataframe\"><thead><tr><th>conteudo_ministrado</th><th>count</th></tr><tr><td>str</td><td>u32</td></tr></thead><tbody><tr><td>&quot;Autoconhecimento &quot;</td><td>1378</td></tr><tr><td>&quot;Autoconhecimento&quot;</td><td>1206</td></tr><tr><td>&quot;Prova P2&quot;</td><td>892</td></tr><tr><td>&quot;Sentimentos e emoções&quot;</td><td>873</td></tr><tr><td>&quot;Atividades de estimulação cogn…</td><td>782</td></tr><tr><td>&hellip;</td><td>&hellip;</td></tr><tr><td>&quot;Diagnostic test - P4&quot;</td><td>3</td></tr><tr><td>&quot;AVALIAÇÃO DIAGNÓSTICA- SEGUNDO…</td><td>1</td></tr><tr><td>&quot;homework - review for the test…</td><td>1</td></tr><tr><td>&quot;Correcao da Avaliação  P 2&quot;</td><td>1</td></tr><tr><td>&quot;avaliação P1&quot;</td><td>1</td></tr></tbody></table></div>"
      ],
      "text/plain": [
       "shape: (7_573, 2)\n",
       "┌─────────────────────────────────┬───────┐\n",
       "│ conteudo_ministrado             ┆ count │\n",
       "│ ---                             ┆ ---   │\n",
       "│ str                             ┆ u32   │\n",
       "╞═════════════════════════════════╪═══════╡\n",
       "│ Autoconhecimento                ┆ 1378  │\n",
       "│ Autoconhecimento                ┆ 1206  │\n",
       "│ Prova P2                        ┆ 892   │\n",
       "│ Sentimentos e emoções           ┆ 873   │\n",
       "│ Atividades de estimulação cogn… ┆ 782   │\n",
       "│ …                               ┆ …     │\n",
       "│ Diagnostic test - P4            ┆ 3     │\n",
       "│ AVALIAÇÃO DIAGNÓSTICA- SEGUNDO… ┆ 1     │\n",
       "│ homework - review for the test… ┆ 1     │\n",
       "│ Correcao da Avaliação  P 2      ┆ 1     │\n",
       "│ avaliação P1                    ┆ 1     │\n",
       "└─────────────────────────────────┴───────┘"
      ]
     },
     "execution_count": 121,
     "metadata": {},
     "output_type": "execute_result"
    }
   ],
   "source": [
    "df['conteudo_ministrado'].value_counts().sort('count', descending=True)"
   ]
  },
  {
   "cell_type": "code",
   "execution_count": 122,
   "metadata": {},
   "outputs": [
    {
     "data": {
      "text/plain": [
       "<BarContainer object of 551 artists>"
      ]
     },
     "execution_count": 122,
     "metadata": {},
     "output_type": "execute_result"
    },
    {
     "data": {
      "image/png": "[encoded data removed]",
      "text/plain": [
       "<Figure size 1200x600 with 1 Axes>"
      ]
     },
     "metadata": {},
     "output_type": "display_data"
    }
   ],
   "source": [
    "data_aulas = df.group_by('data_aula').len().sort('data_aula')\n",
    "\n",
    "plt.figure(figsize=(12, 6))\n",
    "plt.bar(data_aulas['data_aula'], data_aulas['len'])"
   ]
  },
  {
   "cell_type": "code",
   "execution_count": null,
   "metadata": {},
   "outputs": [],
   "source": []
  }
 ],
 "metadata": {
  "kernelspec": {
   "display_name": ".venv",
   "language": "python",
   "name": "python3"
  },
  "language_info": {
   "codemirror_mode": {
    "name": "ipython",
    "version": 3
   },
   "file_extension": ".py",
   "mimetype": "text/x-python",
   "name": "python",
   "nbconvert_exporter": "python",
   "pygments_lexer": "ipython3",
   "version": "3.12.4"
  }
 },
 "nbformat": 4,
 "nbformat_minor": 2
}
